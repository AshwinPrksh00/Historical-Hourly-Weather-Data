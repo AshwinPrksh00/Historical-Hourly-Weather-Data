{
 "cells": [
  {
   "cell_type": "code",
   "execution_count": 1,
   "metadata": {},
   "outputs": [],
   "source": [
    "import numpy as np\n",
    "import pandas as pd\n",
    "import matplotlib.pyplot as plt\n",
    "import seaborn as sns\n",
    "%matplotlib inline\n",
    "\n",
    "import warnings\n",
    "warnings.filterwarnings(\"ignore\")"
   ]
  },
  {
   "cell_type": "code",
   "execution_count": 2,
   "metadata": {},
   "outputs": [],
   "source": [
    "humidity_df = pd.read_csv('humidity.csv')\n",
    "pressure_df = pd.read_csv('pressure.csv')\n",
    "temperature_df = pd.read_csv('temperature.csv')\n",
    "weather_description_df = pd.read_csv('weather_description.csv')\n",
    "wind_direction_df = pd.read_csv('wind_direction.csv')\n",
    "wind_speed_df = pd.read_csv('wind_speed.csv')"
   ]
  },
  {
   "cell_type": "code",
   "execution_count": null,
   "metadata": {},
   "outputs": [],
   "source": [
    "humidity = humidity_df[['datetime', 'Minneapolis']]\n",
    "pressure = pressure_df[['datetime', 'Minneapolis']]\n",
    "temperature = temperature_df[['datetime', 'Minneapolis']]\n",
    "weather_description = weather_description_df[['datetime', 'Minneapolis']]\n",
    "wind_direction = wind_direction_df[['datetime', 'Minneapolis']]\n",
    "wind_speed = wind_speed_df[['datetime', 'Minneapolis']]"
   ]
  }
 ],
 "metadata": {
  "kernelspec": {
   "display_name": "Python 3",
   "language": "python",
   "name": "python3"
  },
  "language_info": {
   "codemirror_mode": {
    "name": "ipython",
    "version": 3
   },
   "file_extension": ".py",
   "mimetype": "text/x-python",
   "name": "python",
   "nbconvert_exporter": "python",
   "pygments_lexer": "ipython3",
   "version": "3.7.0"
  }
 },
 "nbformat": 4,
 "nbformat_minor": 2
}
