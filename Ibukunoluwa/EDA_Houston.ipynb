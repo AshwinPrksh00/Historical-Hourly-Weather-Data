{
 "cells": [
  {
   "cell_type": "code",
   "execution_count": 1,
   "metadata": {},
   "outputs": [],
   "source": [
    "#Importing the required libraries\n",
    "\n",
    "import numpy as np\n",
    "import pandas as pd\n",
    "import matplotlib.pyplot as plt\n",
    "import seaborn as sns\n",
    "%matplotlib inline\n",
    "\n",
    "import warnings\n",
    "warnings.filterwarnings(\"ignore\")"
   ]
  },
  {
   "cell_type": "code",
   "execution_count": 2,
   "metadata": {},
   "outputs": [],
   "source": [
    "#Reading the database into the pandas dataframe\n",
    "\n",
    "humidity_df = pd.read_csv('humidity.csv')\n",
    "pressure_df = pd.read_csv('pressure.csv')\n",
    "temperature_df = pd.read_csv('temperature.csv')\n",
    "weather_description_df = pd.read_csv('weather_description.csv')\n",
    "wind_direction_df = pd.read_csv('wind_direction.csv')\n",
    "wind_speed_df = pd.read_csv('wind_speed.csv')"
   ]
  },
  {
   "cell_type": "code",
   "execution_count": 3,
   "metadata": {},
   "outputs": [],
   "source": [
    "#Extracting the datetime since its the most common data point\n",
    "\n",
    "humidity = humidity_df[['datetime', 'Houston']]\n",
    "pressure = pressure_df[['datetime', 'Houston']]\n",
    "temperature = temperature_df[['datetime', 'Houston']]\n",
    "weather_description = weather_description_df[['datetime', 'Houston']]\n",
    "wind_direction = wind_direction_df[['datetime', 'Houston']]\n",
    "wind_speed = wind_speed_df[['datetime', 'Houston']]"
   ]
  },
  {
   "cell_type": "code",
   "execution_count": 4,
   "metadata": {},
   "outputs": [
    {
     "data": {
      "text/html": [
       "<div>\n",
       "<style scoped>\n",
       "    .dataframe tbody tr th:only-of-type {\n",
       "        vertical-align: middle;\n",
       "    }\n",
       "\n",
       "    .dataframe tbody tr th {\n",
       "        vertical-align: top;\n",
       "    }\n",
       "\n",
       "    .dataframe thead th {\n",
       "        text-align: right;\n",
       "    }\n",
       "</style>\n",
       "<table border=\"1\" class=\"dataframe\">\n",
       "  <thead>\n",
       "    <tr style=\"text-align: right;\">\n",
       "      <th></th>\n",
       "      <th>datetime</th>\n",
       "      <th>Houston</th>\n",
       "    </tr>\n",
       "  </thead>\n",
       "  <tbody>\n",
       "    <tr>\n",
       "      <th>0</th>\n",
       "      <td>2012-10-01 12:00:00</td>\n",
       "      <td>NaN</td>\n",
       "    </tr>\n",
       "    <tr>\n",
       "      <th>1</th>\n",
       "      <td>2012-10-01 13:00:00</td>\n",
       "      <td>1.0</td>\n",
       "    </tr>\n",
       "    <tr>\n",
       "      <th>2</th>\n",
       "      <td>2012-10-01 14:00:00</td>\n",
       "      <td>1.0</td>\n",
       "    </tr>\n",
       "    <tr>\n",
       "      <th>3</th>\n",
       "      <td>2012-10-01 15:00:00</td>\n",
       "      <td>1.0</td>\n",
       "    </tr>\n",
       "    <tr>\n",
       "      <th>4</th>\n",
       "      <td>2012-10-01 16:00:00</td>\n",
       "      <td>1.0</td>\n",
       "    </tr>\n",
       "  </tbody>\n",
       "</table>\n",
       "</div>"
      ],
      "text/plain": [
       "              datetime  Houston\n",
       "0  2012-10-01 12:00:00      NaN\n",
       "1  2012-10-01 13:00:00      1.0\n",
       "2  2012-10-01 14:00:00      1.0\n",
       "3  2012-10-01 15:00:00      1.0\n",
       "4  2012-10-01 16:00:00      1.0"
      ]
     },
     "execution_count": 4,
     "metadata": {},
     "output_type": "execute_result"
    }
   ],
   "source": [
    "wind_speed.head()"
   ]
  },
  {
   "cell_type": "code",
   "execution_count": 5,
   "metadata": {},
   "outputs": [
    {
     "data": {
      "text/html": [
       "<div>\n",
       "<style scoped>\n",
       "    .dataframe tbody tr th:only-of-type {\n",
       "        vertical-align: middle;\n",
       "    }\n",
       "\n",
       "    .dataframe tbody tr th {\n",
       "        vertical-align: top;\n",
       "    }\n",
       "\n",
       "    .dataframe thead th {\n",
       "        text-align: right;\n",
       "    }\n",
       "</style>\n",
       "<table border=\"1\" class=\"dataframe\">\n",
       "  <thead>\n",
       "    <tr style=\"text-align: right;\">\n",
       "      <th></th>\n",
       "      <th>Datetime</th>\n",
       "      <th>Description</th>\n",
       "      <th>Humidity</th>\n",
       "      <th>Pressure</th>\n",
       "      <th>Temperature</th>\n",
       "      <th>Wind_Direction</th>\n",
       "      <th>Wind_Speed</th>\n",
       "    </tr>\n",
       "  </thead>\n",
       "  <tbody>\n",
       "    <tr>\n",
       "      <th>0</th>\n",
       "      <td>2012-10-01 12:00:00</td>\n",
       "      <td>NaN</td>\n",
       "      <td>NaN</td>\n",
       "      <td>NaN</td>\n",
       "      <td>NaN</td>\n",
       "      <td>NaN</td>\n",
       "      <td>NaN</td>\n",
       "    </tr>\n",
       "    <tr>\n",
       "      <th>1</th>\n",
       "      <td>2012-10-01 13:00:00</td>\n",
       "      <td>sky is clear</td>\n",
       "      <td>93.0</td>\n",
       "      <td>1009.0</td>\n",
       "      <td>288.270000</td>\n",
       "      <td>270.0</td>\n",
       "      <td>1.0</td>\n",
       "    </tr>\n",
       "    <tr>\n",
       "      <th>2</th>\n",
       "      <td>2012-10-01 14:00:00</td>\n",
       "      <td>sky is clear</td>\n",
       "      <td>92.0</td>\n",
       "      <td>1008.0</td>\n",
       "      <td>288.297576</td>\n",
       "      <td>268.0</td>\n",
       "      <td>1.0</td>\n",
       "    </tr>\n",
       "    <tr>\n",
       "      <th>3</th>\n",
       "      <td>2012-10-01 15:00:00</td>\n",
       "      <td>sky is clear</td>\n",
       "      <td>90.0</td>\n",
       "      <td>1008.0</td>\n",
       "      <td>288.334343</td>\n",
       "      <td>265.0</td>\n",
       "      <td>1.0</td>\n",
       "    </tr>\n",
       "    <tr>\n",
       "      <th>4</th>\n",
       "      <td>2012-10-01 16:00:00</td>\n",
       "      <td>sky is clear</td>\n",
       "      <td>89.0</td>\n",
       "      <td>1008.0</td>\n",
       "      <td>288.371111</td>\n",
       "      <td>263.0</td>\n",
       "      <td>1.0</td>\n",
       "    </tr>\n",
       "  </tbody>\n",
       "</table>\n",
       "</div>"
      ],
      "text/plain": [
       "              Datetime   Description  Humidity  Pressure  Temperature  \\\n",
       "0  2012-10-01 12:00:00           NaN       NaN       NaN          NaN   \n",
       "1  2012-10-01 13:00:00  sky is clear      93.0    1009.0   288.270000   \n",
       "2  2012-10-01 14:00:00  sky is clear      92.0    1008.0   288.297576   \n",
       "3  2012-10-01 15:00:00  sky is clear      90.0    1008.0   288.334343   \n",
       "4  2012-10-01 16:00:00  sky is clear      89.0    1008.0   288.371111   \n",
       "\n",
       "   Wind_Direction  Wind_Speed  \n",
       "0             NaN         NaN  \n",
       "1           270.0         1.0  \n",
       "2           268.0         1.0  \n",
       "3           265.0         1.0  \n",
       "4           263.0         1.0  "
      ]
     },
     "execution_count": 5,
     "metadata": {},
     "output_type": "execute_result"
    }
   ],
   "source": [
    "weather_df = (weather_description.merge(humidity, on = 'datetime')\n",
    "             .merge(pressure, on = 'datetime')\n",
    "             .merge(temperature, on = 'datetime')\n",
    "             .merge(wind_direction, on = 'datetime')\n",
    "             .merge(wind_speed, on = 'datetime')\n",
    "             )\n",
    "weather_df.columns = ['Datetime', 'Description', 'Humidity', 'Pressure', 'Temperature', 'Wind_Direction', 'Wind_Speed'] \n",
    "weather_df.head()"
   ]
  },
  {
   "cell_type": "code",
   "execution_count": 6,
   "metadata": {},
   "outputs": [
    {
     "name": "stdout",
     "output_type": "stream",
     "text": [
      "<class 'pandas.core.frame.DataFrame'>\n",
      "Int64Index: 45253 entries, 0 to 45252\n",
      "Data columns (total 7 columns):\n",
      " #   Column          Non-Null Count  Dtype  \n",
      "---  ------          --------------  -----  \n",
      " 0   Datetime        45253 non-null  object \n",
      " 1   Description     45252 non-null  object \n",
      " 2   Humidity        45132 non-null  float64\n",
      " 3   Pressure        45244 non-null  float64\n",
      " 4   Temperature     45250 non-null  float64\n",
      " 5   Wind_Direction  45251 non-null  float64\n",
      " 6   Wind_Speed      45250 non-null  float64\n",
      "dtypes: float64(5), object(2)\n",
      "memory usage: 2.8+ MB\n"
     ]
    }
   ],
   "source": [
    "weather_df.info()"
   ]
  },
  {
   "cell_type": "code",
   "execution_count": 7,
   "metadata": {},
   "outputs": [
    {
     "data": {
      "text/plain": [
       "Datetime            0\n",
       "Description         1\n",
       "Humidity          121\n",
       "Pressure            9\n",
       "Temperature         3\n",
       "Wind_Direction      2\n",
       "Wind_Speed          3\n",
       "dtype: int64"
      ]
     },
     "execution_count": 7,
     "metadata": {},
     "output_type": "execute_result"
    }
   ],
   "source": [
    "#Checking the amount of missing values\n",
    "weather_df.isnull().sum()"
   ]
  },
  {
   "cell_type": "code",
   "execution_count": 8,
   "metadata": {},
   "outputs": [
    {
     "data": {
      "text/plain": [
       "Datetime          0.000000\n",
       "Description       0.002210\n",
       "Humidity          0.267386\n",
       "Pressure          0.019888\n",
       "Temperature       0.006629\n",
       "Wind_Direction    0.004420\n",
       "Wind_Speed        0.006629\n",
       "dtype: float64"
      ]
     },
     "execution_count": 8,
     "metadata": {},
     "output_type": "execute_result"
    }
   ],
   "source": [
    "#Checking the percentage of missing values\n",
    "weather_df.isnull().mean()*100"
   ]
  },
  {
   "cell_type": "code",
   "execution_count": 9,
   "metadata": {},
   "outputs": [],
   "source": [
    "#Since the amount of missing values is very minute, so dropping all of them\n",
    "weather_df.dropna(inplace=True)"
   ]
  },
  {
   "cell_type": "code",
   "execution_count": 10,
   "metadata": {},
   "outputs": [
    {
     "data": {
      "text/plain": [
       "Datetime          0\n",
       "Description       0\n",
       "Humidity          0\n",
       "Pressure          0\n",
       "Temperature       0\n",
       "Wind_Direction    0\n",
       "Wind_Speed        0\n",
       "dtype: int64"
      ]
     },
     "execution_count": 10,
     "metadata": {},
     "output_type": "execute_result"
    }
   ],
   "source": [
    "weather_df.isnull().sum()"
   ]
  },
  {
   "cell_type": "code",
   "execution_count": 11,
   "metadata": {},
   "outputs": [
    {
     "data": {
      "text/html": [
       "<div>\n",
       "<style scoped>\n",
       "    .dataframe tbody tr th:only-of-type {\n",
       "        vertical-align: middle;\n",
       "    }\n",
       "\n",
       "    .dataframe tbody tr th {\n",
       "        vertical-align: top;\n",
       "    }\n",
       "\n",
       "    .dataframe thead th {\n",
       "        text-align: right;\n",
       "    }\n",
       "</style>\n",
       "<table border=\"1\" class=\"dataframe\">\n",
       "  <thead>\n",
       "    <tr style=\"text-align: right;\">\n",
       "      <th></th>\n",
       "      <th>Humidity</th>\n",
       "      <th>Pressure</th>\n",
       "      <th>Temperature</th>\n",
       "      <th>Wind_Direction</th>\n",
       "      <th>Wind_Speed</th>\n",
       "    </tr>\n",
       "  </thead>\n",
       "  <tbody>\n",
       "    <tr>\n",
       "      <th>count</th>\n",
       "      <td>45126.000000</td>\n",
       "      <td>45126.000000</td>\n",
       "      <td>45126.000000</td>\n",
       "      <td>45126.000000</td>\n",
       "      <td>45126.000000</td>\n",
       "    </tr>\n",
       "    <tr>\n",
       "      <th>mean</th>\n",
       "      <td>74.069561</td>\n",
       "      <td>1019.617693</td>\n",
       "      <td>294.234321</td>\n",
       "      <td>154.348380</td>\n",
       "      <td>2.960045</td>\n",
       "    </tr>\n",
       "    <tr>\n",
       "      <th>std</th>\n",
       "      <td>18.584102</td>\n",
       "      <td>8.051679</td>\n",
       "      <td>7.746500</td>\n",
       "      <td>95.483251</td>\n",
       "      <td>1.893034</td>\n",
       "    </tr>\n",
       "    <tr>\n",
       "      <th>min</th>\n",
       "      <td>12.000000</td>\n",
       "      <td>982.000000</td>\n",
       "      <td>267.570000</td>\n",
       "      <td>0.000000</td>\n",
       "      <td>0.000000</td>\n",
       "    </tr>\n",
       "    <tr>\n",
       "      <th>25%</th>\n",
       "      <td>61.000000</td>\n",
       "      <td>1014.000000</td>\n",
       "      <td>289.420000</td>\n",
       "      <td>82.000000</td>\n",
       "      <td>2.000000</td>\n",
       "    </tr>\n",
       "    <tr>\n",
       "      <th>50%</th>\n",
       "      <td>78.000000</td>\n",
       "      <td>1018.000000</td>\n",
       "      <td>295.690000</td>\n",
       "      <td>151.000000</td>\n",
       "      <td>3.000000</td>\n",
       "    </tr>\n",
       "    <tr>\n",
       "      <th>75%</th>\n",
       "      <td>88.000000</td>\n",
       "      <td>1025.000000</td>\n",
       "      <td>299.700000</td>\n",
       "      <td>200.000000</td>\n",
       "      <td>4.000000</td>\n",
       "    </tr>\n",
       "    <tr>\n",
       "      <th>max</th>\n",
       "      <td>100.000000</td>\n",
       "      <td>1052.000000</td>\n",
       "      <td>312.910000</td>\n",
       "      <td>360.000000</td>\n",
       "      <td>15.000000</td>\n",
       "    </tr>\n",
       "  </tbody>\n",
       "</table>\n",
       "</div>"
      ],
      "text/plain": [
       "           Humidity      Pressure   Temperature  Wind_Direction    Wind_Speed\n",
       "count  45126.000000  45126.000000  45126.000000    45126.000000  45126.000000\n",
       "mean      74.069561   1019.617693    294.234321      154.348380      2.960045\n",
       "std       18.584102      8.051679      7.746500       95.483251      1.893034\n",
       "min       12.000000    982.000000    267.570000        0.000000      0.000000\n",
       "25%       61.000000   1014.000000    289.420000       82.000000      2.000000\n",
       "50%       78.000000   1018.000000    295.690000      151.000000      3.000000\n",
       "75%       88.000000   1025.000000    299.700000      200.000000      4.000000\n",
       "max      100.000000   1052.000000    312.910000      360.000000     15.000000"
      ]
     },
     "execution_count": 11,
     "metadata": {},
     "output_type": "execute_result"
    }
   ],
   "source": [
    "weather_df.describe()"
   ]
  },
  {
   "cell_type": "code",
   "execution_count": 12,
   "metadata": {},
   "outputs": [
    {
     "data": {
      "text/plain": [
       "Index(['Datetime', 'Description', 'Humidity', 'Pressure', 'Temperature',\n",
       "       'Wind_Direction', 'Wind_Speed'],\n",
       "      dtype='object')"
      ]
     },
     "execution_count": 12,
     "metadata": {},
     "output_type": "execute_result"
    }
   ],
   "source": [
    "weather_df.columns"
   ]
  },
  {
   "cell_type": "code",
   "execution_count": 13,
   "metadata": {},
   "outputs": [
    {
     "data": {
      "text/plain": [
       "array(['sky is clear', 'few clouds', 'scattered clouds', 'broken clouds',\n",
       "       'overcast clouds', 'light rain', 'moderate rain', 'haze', 'mist',\n",
       "       'fog', 'thunderstorm with light rain',\n",
       "       'thunderstorm with heavy rain', 'light intensity drizzle',\n",
       "       'thunderstorm', 'proximity thunderstorm', 'thunderstorm with rain',\n",
       "       'shower rain', 'proximity shower rain', 'proximity moderate rain',\n",
       "       'heavy intensity rain', 'drizzle', 'dust', 'smoke',\n",
       "       'very heavy rain', 'light snow',\n",
       "       'proximity thunderstorm with rain', 'squalls',\n",
       "       'thunderstorm with light drizzle', 'thunderstorm with drizzle',\n",
       "       'heavy intensity shower rain', 'sand', 'heavy intensity drizzle',\n",
       "       'volcanic ash'], dtype=object)"
      ]
     },
     "execution_count": 13,
     "metadata": {},
     "output_type": "execute_result"
    }
   ],
   "source": [
    "weather_df['Description'].unique()"
   ]
  },
  {
   "cell_type": "code",
   "execution_count": 16,
   "metadata": {},
   "outputs": [
    {
     "data": {
      "text/plain": [
       "33"
      ]
     },
     "execution_count": 16,
     "metadata": {},
     "output_type": "execute_result"
    }
   ],
   "source": [
    "weather_df['Description'].nunique()"
   ]
  },
  {
   "cell_type": "code",
   "execution_count": 14,
   "metadata": {},
   "outputs": [
    {
     "data": {
      "text/plain": [
       "<matplotlib.axes._subplots.AxesSubplot at 0x1c8ce5f9a58>"
      ]
     },
     "execution_count": 14,
     "metadata": {},
     "output_type": "execute_result"
    },
    {
     "data": {
      "image/png": "[encoded data removed]",
      "text/plain": [
       "<Figure size 1296x432 with 1 Axes>"
      ]
     },
     "metadata": {
      "needs_background": "light"
     },
     "output_type": "display_data"
    }
   ],
   "source": [
    "plt.figure(figsize = (18,6))\n",
    "sns.countplot(x=\"Description\", data=weather_df)"
   ]
  },
  {
   "cell_type": "code",
   "execution_count": 15,
   "metadata": {},
   "outputs": [
    {
     "data": {
      "text/plain": [
       "sky is clear                        12613\n",
       "mist                                 6109\n",
       "broken clouds                        5163\n",
       "light rain                           4724\n",
       "scattered clouds                     4228\n",
       "overcast clouds                      3469\n",
       "few clouds                           3307\n",
       "moderate rain                        1701\n",
       "haze                                 1201\n",
       "heavy intensity rain                  858\n",
       "fog                                   701\n",
       "proximity thunderstorm                337\n",
       "thunderstorm                          218\n",
       "light intensity drizzle                95\n",
       "very heavy rain                        79\n",
       "proximity shower rain                  79\n",
       "drizzle                                63\n",
       "thunderstorm with light rain           53\n",
       "thunderstorm with rain                 28\n",
       "thunderstorm with heavy rain           26\n",
       "smoke                                  19\n",
       "shower rain                            14\n",
       "proximity thunderstorm with rain       12\n",
       "light snow                             11\n",
       "thunderstorm with light drizzle         4\n",
       "proximity moderate rain                 4\n",
       "sand                                    2\n",
       "thunderstorm with drizzle               2\n",
       "heavy intensity drizzle                 2\n",
       "squalls                                 1\n",
       "heavy intensity shower rain             1\n",
       "volcanic ash                            1\n",
       "dust                                    1\n",
       "Name: Description, dtype: int64"
      ]
     },
     "execution_count": 15,
     "metadata": {},
     "output_type": "execute_result"
    }
   ],
   "source": [
    "#Amount of unqiue data points is too much to make plots\n",
    "weather_df['Description'].value_counts().sort_values(ascending = False)"
   ]
  },
  {
   "cell_type": "code",
   "execution_count": 17,
   "metadata": {},
   "outputs": [],
   "source": [
    "# A Clear weather is more frequent in Houston Texas"
   ]
  },
  {
   "cell_type": "code",
   "execution_count": 20,
   "metadata": {},
   "outputs": [
    {
     "data": {
      "text/plain": [
       "<matplotlib.axes._subplots.AxesSubplot at 0x1c8cecf0748>"
      ]
     },
     "execution_count": 20,
     "metadata": {},
     "output_type": "execute_result"
    },
    {
     "data": {
      "image/png": "[encoded data removed]",
      "text/plain": [
       "<Figure size 1080x576 with 1 Axes>"
      ]
     },
     "metadata": {
      "needs_background": "light"
     },
     "output_type": "display_data"
    }
   ],
   "source": [
    "plt.figure(figsize=(15,8))\n",
    "sns.distplot(weather_df['Humidity'], kde=True)"
   ]
  },
  {
   "cell_type": "code",
   "execution_count": 22,
   "metadata": {},
   "outputs": [
    {
     "data": {
      "text/plain": [
       "<matplotlib.axes._subplots.AxesSubplot at 0x1c8ceddbcc0>"
      ]
     },
     "execution_count": 22,
     "metadata": {},
     "output_type": "execute_result"
    },
    {
     "data": {
      "image/png": "[encoded data removed]",
      "text/plain": [
       "<Figure size 1080x576 with 1 Axes>"
      ]
     },
     "metadata": {
      "needs_background": "light"
     },
     "output_type": "display_data"
    }
   ],
   "source": [
    "plt.figure(figsize=(15,8))\n",
    "sns.distplot(weather_df['Pressure'], kde=True)"
   ]
  },
  {
   "cell_type": "code",
   "execution_count": 23,
   "metadata": {},
   "outputs": [],
   "source": [
    "#Both Humidity and Pressure don't really follow a normal distribution"
   ]
  },
  {
   "cell_type": "code",
   "execution_count": 24,
   "metadata": {},
   "outputs": [
    {
     "data": {
      "text/plain": [
       "<matplotlib.axes._subplots.AxesSubplot at 0x1c8ced77588>"
      ]
     },
     "execution_count": 24,
     "metadata": {},
     "output_type": "execute_result"
    },
    {
     "data": {
      "image/png": "[encoded data removed]",
      "text/plain": [
       "<Figure size 1080x576 with 1 Axes>"
      ]
     },
     "metadata": {
      "needs_background": "light"
     },
     "output_type": "display_data"
    }
   ],
   "source": [
    "plt.figure(figsize=(15,8))\n",
    "sns.distplot(weather_df['Temperature'], kde=True)"
   ]
  },
  {
   "cell_type": "code",
   "execution_count": null,
   "metadata": {},
   "outputs": [],
   "source": [
    "# Temperature on the oher hand follows a normal distribution"
   ]
  }
 ],
 "metadata": {
  "kernelspec": {
   "display_name": "Python 3",
   "language": "python",
   "name": "python3"
  },
  "language_info": {
   "codemirror_mode": {
    "name": "ipython",
    "version": 3
   },
   "file_extension": ".py",
   "mimetype": "text/x-python",
   "name": "python",
   "nbconvert_exporter": "python",
   "pygments_lexer": "ipython3",
   "version": "3.7.0"
  }
 },
 "nbformat": 4,
 "nbformat_minor": 2
}
