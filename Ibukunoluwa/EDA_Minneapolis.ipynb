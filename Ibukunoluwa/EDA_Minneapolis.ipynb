{
 "cells": [
  {
   "cell_type": "code",
   "execution_count": 1,
   "metadata": {},
   "outputs": [],
   "source": [
    "import numpy as np\n",
    "import pandas as pd\n",
    "import matplotlib.pyplot as plt\n",
    "import seaborn as sns\n",
    "%matplotlib inline\n",
    "\n",
    "import warnings\n",
    "warnings.filterwarnings(\"ignore\")"
   ]
  },
  {
   "cell_type": "code",
   "execution_count": 2,
   "metadata": {},
   "outputs": [],
   "source": [
    "humidity_df = pd.read_csv('humidity.csv')\n",
    "pressure_df = pd.read_csv('pressure.csv')\n",
    "temperature_df = pd.read_csv('temperature.csv')\n",
    "weather_description_df = pd.read_csv('weather_description.csv')\n",
    "wind_direction_df = pd.read_csv('wind_direction.csv')\n",
    "wind_speed_df = pd.read_csv('wind_speed.csv')"
   ]
  },
  {
   "cell_type": "code",
   "execution_count": 3,
   "metadata": {},
   "outputs": [],
   "source": [
    "humidity = humidity_df[['datetime', 'Minneapolis']]\n",
    "pressure = pressure_df[['datetime', 'Minneapolis']]\n",
    "temperature = temperature_df[['datetime', 'Minneapolis']]\n",
    "weather_description = weather_description_df[['datetime', 'Minneapolis']]\n",
    "wind_direction = wind_direction_df[['datetime', 'Minneapolis']]\n",
    "wind_speed = wind_speed_df[['datetime', 'Minneapolis']]"
   ]
  },
  {
   "cell_type": "code",
   "execution_count": 4,
   "metadata": {},
   "outputs": [
    {
     "data": {
      "text/html": [
       "<div>\n",
       "<style scoped>\n",
       "    .dataframe tbody tr th:only-of-type {\n",
       "        vertical-align: middle;\n",
       "    }\n",
       "\n",
       "    .dataframe tbody tr th {\n",
       "        vertical-align: top;\n",
       "    }\n",
       "\n",
       "    .dataframe thead th {\n",
       "        text-align: right;\n",
       "    }\n",
       "</style>\n",
       "<table border=\"1\" class=\"dataframe\">\n",
       "  <thead>\n",
       "    <tr style=\"text-align: right;\">\n",
       "      <th></th>\n",
       "      <th>datetime</th>\n",
       "      <th>Minneapolis</th>\n",
       "    </tr>\n",
       "  </thead>\n",
       "  <tbody>\n",
       "    <tr>\n",
       "      <th>0</th>\n",
       "      <td>2012-10-01 12:00:00</td>\n",
       "      <td>NaN</td>\n",
       "    </tr>\n",
       "    <tr>\n",
       "      <th>1</th>\n",
       "      <td>2012-10-01 13:00:00</td>\n",
       "      <td>3.0</td>\n",
       "    </tr>\n",
       "    <tr>\n",
       "      <th>2</th>\n",
       "      <td>2012-10-01 14:00:00</td>\n",
       "      <td>3.0</td>\n",
       "    </tr>\n",
       "    <tr>\n",
       "      <th>3</th>\n",
       "      <td>2012-10-01 15:00:00</td>\n",
       "      <td>3.0</td>\n",
       "    </tr>\n",
       "    <tr>\n",
       "      <th>4</th>\n",
       "      <td>2012-10-01 16:00:00</td>\n",
       "      <td>3.0</td>\n",
       "    </tr>\n",
       "  </tbody>\n",
       "</table>\n",
       "</div>"
      ],
      "text/plain": [
       "              datetime  Minneapolis\n",
       "0  2012-10-01 12:00:00          NaN\n",
       "1  2012-10-01 13:00:00          3.0\n",
       "2  2012-10-01 14:00:00          3.0\n",
       "3  2012-10-01 15:00:00          3.0\n",
       "4  2012-10-01 16:00:00          3.0"
      ]
     },
     "execution_count": 4,
     "metadata": {},
     "output_type": "execute_result"
    }
   ],
   "source": [
    "wind_speed.head()"
   ]
  },
  {
   "cell_type": "code",
   "execution_count": 5,
   "metadata": {},
   "outputs": [
    {
     "data": {
      "text/html": [
       "<div>\n",
       "<style scoped>\n",
       "    .dataframe tbody tr th:only-of-type {\n",
       "        vertical-align: middle;\n",
       "    }\n",
       "\n",
       "    .dataframe tbody tr th {\n",
       "        vertical-align: top;\n",
       "    }\n",
       "\n",
       "    .dataframe thead th {\n",
       "        text-align: right;\n",
       "    }\n",
       "</style>\n",
       "<table border=\"1\" class=\"dataframe\">\n",
       "  <thead>\n",
       "    <tr style=\"text-align: right;\">\n",
       "      <th></th>\n",
       "      <th>Datetime</th>\n",
       "      <th>Description</th>\n",
       "      <th>Humidity</th>\n",
       "      <th>Pressure</th>\n",
       "      <th>Temperature</th>\n",
       "      <th>Wind_Direction</th>\n",
       "      <th>Wind_Speed</th>\n",
       "    </tr>\n",
       "  </thead>\n",
       "  <tbody>\n",
       "    <tr>\n",
       "      <th>0</th>\n",
       "      <td>2012-10-01 12:00:00</td>\n",
       "      <td>NaN</td>\n",
       "      <td>NaN</td>\n",
       "      <td>NaN</td>\n",
       "      <td>NaN</td>\n",
       "      <td>NaN</td>\n",
       "      <td>NaN</td>\n",
       "    </tr>\n",
       "    <tr>\n",
       "      <th>1</th>\n",
       "      <td>2012-10-01 13:00:00</td>\n",
       "      <td>broken clouds</td>\n",
       "      <td>67.0</td>\n",
       "      <td>1012.0</td>\n",
       "      <td>286.870000</td>\n",
       "      <td>330.0</td>\n",
       "      <td>3.0</td>\n",
       "    </tr>\n",
       "    <tr>\n",
       "      <th>2</th>\n",
       "      <td>2012-10-01 14:00:00</td>\n",
       "      <td>broken clouds</td>\n",
       "      <td>66.0</td>\n",
       "      <td>1012.0</td>\n",
       "      <td>286.893636</td>\n",
       "      <td>329.0</td>\n",
       "      <td>3.0</td>\n",
       "    </tr>\n",
       "    <tr>\n",
       "      <th>3</th>\n",
       "      <td>2012-10-01 15:00:00</td>\n",
       "      <td>broken clouds</td>\n",
       "      <td>66.0</td>\n",
       "      <td>1012.0</td>\n",
       "      <td>286.951401</td>\n",
       "      <td>329.0</td>\n",
       "      <td>3.0</td>\n",
       "    </tr>\n",
       "    <tr>\n",
       "      <th>4</th>\n",
       "      <td>2012-10-01 16:00:00</td>\n",
       "      <td>broken clouds</td>\n",
       "      <td>65.0</td>\n",
       "      <td>1012.0</td>\n",
       "      <td>287.009166</td>\n",
       "      <td>329.0</td>\n",
       "      <td>3.0</td>\n",
       "    </tr>\n",
       "  </tbody>\n",
       "</table>\n",
       "</div>"
      ],
      "text/plain": [
       "              Datetime    Description  Humidity  Pressure  Temperature  \\\n",
       "0  2012-10-01 12:00:00            NaN       NaN       NaN          NaN   \n",
       "1  2012-10-01 13:00:00  broken clouds      67.0    1012.0   286.870000   \n",
       "2  2012-10-01 14:00:00  broken clouds      66.0    1012.0   286.893636   \n",
       "3  2012-10-01 15:00:00  broken clouds      66.0    1012.0   286.951401   \n",
       "4  2012-10-01 16:00:00  broken clouds      65.0    1012.0   287.009166   \n",
       "\n",
       "   Wind_Direction  Wind_Speed  \n",
       "0             NaN         NaN  \n",
       "1           330.0         3.0  \n",
       "2           329.0         3.0  \n",
       "3           329.0         3.0  \n",
       "4           329.0         3.0  "
      ]
     },
     "execution_count": 5,
     "metadata": {},
     "output_type": "execute_result"
    }
   ],
   "source": [
    "weather_df = (weather_description.merge(humidity, on = 'datetime')\n",
    "             .merge(pressure, on = 'datetime')\n",
    "             .merge(temperature, on = 'datetime')\n",
    "             .merge(wind_direction, on = 'datetime')\n",
    "             .merge(wind_speed, on = 'datetime')\n",
    "             )\n",
    "weather_df.columns = ['Datetime', 'Description', 'Humidity', 'Pressure', 'Temperature', 'Wind_Direction', 'Wind_Speed'] \n",
    "weather_df.head()"
   ]
  },
  {
   "cell_type": "code",
   "execution_count": null,
   "metadata": {},
   "outputs": [],
   "source": []
  }
 ],
 "metadata": {
  "kernelspec": {
   "display_name": "Python 3",
   "language": "python",
   "name": "python3"
  },
  "language_info": {
   "codemirror_mode": {
    "name": "ipython",
    "version": 3
   },
   "file_extension": ".py",
   "mimetype": "text/x-python",
   "name": "python",
   "nbconvert_exporter": "python",
   "pygments_lexer": "ipython3",
   "version": "3.7.0"
  }
 },
 "nbformat": 4,
 "nbformat_minor": 2
}
