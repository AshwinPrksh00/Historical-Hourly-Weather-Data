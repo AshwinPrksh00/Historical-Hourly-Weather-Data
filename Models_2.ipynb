{
  "cells": [
    {
      "cell_type": "code",
      "execution_count": 1,
      "id": "584014a4",
      "metadata": {
        "id": "584014a4"
      },
      "outputs": [],
      "source": [
        "import warnings\n",
        "warnings.filterwarnings('ignore')"
      ]
    },
    {
      "cell_type": "markdown",
      "source": [
        "### Importing the libraries"
      ],
      "metadata": {
        "id": "2GBx8U72wP_6"
      },
      "id": "2GBx8U72wP_6"
    },
    {
      "cell_type": "code",
      "execution_count": 2,
      "id": "dfca6374",
      "metadata": {
        "id": "dfca6374"
      },
      "outputs": [],
      "source": [
        "# import preprocessing libraries\n",
        "import pandas as pd\n",
        "import numpy as np\n",
        "from sklearn.model_selection import StratifiedKFold, train_test_split\n",
        "from sklearn.preprocessing import StandardScaler\n",
        "import seaborn as sns\n",
        "import matplotlib.pyplot as plt\n",
        "from sklearn.preprocessing import LabelEncoder\n",
        "from sklearn.metrics import confusion_matrix, ConfusionMatrixDisplay, f1_score, classification_report\n",
        "\n",
        "# Import model algorithms\n",
        "from sklearn.ensemble import RandomForestClassifier\n",
        "import lightgbm as lgb\n",
        "import xgboost as xgb"
      ]
    },
    {
      "cell_type": "code",
      "execution_count": 3,
      "id": "d0ad5dc7",
      "metadata": {
        "colab": {
          "base_uri": "https://localhost:8080/",
          "height": 206
        },
        "id": "d0ad5dc7",
        "outputId": "63f265c7-1aca-43da-f957-3bea9cfc61d1"
      },
      "outputs": [
        {
          "output_type": "execute_result",
          "data": {
            "text/html": [
              "\n",
              "  <div id=\"df-4438c9b3-ba5d-4123-9ea2-fc8b509a48f8\">\n",
              "    <div class=\"colab-df-container\">\n",
              "      <div>\n",
              "<style scoped>\n",
              "    .dataframe tbody tr th:only-of-type {\n",
              "        vertical-align: middle;\n",
              "    }\n",
              "\n",
              "    .dataframe tbody tr th {\n",
              "        vertical-align: top;\n",
              "    }\n",
              "\n",
              "    .dataframe thead th {\n",
              "        text-align: right;\n",
              "    }\n",
              "</style>\n",
              "<table border=\"1\" class=\"dataframe\">\n",
              "  <thead>\n",
              "    <tr style=\"text-align: right;\">\n",
              "      <th></th>\n",
              "      <th>datetime</th>\n",
              "      <th>pressure</th>\n",
              "      <th>humidity</th>\n",
              "      <th>temperature</th>\n",
              "      <th>weather</th>\n",
              "      <th>wind direction</th>\n",
              "      <th>wind speed</th>\n",
              "    </tr>\n",
              "  </thead>\n",
              "  <tbody>\n",
              "    <tr>\n",
              "      <th>0</th>\n",
              "      <td>2012-10-01 12:00:00</td>\n",
              "      <td>NaN</td>\n",
              "      <td>NaN</td>\n",
              "      <td>NaN</td>\n",
              "      <td>sky is not clear</td>\n",
              "      <td>NaN</td>\n",
              "      <td>NaN</td>\n",
              "    </tr>\n",
              "    <tr>\n",
              "      <th>1</th>\n",
              "      <td>2012-10-01 13:00:00</td>\n",
              "      <td>1012.0</td>\n",
              "      <td>63.0</td>\n",
              "      <td>305.470000</td>\n",
              "      <td>sky is clear</td>\n",
              "      <td>0.0</td>\n",
              "      <td>0.0</td>\n",
              "    </tr>\n",
              "    <tr>\n",
              "      <th>2</th>\n",
              "      <td>2012-10-01 14:00:00</td>\n",
              "      <td>1012.0</td>\n",
              "      <td>62.0</td>\n",
              "      <td>304.310000</td>\n",
              "      <td>sky is clear</td>\n",
              "      <td>0.0</td>\n",
              "      <td>0.0</td>\n",
              "    </tr>\n",
              "    <tr>\n",
              "      <th>3</th>\n",
              "      <td>2012-10-01 15:00:00</td>\n",
              "      <td>1012.0</td>\n",
              "      <td>62.0</td>\n",
              "      <td>304.281841</td>\n",
              "      <td>sky is clear</td>\n",
              "      <td>0.0</td>\n",
              "      <td>0.0</td>\n",
              "    </tr>\n",
              "    <tr>\n",
              "      <th>4</th>\n",
              "      <td>2012-10-01 16:00:00</td>\n",
              "      <td>1012.0</td>\n",
              "      <td>62.0</td>\n",
              "      <td>304.238015</td>\n",
              "      <td>sky is clear</td>\n",
              "      <td>0.0</td>\n",
              "      <td>0.0</td>\n",
              "    </tr>\n",
              "  </tbody>\n",
              "</table>\n",
              "</div>\n",
              "      <button class=\"colab-df-convert\" onclick=\"convertToInteractive('df-4438c9b3-ba5d-4123-9ea2-fc8b509a48f8')\"\n",
              "              title=\"Convert this dataframe to an interactive table.\"\n",
              "              style=\"display:none;\">\n",
              "        \n",
              "  <svg xmlns=\"http://www.w3.org/2000/svg\" height=\"24px\"viewBox=\"0 0 24 24\"\n",
              "       width=\"24px\">\n",
              "    <path d=\"M0 0h24v24H0V0z\" fill=\"none\"/>\n",
              "    <path d=\"M18.56 5.44l.94 2.06.94-2.06 2.06-.94-2.06-.94-.94-2.06-.94 2.06-2.06.94zm-11 1L8.5 8.5l.94-2.06 2.06-.94-2.06-.94L8.5 2.5l-.94 2.06-2.06.94zm10 10l.94 2.06.94-2.06 2.06-.94-2.06-.94-.94-2.06-.94 2.06-2.06.94z\"/><path d=\"M17.41 7.96l-1.37-1.37c-.4-.4-.92-.59-1.43-.59-.52 0-1.04.2-1.43.59L10.3 9.45l-7.72 7.72c-.78.78-.78 2.05 0 2.83L4 21.41c.39.39.9.59 1.41.59.51 0 1.02-.2 1.41-.59l7.78-7.78 2.81-2.81c.8-.78.8-2.07 0-2.86zM5.41 20L4 18.59l7.72-7.72 1.47 1.35L5.41 20z\"/>\n",
              "  </svg>\n",
              "      </button>\n",
              "      \n",
              "  <style>\n",
              "    .colab-df-container {\n",
              "      display:flex;\n",
              "      flex-wrap:wrap;\n",
              "      gap: 12px;\n",
              "    }\n",
              "\n",
              "    .colab-df-convert {\n",
              "      background-color: #E8F0FE;\n",
              "      border: none;\n",
              "      border-radius: 50%;\n",
              "      cursor: pointer;\n",
              "      display: none;\n",
              "      fill: #1967D2;\n",
              "      height: 32px;\n",
              "      padding: 0 0 0 0;\n",
              "      width: 32px;\n",
              "    }\n",
              "\n",
              "    .colab-df-convert:hover {\n",
              "      background-color: #E2EBFA;\n",
              "      box-shadow: 0px 1px 2px rgba(60, 64, 67, 0.3), 0px 1px 3px 1px rgba(60, 64, 67, 0.15);\n",
              "      fill: #174EA6;\n",
              "    }\n",
              "\n",
              "    [theme=dark] .colab-df-convert {\n",
              "      background-color: #3B4455;\n",
              "      fill: #D2E3FC;\n",
              "    }\n",
              "\n",
              "    [theme=dark] .colab-df-convert:hover {\n",
              "      background-color: #434B5C;\n",
              "      box-shadow: 0px 1px 3px 1px rgba(0, 0, 0, 0.15);\n",
              "      filter: drop-shadow(0px 1px 2px rgba(0, 0, 0, 0.3));\n",
              "      fill: #FFFFFF;\n",
              "    }\n",
              "  </style>\n",
              "\n",
              "      <script>\n",
              "        const buttonEl =\n",
              "          document.querySelector('#df-4438c9b3-ba5d-4123-9ea2-fc8b509a48f8 button.colab-df-convert');\n",
              "        buttonEl.style.display =\n",
              "          google.colab.kernel.accessAllowed ? 'block' : 'none';\n",
              "\n",
              "        async function convertToInteractive(key) {\n",
              "          const element = document.querySelector('#df-4438c9b3-ba5d-4123-9ea2-fc8b509a48f8');\n",
              "          const dataTable =\n",
              "            await google.colab.kernel.invokeFunction('convertToInteractive',\n",
              "                                                     [key], {});\n",
              "          if (!dataTable) return;\n",
              "\n",
              "          const docLinkHtml = 'Like what you see? Visit the ' +\n",
              "            '<a target=\"_blank\" href=https://colab.research.google.com/notebooks/data_table.ipynb>data table notebook</a>'\n",
              "            + ' to learn more about interactive tables.';\n",
              "          element.innerHTML = '';\n",
              "          dataTable['output_type'] = 'display_data';\n",
              "          await google.colab.output.renderOutput(dataTable, element);\n",
              "          const docLink = document.createElement('div');\n",
              "          docLink.innerHTML = docLinkHtml;\n",
              "          element.appendChild(docLink);\n",
              "        }\n",
              "      </script>\n",
              "    </div>\n",
              "  </div>\n",
              "  "
            ],
            "text/plain": [
              "              datetime  pressure  ...  wind direction  wind speed\n",
              "0  2012-10-01 12:00:00       NaN  ...             NaN         NaN\n",
              "1  2012-10-01 13:00:00    1012.0  ...             0.0         0.0\n",
              "2  2012-10-01 14:00:00    1012.0  ...             0.0         0.0\n",
              "3  2012-10-01 15:00:00    1012.0  ...             0.0         0.0\n",
              "4  2012-10-01 16:00:00    1012.0  ...             0.0         0.0\n",
              "\n",
              "[5 rows x 7 columns]"
            ]
          },
          "metadata": {},
          "execution_count": 3
        }
      ],
      "source": [
        "Tel_Aviv = pd.read_csv('/content/Tel_Aviv.csv')\n",
        "Tel_Aviv.head()"
      ]
    },
    {
      "cell_type": "code",
      "execution_count": 4,
      "id": "7240ea4e",
      "metadata": {
        "colab": {
          "base_uri": "https://localhost:8080/"
        },
        "id": "7240ea4e",
        "outputId": "da73651d-8d13-49c6-e0db-85f2cbb9d172"
      },
      "outputs": [
        {
          "output_type": "stream",
          "name": "stdout",
          "text": [
            "<class 'pandas.core.frame.DataFrame'>\n",
            "RangeIndex: 45253 entries, 0 to 45252\n",
            "Data columns (total 7 columns):\n",
            " #   Column          Non-Null Count  Dtype  \n",
            "---  ------          --------------  -----  \n",
            " 0   datetime        45253 non-null  object \n",
            " 1   pressure        44323 non-null  float64\n",
            " 2   humidity        44140 non-null  float64\n",
            " 3   temperature     44460 non-null  float64\n",
            " 4   weather         45253 non-null  object \n",
            " 5   wind direction  45252 non-null  float64\n",
            " 6   wind speed      44459 non-null  float64\n",
            "dtypes: float64(5), object(2)\n",
            "memory usage: 2.4+ MB\n"
          ]
        }
      ],
      "source": [
        "Tel_Aviv.info()"
      ]
    },
    {
      "cell_type": "code",
      "execution_count": 5,
      "id": "23a6a1e7",
      "metadata": {
        "colab": {
          "base_uri": "https://localhost:8080/"
        },
        "id": "23a6a1e7",
        "outputId": "cb2b8233-3233-4f8c-a3b0-479d715631d8"
      },
      "outputs": [
        {
          "output_type": "execute_result",
          "data": {
            "text/plain": [
              "datetime             0\n",
              "pressure           930\n",
              "humidity          1113\n",
              "temperature        793\n",
              "weather              0\n",
              "wind direction       1\n",
              "wind speed         794\n",
              "dtype: int64"
            ]
          },
          "metadata": {},
          "execution_count": 5
        }
      ],
      "source": [
        "Tel_Aviv.isnull().sum()"
      ]
    },
    {
      "cell_type": "code",
      "execution_count": 6,
      "id": "6cf2dfc9",
      "metadata": {
        "colab": {
          "base_uri": "https://localhost:8080/"
        },
        "id": "6cf2dfc9",
        "outputId": "51074bcd-55f7-4186-d1ea-f128e538ce32"
      },
      "outputs": [
        {
          "output_type": "stream",
          "name": "stdout",
          "text": [
            "Percentage of missing values in Pressure column : 2.0551123682407795 %\n",
            "Percentage of missing values in Humidity column : 2.459505447152675 %\n",
            "Percentage of missing values in Temperature column : 1.752370008618213 %\n",
            "Percentage of missing values in Wind Direction column : 0.002209798245420193 %\n",
            "Percentage of missing values in Wind Speed column : 1.7545798068636334 %\n"
          ]
        }
      ],
      "source": [
        "# Percentage of missing values per column\n",
        "print('Percentage of missing values in Pressure column :', ((Tel_Aviv['pressure'].isnull().sum()/Tel_Aviv.shape[0]) * 100),\"%\")\n",
        "print('Percentage of missing values in Humidity column :', ((Tel_Aviv['humidity'].isnull().sum()/Tel_Aviv.shape[0]) * 100),\"%\")\n",
        "print('Percentage of missing values in Temperature column :', ((Tel_Aviv['temperature'].isnull().sum()/Tel_Aviv.shape[0]) * 100),\"%\")\n",
        "print('Percentage of missing values in Wind Direction column :', ((Tel_Aviv['wind direction'].isnull().sum()/Tel_Aviv.shape[0]) * 100),\"%\")\n",
        "print('Percentage of missing values in Wind Speed column :', ((Tel_Aviv['wind speed'].isnull().sum()/Tel_Aviv.shape[0]) * 100),\"%\")"
      ]
    },
    {
      "cell_type": "code",
      "execution_count": 7,
      "id": "828291de",
      "metadata": {
        "colab": {
          "base_uri": "https://localhost:8080/"
        },
        "id": "828291de",
        "outputId": "2c5234e7-b6ca-441a-81eb-dd0b4c31ff53"
      },
      "outputs": [
        {
          "output_type": "execute_result",
          "data": {
            "text/plain": [
              "0"
            ]
          },
          "metadata": {},
          "execution_count": 7
        }
      ],
      "source": [
        "# checking for any duplicates\n",
        "Tel_Aviv.duplicated().sum()"
      ]
    },
    {
      "cell_type": "code",
      "execution_count": 8,
      "id": "7aa08bc8",
      "metadata": {
        "colab": {
          "base_uri": "https://localhost:8080/"
        },
        "id": "7aa08bc8",
        "outputId": "ab49b130-8b00-4ece-99e1-ee26e0550b8f"
      },
      "outputs": [
        {
          "output_type": "execute_result",
          "data": {
            "text/plain": [
              "(45253, 7)"
            ]
          },
          "metadata": {},
          "execution_count": 8
        }
      ],
      "source": [
        "# shape of dataframe\n",
        "Tel_Aviv.shape"
      ]
    },
    {
      "cell_type": "markdown",
      "source": [
        "### Feature Extraction"
      ],
      "metadata": {
        "id": "cTKzFV0pwdeK"
      },
      "id": "cTKzFV0pwdeK"
    },
    {
      "cell_type": "code",
      "execution_count": 9,
      "id": "c182aeaa",
      "metadata": {
        "id": "c182aeaa"
      },
      "outputs": [],
      "source": [
        "# let's split the datetime column to year, month, day, hour, minutes and seconds\n",
        "date = pd.DatetimeIndex(Tel_Aviv['datetime'])\n",
        "Tel_Aviv['date'] = date.date\n",
        "Tel_Aviv['year'] = date.year\n",
        "Tel_Aviv['month'] = date.month\n",
        "Tel_Aviv['day'] = date.day\n",
        "Tel_Aviv['hour'] = date.hour\n",
        "Tel_Aviv['minute'] = date.minute\n",
        "Tel_Aviv['second'] = date.second"
      ]
    },
    {
      "cell_type": "code",
      "source": [
        "Tel_Aviv.describe()"
      ],
      "metadata": {
        "colab": {
          "base_uri": "https://localhost:8080/",
          "height": 300
        },
        "id": "WSfVqY0FHSZZ",
        "outputId": "bba7c71a-81e3-4f09-ca92-db5b7a695108"
      },
      "id": "WSfVqY0FHSZZ",
      "execution_count": 10,
      "outputs": [
        {
          "output_type": "execute_result",
          "data": {
            "text/html": [
              "\n",
              "  <div id=\"df-5b17ca8c-6132-4975-8100-44498fa546c5\">\n",
              "    <div class=\"colab-df-container\">\n",
              "      <div>\n",
              "<style scoped>\n",
              "    .dataframe tbody tr th:only-of-type {\n",
              "        vertical-align: middle;\n",
              "    }\n",
              "\n",
              "    .dataframe tbody tr th {\n",
              "        vertical-align: top;\n",
              "    }\n",
              "\n",
              "    .dataframe thead th {\n",
              "        text-align: right;\n",
              "    }\n",
              "</style>\n",
              "<table border=\"1\" class=\"dataframe\">\n",
              "  <thead>\n",
              "    <tr style=\"text-align: right;\">\n",
              "      <th></th>\n",
              "      <th>pressure</th>\n",
              "      <th>humidity</th>\n",
              "      <th>temperature</th>\n",
              "      <th>wind direction</th>\n",
              "      <th>wind speed</th>\n",
              "      <th>year</th>\n",
              "      <th>month</th>\n",
              "      <th>day</th>\n",
              "      <th>hour</th>\n",
              "      <th>minute</th>\n",
              "      <th>second</th>\n",
              "    </tr>\n",
              "  </thead>\n",
              "  <tbody>\n",
              "    <tr>\n",
              "      <th>count</th>\n",
              "      <td>44323.000000</td>\n",
              "      <td>44140.000000</td>\n",
              "      <td>44460.000000</td>\n",
              "      <td>45252.000000</td>\n",
              "      <td>44459.000000</td>\n",
              "      <td>45253.000000</td>\n",
              "      <td>45253.000000</td>\n",
              "      <td>45253.000000</td>\n",
              "      <td>45253.000000</td>\n",
              "      <td>45253.0</td>\n",
              "      <td>45253.0</td>\n",
              "    </tr>\n",
              "    <tr>\n",
              "      <th>mean</th>\n",
              "      <td>1013.815468</td>\n",
              "      <td>66.861509</td>\n",
              "      <td>294.512307</td>\n",
              "      <td>190.627199</td>\n",
              "      <td>2.722306</td>\n",
              "      <td>2014.821051</td>\n",
              "      <td>6.648730</td>\n",
              "      <td>15.725322</td>\n",
              "      <td>11.501337</td>\n",
              "      <td>0.0</td>\n",
              "      <td>0.0</td>\n",
              "    </tr>\n",
              "    <tr>\n",
              "      <th>std</th>\n",
              "      <td>6.476167</td>\n",
              "      <td>16.464177</td>\n",
              "      <td>6.676412</td>\n",
              "      <td>98.157351</td>\n",
              "      <td>1.923380</td>\n",
              "      <td>1.507743</td>\n",
              "      <td>3.464906</td>\n",
              "      <td>8.793919</td>\n",
              "      <td>6.922398</td>\n",
              "      <td>0.0</td>\n",
              "      <td>0.0</td>\n",
              "    </tr>\n",
              "    <tr>\n",
              "      <th>min</th>\n",
              "      <td>929.000000</td>\n",
              "      <td>5.000000</td>\n",
              "      <td>271.049000</td>\n",
              "      <td>0.000000</td>\n",
              "      <td>0.000000</td>\n",
              "      <td>2012.000000</td>\n",
              "      <td>1.000000</td>\n",
              "      <td>1.000000</td>\n",
              "      <td>0.000000</td>\n",
              "      <td>0.0</td>\n",
              "      <td>0.0</td>\n",
              "    </tr>\n",
              "    <tr>\n",
              "      <th>25%</th>\n",
              "      <td>1010.000000</td>\n",
              "      <td>58.000000</td>\n",
              "      <td>289.450000</td>\n",
              "      <td>115.000000</td>\n",
              "      <td>1.000000</td>\n",
              "      <td>2014.000000</td>\n",
              "      <td>4.000000</td>\n",
              "      <td>8.000000</td>\n",
              "      <td>6.000000</td>\n",
              "      <td>0.0</td>\n",
              "      <td>0.0</td>\n",
              "    </tr>\n",
              "    <tr>\n",
              "      <th>50%</th>\n",
              "      <td>1013.000000</td>\n",
              "      <td>69.000000</td>\n",
              "      <td>294.900000</td>\n",
              "      <td>200.000000</td>\n",
              "      <td>2.000000</td>\n",
              "      <td>2015.000000</td>\n",
              "      <td>7.000000</td>\n",
              "      <td>16.000000</td>\n",
              "      <td>12.000000</td>\n",
              "      <td>0.0</td>\n",
              "      <td>0.0</td>\n",
              "    </tr>\n",
              "    <tr>\n",
              "      <th>75%</th>\n",
              "      <td>1018.000000</td>\n",
              "      <td>78.000000</td>\n",
              "      <td>299.800000</td>\n",
              "      <td>270.000000</td>\n",
              "      <td>4.000000</td>\n",
              "      <td>2016.000000</td>\n",
              "      <td>10.000000</td>\n",
              "      <td>23.000000</td>\n",
              "      <td>18.000000</td>\n",
              "      <td>0.0</td>\n",
              "      <td>0.0</td>\n",
              "    </tr>\n",
              "    <tr>\n",
              "      <th>max</th>\n",
              "      <td>1039.000000</td>\n",
              "      <td>100.000000</td>\n",
              "      <td>320.930000</td>\n",
              "      <td>360.000000</td>\n",
              "      <td>49.000000</td>\n",
              "      <td>2017.000000</td>\n",
              "      <td>12.000000</td>\n",
              "      <td>31.000000</td>\n",
              "      <td>23.000000</td>\n",
              "      <td>0.0</td>\n",
              "      <td>0.0</td>\n",
              "    </tr>\n",
              "  </tbody>\n",
              "</table>\n",
              "</div>\n",
              "      <button class=\"colab-df-convert\" onclick=\"convertToInteractive('df-5b17ca8c-6132-4975-8100-44498fa546c5')\"\n",
              "              title=\"Convert this dataframe to an interactive table.\"\n",
              "              style=\"display:none;\">\n",
              "        \n",
              "  <svg xmlns=\"http://www.w3.org/2000/svg\" height=\"24px\"viewBox=\"0 0 24 24\"\n",
              "       width=\"24px\">\n",
              "    <path d=\"M0 0h24v24H0V0z\" fill=\"none\"/>\n",
              "    <path d=\"M18.56 5.44l.94 2.06.94-2.06 2.06-.94-2.06-.94-.94-2.06-.94 2.06-2.06.94zm-11 1L8.5 8.5l.94-2.06 2.06-.94-2.06-.94L8.5 2.5l-.94 2.06-2.06.94zm10 10l.94 2.06.94-2.06 2.06-.94-2.06-.94-.94-2.06-.94 2.06-2.06.94z\"/><path d=\"M17.41 7.96l-1.37-1.37c-.4-.4-.92-.59-1.43-.59-.52 0-1.04.2-1.43.59L10.3 9.45l-7.72 7.72c-.78.78-.78 2.05 0 2.83L4 21.41c.39.39.9.59 1.41.59.51 0 1.02-.2 1.41-.59l7.78-7.78 2.81-2.81c.8-.78.8-2.07 0-2.86zM5.41 20L4 18.59l7.72-7.72 1.47 1.35L5.41 20z\"/>\n",
              "  </svg>\n",
              "      </button>\n",
              "      \n",
              "  <style>\n",
              "    .colab-df-container {\n",
              "      display:flex;\n",
              "      flex-wrap:wrap;\n",
              "      gap: 12px;\n",
              "    }\n",
              "\n",
              "    .colab-df-convert {\n",
              "      background-color: #E8F0FE;\n",
              "      border: none;\n",
              "      border-radius: 50%;\n",
              "      cursor: pointer;\n",
              "      display: none;\n",
              "      fill: #1967D2;\n",
              "      height: 32px;\n",
              "      padding: 0 0 0 0;\n",
              "      width: 32px;\n",
              "    }\n",
              "\n",
              "    .colab-df-convert:hover {\n",
              "      background-color: #E2EBFA;\n",
              "      box-shadow: 0px 1px 2px rgba(60, 64, 67, 0.3), 0px 1px 3px 1px rgba(60, 64, 67, 0.15);\n",
              "      fill: #174EA6;\n",
              "    }\n",
              "\n",
              "    [theme=dark] .colab-df-convert {\n",
              "      background-color: #3B4455;\n",
              "      fill: #D2E3FC;\n",
              "    }\n",
              "\n",
              "    [theme=dark] .colab-df-convert:hover {\n",
              "      background-color: #434B5C;\n",
              "      box-shadow: 0px 1px 3px 1px rgba(0, 0, 0, 0.15);\n",
              "      filter: drop-shadow(0px 1px 2px rgba(0, 0, 0, 0.3));\n",
              "      fill: #FFFFFF;\n",
              "    }\n",
              "  </style>\n",
              "\n",
              "      <script>\n",
              "        const buttonEl =\n",
              "          document.querySelector('#df-5b17ca8c-6132-4975-8100-44498fa546c5 button.colab-df-convert');\n",
              "        buttonEl.style.display =\n",
              "          google.colab.kernel.accessAllowed ? 'block' : 'none';\n",
              "\n",
              "        async function convertToInteractive(key) {\n",
              "          const element = document.querySelector('#df-5b17ca8c-6132-4975-8100-44498fa546c5');\n",
              "          const dataTable =\n",
              "            await google.colab.kernel.invokeFunction('convertToInteractive',\n",
              "                                                     [key], {});\n",
              "          if (!dataTable) return;\n",
              "\n",
              "          const docLinkHtml = 'Like what you see? Visit the ' +\n",
              "            '<a target=\"_blank\" href=https://colab.research.google.com/notebooks/data_table.ipynb>data table notebook</a>'\n",
              "            + ' to learn more about interactive tables.';\n",
              "          element.innerHTML = '';\n",
              "          dataTable['output_type'] = 'display_data';\n",
              "          await google.colab.output.renderOutput(dataTable, element);\n",
              "          const docLink = document.createElement('div');\n",
              "          docLink.innerHTML = docLinkHtml;\n",
              "          element.appendChild(docLink);\n",
              "        }\n",
              "      </script>\n",
              "    </div>\n",
              "  </div>\n",
              "  "
            ],
            "text/plain": [
              "           pressure      humidity   temperature  ...          hour   minute   second\n",
              "count  44323.000000  44140.000000  44460.000000  ...  45253.000000  45253.0  45253.0\n",
              "mean    1013.815468     66.861509    294.512307  ...     11.501337      0.0      0.0\n",
              "std        6.476167     16.464177      6.676412  ...      6.922398      0.0      0.0\n",
              "min      929.000000      5.000000    271.049000  ...      0.000000      0.0      0.0\n",
              "25%     1010.000000     58.000000    289.450000  ...      6.000000      0.0      0.0\n",
              "50%     1013.000000     69.000000    294.900000  ...     12.000000      0.0      0.0\n",
              "75%     1018.000000     78.000000    299.800000  ...     18.000000      0.0      0.0\n",
              "max     1039.000000    100.000000    320.930000  ...     23.000000      0.0      0.0\n",
              "\n",
              "[8 rows x 11 columns]"
            ]
          },
          "metadata": {},
          "execution_count": 10
        }
      ]
    },
    {
      "cell_type": "markdown",
      "id": "1d090ede",
      "metadata": {
        "id": "1d090ede"
      },
      "source": [
        "### wind speed column appears to have significant number of outliers"
      ]
    },
    {
      "cell_type": "code",
      "execution_count": 11,
      "id": "10ce4d05",
      "metadata": {
        "colab": {
          "base_uri": "https://localhost:8080/",
          "height": 314
        },
        "id": "10ce4d05",
        "outputId": "af99946a-f5b6-4f89-9261-1426e737e6de"
      },
      "outputs": [
        {
          "output_type": "stream",
          "name": "stdout",
          "text": [
            "0    1.0\n",
            "dtype: float64\n"
          ]
        },
        {
          "output_type": "display_data",
          "data": {
            "image/png": "[encoded data removed]",
            "text/plain": [
              "<Figure size 432x288 with 1 Axes>"
            ]
          },
          "metadata": {
            "needs_background": "light"
          }
        }
      ],
      "source": [
        "### checking for outliers in Wind Speed Column\n",
        "sns.boxplot(Tel_Aviv['wind speed'])\n",
        "print(Tel_Aviv['wind speed'].mode())"
      ]
    },
    {
      "cell_type": "code",
      "execution_count": 12,
      "id": "060c092f",
      "metadata": {
        "id": "060c092f"
      },
      "outputs": [],
      "source": [
        "# let's drop those two outliers in wind speed column so they do not mess with out data\n",
        "x = Tel_Aviv.loc[Tel_Aviv['wind speed'] > 10]"
      ]
    },
    {
      "cell_type": "code",
      "source": [
        "Tel_Aviv.drop(x.index, inplace = True)"
      ],
      "metadata": {
        "id": "jEtbARiAHxZV"
      },
      "id": "jEtbARiAHxZV",
      "execution_count": 13,
      "outputs": []
    },
    {
      "cell_type": "code",
      "execution_count": 14,
      "id": "1e9bf02f",
      "metadata": {
        "id": "1e9bf02f"
      },
      "outputs": [],
      "source": [
        "# Handling missing values\n",
        "Tel_Aviv['pressure'].fillna(1013.8, inplace = True)\n",
        "Tel_Aviv['humidity'].fillna(66.9, inplace = True)\n",
        "Tel_Aviv['temperature'].fillna(294.512307, inplace = True)\n",
        "Tel_Aviv['wind speed'].fillna(2.0, inplace = True) # we use median here because of the outliers\n",
        "Tel_Aviv['wind direction'].fillna(190.4, inplace = True)"
      ]
    },
    {
      "cell_type": "code",
      "execution_count": 15,
      "id": "abc799a5",
      "metadata": {
        "colab": {
          "base_uri": "https://localhost:8080/"
        },
        "id": "abc799a5",
        "outputId": "64991184-c77a-4e3c-eee1-afc07242eef0"
      },
      "outputs": [
        {
          "output_type": "execute_result",
          "data": {
            "text/plain": [
              "datetime          0\n",
              "pressure          0\n",
              "humidity          0\n",
              "temperature       0\n",
              "weather           0\n",
              "wind direction    0\n",
              "wind speed        0\n",
              "date              0\n",
              "year              0\n",
              "month             0\n",
              "day               0\n",
              "hour              0\n",
              "minute            0\n",
              "second            0\n",
              "dtype: int64"
            ]
          },
          "metadata": {},
          "execution_count": 15
        }
      ],
      "source": [
        "Tel_Aviv.isnull().sum()"
      ]
    },
    {
      "cell_type": "code",
      "execution_count": 16,
      "id": "e4d760ba",
      "metadata": {
        "colab": {
          "base_uri": "https://localhost:8080/",
          "height": 206
        },
        "id": "e4d760ba",
        "outputId": "2a0cd447-7c5f-47f3-d25f-20c9f464d756"
      },
      "outputs": [
        {
          "output_type": "execute_result",
          "data": {
            "text/html": [
              "\n",
              "  <div id=\"df-03e27a2d-38b4-486d-8d30-cb696dd65e5d\">\n",
              "    <div class=\"colab-df-container\">\n",
              "      <div>\n",
              "<style scoped>\n",
              "    .dataframe tbody tr th:only-of-type {\n",
              "        vertical-align: middle;\n",
              "    }\n",
              "\n",
              "    .dataframe tbody tr th {\n",
              "        vertical-align: top;\n",
              "    }\n",
              "\n",
              "    .dataframe thead th {\n",
              "        text-align: right;\n",
              "    }\n",
              "</style>\n",
              "<table border=\"1\" class=\"dataframe\">\n",
              "  <thead>\n",
              "    <tr style=\"text-align: right;\">\n",
              "      <th></th>\n",
              "      <th>datetime</th>\n",
              "      <th>pressure</th>\n",
              "      <th>humidity</th>\n",
              "      <th>temperature</th>\n",
              "      <th>weather</th>\n",
              "      <th>wind direction</th>\n",
              "      <th>wind speed</th>\n",
              "      <th>date</th>\n",
              "      <th>year</th>\n",
              "      <th>month</th>\n",
              "      <th>day</th>\n",
              "      <th>hour</th>\n",
              "      <th>minute</th>\n",
              "      <th>second</th>\n",
              "    </tr>\n",
              "  </thead>\n",
              "  <tbody>\n",
              "    <tr>\n",
              "      <th>0</th>\n",
              "      <td>2012-10-01 12:00:00</td>\n",
              "      <td>1013.8</td>\n",
              "      <td>66.9</td>\n",
              "      <td>294.512307</td>\n",
              "      <td>sky is not clear</td>\n",
              "      <td>190.4</td>\n",
              "      <td>2.0</td>\n",
              "      <td>2012-10-01</td>\n",
              "      <td>2012</td>\n",
              "      <td>10</td>\n",
              "      <td>1</td>\n",
              "      <td>12</td>\n",
              "      <td>0</td>\n",
              "      <td>0</td>\n",
              "    </tr>\n",
              "    <tr>\n",
              "      <th>1</th>\n",
              "      <td>2012-10-01 13:00:00</td>\n",
              "      <td>1012.0</td>\n",
              "      <td>63.0</td>\n",
              "      <td>305.470000</td>\n",
              "      <td>sky is clear</td>\n",
              "      <td>0.0</td>\n",
              "      <td>0.0</td>\n",
              "      <td>2012-10-01</td>\n",
              "      <td>2012</td>\n",
              "      <td>10</td>\n",
              "      <td>1</td>\n",
              "      <td>13</td>\n",
              "      <td>0</td>\n",
              "      <td>0</td>\n",
              "    </tr>\n",
              "    <tr>\n",
              "      <th>2</th>\n",
              "      <td>2012-10-01 14:00:00</td>\n",
              "      <td>1012.0</td>\n",
              "      <td>62.0</td>\n",
              "      <td>304.310000</td>\n",
              "      <td>sky is clear</td>\n",
              "      <td>0.0</td>\n",
              "      <td>0.0</td>\n",
              "      <td>2012-10-01</td>\n",
              "      <td>2012</td>\n",
              "      <td>10</td>\n",
              "      <td>1</td>\n",
              "      <td>14</td>\n",
              "      <td>0</td>\n",
              "      <td>0</td>\n",
              "    </tr>\n",
              "    <tr>\n",
              "      <th>3</th>\n",
              "      <td>2012-10-01 15:00:00</td>\n",
              "      <td>1012.0</td>\n",
              "      <td>62.0</td>\n",
              "      <td>304.281841</td>\n",
              "      <td>sky is clear</td>\n",
              "      <td>0.0</td>\n",
              "      <td>0.0</td>\n",
              "      <td>2012-10-01</td>\n",
              "      <td>2012</td>\n",
              "      <td>10</td>\n",
              "      <td>1</td>\n",
              "      <td>15</td>\n",
              "      <td>0</td>\n",
              "      <td>0</td>\n",
              "    </tr>\n",
              "    <tr>\n",
              "      <th>4</th>\n",
              "      <td>2012-10-01 16:00:00</td>\n",
              "      <td>1012.0</td>\n",
              "      <td>62.0</td>\n",
              "      <td>304.238015</td>\n",
              "      <td>sky is clear</td>\n",
              "      <td>0.0</td>\n",
              "      <td>0.0</td>\n",
              "      <td>2012-10-01</td>\n",
              "      <td>2012</td>\n",
              "      <td>10</td>\n",
              "      <td>1</td>\n",
              "      <td>16</td>\n",
              "      <td>0</td>\n",
              "      <td>0</td>\n",
              "    </tr>\n",
              "  </tbody>\n",
              "</table>\n",
              "</div>\n",
              "      <button class=\"colab-df-convert\" onclick=\"convertToInteractive('df-03e27a2d-38b4-486d-8d30-cb696dd65e5d')\"\n",
              "              title=\"Convert this dataframe to an interactive table.\"\n",
              "              style=\"display:none;\">\n",
              "        \n",
              "  <svg xmlns=\"http://www.w3.org/2000/svg\" height=\"24px\"viewBox=\"0 0 24 24\"\n",
              "       width=\"24px\">\n",
              "    <path d=\"M0 0h24v24H0V0z\" fill=\"none\"/>\n",
              "    <path d=\"M18.56 5.44l.94 2.06.94-2.06 2.06-.94-2.06-.94-.94-2.06-.94 2.06-2.06.94zm-11 1L8.5 8.5l.94-2.06 2.06-.94-2.06-.94L8.5 2.5l-.94 2.06-2.06.94zm10 10l.94 2.06.94-2.06 2.06-.94-2.06-.94-.94-2.06-.94 2.06-2.06.94z\"/><path d=\"M17.41 7.96l-1.37-1.37c-.4-.4-.92-.59-1.43-.59-.52 0-1.04.2-1.43.59L10.3 9.45l-7.72 7.72c-.78.78-.78 2.05 0 2.83L4 21.41c.39.39.9.59 1.41.59.51 0 1.02-.2 1.41-.59l7.78-7.78 2.81-2.81c.8-.78.8-2.07 0-2.86zM5.41 20L4 18.59l7.72-7.72 1.47 1.35L5.41 20z\"/>\n",
              "  </svg>\n",
              "      </button>\n",
              "      \n",
              "  <style>\n",
              "    .colab-df-container {\n",
              "      display:flex;\n",
              "      flex-wrap:wrap;\n",
              "      gap: 12px;\n",
              "    }\n",
              "\n",
              "    .colab-df-convert {\n",
              "      background-color: #E8F0FE;\n",
              "      border: none;\n",
              "      border-radius: 50%;\n",
              "      cursor: pointer;\n",
              "      display: none;\n",
              "      fill: #1967D2;\n",
              "      height: 32px;\n",
              "      padding: 0 0 0 0;\n",
              "      width: 32px;\n",
              "    }\n",
              "\n",
              "    .colab-df-convert:hover {\n",
              "      background-color: #E2EBFA;\n",
              "      box-shadow: 0px 1px 2px rgba(60, 64, 67, 0.3), 0px 1px 3px 1px rgba(60, 64, 67, 0.15);\n",
              "      fill: #174EA6;\n",
              "    }\n",
              "\n",
              "    [theme=dark] .colab-df-convert {\n",
              "      background-color: #3B4455;\n",
              "      fill: #D2E3FC;\n",
              "    }\n",
              "\n",
              "    [theme=dark] .colab-df-convert:hover {\n",
              "      background-color: #434B5C;\n",
              "      box-shadow: 0px 1px 3px 1px rgba(0, 0, 0, 0.15);\n",
              "      filter: drop-shadow(0px 1px 2px rgba(0, 0, 0, 0.3));\n",
              "      fill: #FFFFFF;\n",
              "    }\n",
              "  </style>\n",
              "\n",
              "      <script>\n",
              "        const buttonEl =\n",
              "          document.querySelector('#df-03e27a2d-38b4-486d-8d30-cb696dd65e5d button.colab-df-convert');\n",
              "        buttonEl.style.display =\n",
              "          google.colab.kernel.accessAllowed ? 'block' : 'none';\n",
              "\n",
              "        async function convertToInteractive(key) {\n",
              "          const element = document.querySelector('#df-03e27a2d-38b4-486d-8d30-cb696dd65e5d');\n",
              "          const dataTable =\n",
              "            await google.colab.kernel.invokeFunction('convertToInteractive',\n",
              "                                                     [key], {});\n",
              "          if (!dataTable) return;\n",
              "\n",
              "          const docLinkHtml = 'Like what you see? Visit the ' +\n",
              "            '<a target=\"_blank\" href=https://colab.research.google.com/notebooks/data_table.ipynb>data table notebook</a>'\n",
              "            + ' to learn more about interactive tables.';\n",
              "          element.innerHTML = '';\n",
              "          dataTable['output_type'] = 'display_data';\n",
              "          await google.colab.output.renderOutput(dataTable, element);\n",
              "          const docLink = document.createElement('div');\n",
              "          docLink.innerHTML = docLinkHtml;\n",
              "          element.appendChild(docLink);\n",
              "        }\n",
              "      </script>\n",
              "    </div>\n",
              "  </div>\n",
              "  "
            ],
            "text/plain": [
              "              datetime  pressure  humidity  ...  hour minute  second\n",
              "0  2012-10-01 12:00:00    1013.8      66.9  ...    12      0       0\n",
              "1  2012-10-01 13:00:00    1012.0      63.0  ...    13      0       0\n",
              "2  2012-10-01 14:00:00    1012.0      62.0  ...    14      0       0\n",
              "3  2012-10-01 15:00:00    1012.0      62.0  ...    15      0       0\n",
              "4  2012-10-01 16:00:00    1012.0      62.0  ...    16      0       0\n",
              "\n",
              "[5 rows x 14 columns]"
            ]
          },
          "metadata": {},
          "execution_count": 16
        }
      ],
      "source": [
        "Tel_Aviv.head()"
      ]
    },
    {
      "cell_type": "markdown",
      "source": [
        "### creating features for average per day"
      ],
      "metadata": {
        "id": "7MUYUYQvwnzo"
      },
      "id": "7MUYUYQvwnzo"
    },
    {
      "cell_type": "code",
      "source": [
        "Tel_Aviv['average pressure'] = Tel_Aviv.groupby('date')['pressure'].transform('mean')\n",
        "Tel_Aviv['average humidity'] = Tel_Aviv.groupby('date')['humidity'].transform('mean')\n",
        "Tel_Aviv['average temperature'] = Tel_Aviv.groupby('date')['temperature'].transform('mean')\n",
        "Tel_Aviv['average wind direction'] = Tel_Aviv.groupby('date')['wind direction'].transform('mean')\n",
        "Tel_Aviv['average wind speed'] = Tel_Aviv.groupby('date')['wind speed'].transform('mean')"
      ],
      "metadata": {
        "id": "h9CRe6PZGTEP"
      },
      "id": "h9CRe6PZGTEP",
      "execution_count": 17,
      "outputs": []
    },
    {
      "cell_type": "markdown",
      "source": [
        "### creating polynomial features from existing features"
      ],
      "metadata": {
        "id": "5rVeRz8YwsgW"
      },
      "id": "5rVeRz8YwsgW"
    },
    {
      "cell_type": "code",
      "source": [
        "from sklearn.preprocessing import PolynomialFeatures\n",
        "poly = PolynomialFeatures(degree = 2, interaction_only = True, include_bias= False)"
      ],
      "metadata": {
        "id": "R1dlYE0inO5Q"
      },
      "id": "R1dlYE0inO5Q",
      "execution_count": 18,
      "outputs": []
    },
    {
      "cell_type": "code",
      "source": [
        "poly_features = ['pressure', 'humidity', 'temperature', 'wind direction',\n",
        "                 'wind speed', 'average pressure', 'average humidity',\n",
        "                 'average temperature', 'average wind direction', 'average wind speed']"
      ],
      "metadata": {
        "id": "pJ5Bjp7CouSw"
      },
      "id": "pJ5Bjp7CouSw",
      "execution_count": 19,
      "outputs": []
    },
    {
      "cell_type": "code",
      "source": [
        "pol = poly.fit_transform(Tel_Aviv[poly_features])"
      ],
      "metadata": {
        "id": "iaPuHV-encme"
      },
      "id": "iaPuHV-encme",
      "execution_count": 20,
      "outputs": []
    },
    {
      "cell_type": "code",
      "source": [
        "df_pol = pd.DataFrame(pol, columns=[f\"pol_{i}\" for i in range(pol.shape[1])])"
      ],
      "metadata": {
        "id": "uEO6SJpunY4P"
      },
      "id": "uEO6SJpunY4P",
      "execution_count": 21,
      "outputs": []
    },
    {
      "cell_type": "code",
      "source": [
        "Tel_Aviv = pd.concat([Tel_Aviv, df_pol], axis = 1)"
      ],
      "metadata": {
        "id": "YY0Bwh0nnY6k"
      },
      "id": "YY0Bwh0nnY6k",
      "execution_count": 22,
      "outputs": []
    },
    {
      "cell_type": "code",
      "source": [
        "Tel_Aviv.columns"
      ],
      "metadata": {
        "colab": {
          "base_uri": "https://localhost:8080/"
        },
        "id": "EVunCuqlp1lk",
        "outputId": "379d06b4-e4ab-4501-e80b-f6847e17a9ef"
      },
      "id": "EVunCuqlp1lk",
      "execution_count": 23,
      "outputs": [
        {
          "output_type": "execute_result",
          "data": {
            "text/plain": [
              "Index(['datetime', 'pressure', 'humidity', 'temperature', 'weather',\n",
              "       'wind direction', 'wind speed', 'date', 'year', 'month', 'day', 'hour',\n",
              "       'minute', 'second', 'average pressure', 'average humidity',\n",
              "       'average temperature', 'average wind direction', 'average wind speed',\n",
              "       'pol_0', 'pol_1', 'pol_2', 'pol_3', 'pol_4', 'pol_5', 'pol_6', 'pol_7',\n",
              "       'pol_8', 'pol_9', 'pol_10', 'pol_11', 'pol_12', 'pol_13', 'pol_14',\n",
              "       'pol_15', 'pol_16', 'pol_17', 'pol_18', 'pol_19', 'pol_20', 'pol_21',\n",
              "       'pol_22', 'pol_23', 'pol_24', 'pol_25', 'pol_26', 'pol_27', 'pol_28',\n",
              "       'pol_29', 'pol_30', 'pol_31', 'pol_32', 'pol_33', 'pol_34', 'pol_35',\n",
              "       'pol_36', 'pol_37', 'pol_38', 'pol_39', 'pol_40', 'pol_41', 'pol_42',\n",
              "       'pol_43', 'pol_44', 'pol_45', 'pol_46', 'pol_47', 'pol_48', 'pol_49',\n",
              "       'pol_50', 'pol_51', 'pol_52', 'pol_53', 'pol_54'],\n",
              "      dtype='object')"
            ]
          },
          "metadata": {},
          "execution_count": 23
        }
      ]
    },
    {
      "cell_type": "code",
      "source": [
        "Tel_Aviv.shape"
      ],
      "metadata": {
        "colab": {
          "base_uri": "https://localhost:8080/"
        },
        "id": "kYEoxKXnKTQJ",
        "outputId": "27eb9a8b-d21c-4ec1-b5bb-d76060c75fc5"
      },
      "id": "kYEoxKXnKTQJ",
      "execution_count": 24,
      "outputs": [
        {
          "output_type": "execute_result",
          "data": {
            "text/plain": [
              "(45253, 74)"
            ]
          },
          "metadata": {},
          "execution_count": 24
        }
      ]
    },
    {
      "cell_type": "code",
      "source": [
        "Tel_Aviv.dropna(axis = 0, how = 'any', inplace = True)\n",
        "Tel_Aviv.isnull().sum()"
      ],
      "metadata": {
        "colab": {
          "base_uri": "https://localhost:8080/"
        },
        "id": "cp9kdjkqvIr7",
        "outputId": "590d50cc-a09e-43ba-b284-c6954d3346a0"
      },
      "id": "cp9kdjkqvIr7",
      "execution_count": 25,
      "outputs": [
        {
          "output_type": "execute_result",
          "data": {
            "text/plain": [
              "datetime       0\n",
              "pressure       0\n",
              "humidity       0\n",
              "temperature    0\n",
              "weather        0\n",
              "              ..\n",
              "pol_50         0\n",
              "pol_51         0\n",
              "pol_52         0\n",
              "pol_53         0\n",
              "pol_54         0\n",
              "Length: 74, dtype: int64"
            ]
          },
          "metadata": {},
          "execution_count": 25
        }
      ]
    },
    {
      "cell_type": "code",
      "source": [
        "Tel_Aviv.head()"
      ],
      "metadata": {
        "colab": {
          "base_uri": "https://localhost:8080/",
          "height": 478
        },
        "id": "5LASkROcrqbg",
        "outputId": "c9c086a1-86fe-459e-f24c-55db419775f6"
      },
      "id": "5LASkROcrqbg",
      "execution_count": 26,
      "outputs": [
        {
          "output_type": "execute_result",
          "data": {
            "text/html": [
              "\n",
              "  <div id=\"df-41e94156-f0c8-4800-a630-a23c39460e3d\">\n",
              "    <div class=\"colab-df-container\">\n",
              "      <div>\n",
              "<style scoped>\n",
              "    .dataframe tbody tr th:only-of-type {\n",
              "        vertical-align: middle;\n",
              "    }\n",
              "\n",
              "    .dataframe tbody tr th {\n",
              "        vertical-align: top;\n",
              "    }\n",
              "\n",
              "    .dataframe thead th {\n",
              "        text-align: right;\n",
              "    }\n",
              "</style>\n",
              "<table border=\"1\" class=\"dataframe\">\n",
              "  <thead>\n",
              "    <tr style=\"text-align: right;\">\n",
              "      <th></th>\n",
              "      <th>datetime</th>\n",
              "      <th>pressure</th>\n",
              "      <th>humidity</th>\n",
              "      <th>temperature</th>\n",
              "      <th>weather</th>\n",
              "      <th>wind direction</th>\n",
              "      <th>wind speed</th>\n",
              "      <th>date</th>\n",
              "      <th>year</th>\n",
              "      <th>month</th>\n",
              "      <th>day</th>\n",
              "      <th>hour</th>\n",
              "      <th>minute</th>\n",
              "      <th>second</th>\n",
              "      <th>average pressure</th>\n",
              "      <th>average humidity</th>\n",
              "      <th>average temperature</th>\n",
              "      <th>average wind direction</th>\n",
              "      <th>average wind speed</th>\n",
              "      <th>pol_0</th>\n",
              "      <th>pol_1</th>\n",
              "      <th>pol_2</th>\n",
              "      <th>pol_3</th>\n",
              "      <th>pol_4</th>\n",
              "      <th>pol_5</th>\n",
              "      <th>pol_6</th>\n",
              "      <th>pol_7</th>\n",
              "      <th>pol_8</th>\n",
              "      <th>pol_9</th>\n",
              "      <th>pol_10</th>\n",
              "      <th>pol_11</th>\n",
              "      <th>pol_12</th>\n",
              "      <th>pol_13</th>\n",
              "      <th>pol_14</th>\n",
              "      <th>pol_15</th>\n",
              "      <th>pol_16</th>\n",
              "      <th>pol_17</th>\n",
              "      <th>pol_18</th>\n",
              "      <th>pol_19</th>\n",
              "      <th>pol_20</th>\n",
              "      <th>pol_21</th>\n",
              "      <th>pol_22</th>\n",
              "      <th>pol_23</th>\n",
              "      <th>pol_24</th>\n",
              "      <th>pol_25</th>\n",
              "      <th>pol_26</th>\n",
              "      <th>pol_27</th>\n",
              "      <th>pol_28</th>\n",
              "      <th>pol_29</th>\n",
              "      <th>pol_30</th>\n",
              "      <th>pol_31</th>\n",
              "      <th>pol_32</th>\n",
              "      <th>pol_33</th>\n",
              "      <th>pol_34</th>\n",
              "      <th>pol_35</th>\n",
              "      <th>pol_36</th>\n",
              "      <th>pol_37</th>\n",
              "      <th>pol_38</th>\n",
              "      <th>pol_39</th>\n",
              "      <th>pol_40</th>\n",
              "      <th>pol_41</th>\n",
              "      <th>pol_42</th>\n",
              "      <th>pol_43</th>\n",
              "      <th>pol_44</th>\n",
              "      <th>pol_45</th>\n",
              "      <th>pol_46</th>\n",
              "      <th>pol_47</th>\n",
              "      <th>pol_48</th>\n",
              "      <th>pol_49</th>\n",
              "      <th>pol_50</th>\n",
              "      <th>pol_51</th>\n",
              "      <th>pol_52</th>\n",
              "      <th>pol_53</th>\n",
              "      <th>pol_54</th>\n",
              "    </tr>\n",
              "  </thead>\n",
              "  <tbody>\n",
              "    <tr>\n",
              "      <th>0</th>\n",
              "      <td>2012-10-01 12:00:00</td>\n",
              "      <td>1013.8</td>\n",
              "      <td>66.9</td>\n",
              "      <td>294.512307</td>\n",
              "      <td>sky is not clear</td>\n",
              "      <td>190.4</td>\n",
              "      <td>2.0</td>\n",
              "      <td>2012-10-01</td>\n",
              "      <td>2012.0</td>\n",
              "      <td>10.0</td>\n",
              "      <td>1.0</td>\n",
              "      <td>12.0</td>\n",
              "      <td>0.0</td>\n",
              "      <td>0.0</td>\n",
              "      <td>1012.15</td>\n",
              "      <td>63.241667</td>\n",
              "      <td>303.437593</td>\n",
              "      <td>15.866667</td>\n",
              "      <td>0.583333</td>\n",
              "      <td>1013.8</td>\n",
              "      <td>66.9</td>\n",
              "      <td>294.512307</td>\n",
              "      <td>190.4</td>\n",
              "      <td>2.0</td>\n",
              "      <td>1012.15</td>\n",
              "      <td>63.241667</td>\n",
              "      <td>303.437593</td>\n",
              "      <td>15.866667</td>\n",
              "      <td>0.583333</td>\n",
              "      <td>67823.22</td>\n",
              "      <td>298576.576837</td>\n",
              "      <td>193027.52</td>\n",
              "      <td>2027.6</td>\n",
              "      <td>1026117.67</td>\n",
              "      <td>64114.401667</td>\n",
              "      <td>307625.031866</td>\n",
              "      <td>16085.626667</td>\n",
              "      <td>591.383333</td>\n",
              "      <td>19702.873338</td>\n",
              "      <td>12737.76</td>\n",
              "      <td>133.8</td>\n",
              "      <td>67712.835</td>\n",
              "      <td>4230.867500</td>\n",
              "      <td>20299.974977</td>\n",
              "      <td>1061.480000</td>\n",
              "      <td>39.025000</td>\n",
              "      <td>56075.143253</td>\n",
              "      <td>589.024614</td>\n",
              "      <td>298090.631530</td>\n",
              "      <td>18625.449149</td>\n",
              "      <td>89366.105569</td>\n",
              "      <td>4672.928604</td>\n",
              "      <td>171.798846</td>\n",
              "      <td>380.8</td>\n",
              "      <td>192713.36</td>\n",
              "      <td>12041.213333</td>\n",
              "      <td>57774.517723</td>\n",
              "      <td>3021.013333</td>\n",
              "      <td>111.066667</td>\n",
              "      <td>2024.3</td>\n",
              "      <td>126.483333</td>\n",
              "      <td>606.875186</td>\n",
              "      <td>31.733333</td>\n",
              "      <td>1.166667</td>\n",
              "      <td>64010.052917</td>\n",
              "      <td>307124.359838</td>\n",
              "      <td>16059.446667</td>\n",
              "      <td>590.420833</td>\n",
              "      <td>19189.899116</td>\n",
              "      <td>1003.434444</td>\n",
              "      <td>36.890972</td>\n",
              "      <td>4814.543144</td>\n",
              "      <td>177.005263</td>\n",
              "      <td>9.255556</td>\n",
              "    </tr>\n",
              "    <tr>\n",
              "      <th>1</th>\n",
              "      <td>2012-10-01 13:00:00</td>\n",
              "      <td>1012.0</td>\n",
              "      <td>63.0</td>\n",
              "      <td>305.470000</td>\n",
              "      <td>sky is clear</td>\n",
              "      <td>0.0</td>\n",
              "      <td>0.0</td>\n",
              "      <td>2012-10-01</td>\n",
              "      <td>2012.0</td>\n",
              "      <td>10.0</td>\n",
              "      <td>1.0</td>\n",
              "      <td>13.0</td>\n",
              "      <td>0.0</td>\n",
              "      <td>0.0</td>\n",
              "      <td>1012.15</td>\n",
              "      <td>63.241667</td>\n",
              "      <td>303.437593</td>\n",
              "      <td>15.866667</td>\n",
              "      <td>0.583333</td>\n",
              "      <td>1012.0</td>\n",
              "      <td>63.0</td>\n",
              "      <td>305.470000</td>\n",
              "      <td>0.0</td>\n",
              "      <td>0.0</td>\n",
              "      <td>1012.15</td>\n",
              "      <td>63.241667</td>\n",
              "      <td>303.437593</td>\n",
              "      <td>15.866667</td>\n",
              "      <td>0.583333</td>\n",
              "      <td>63756.00</td>\n",
              "      <td>309135.640000</td>\n",
              "      <td>0.00</td>\n",
              "      <td>0.0</td>\n",
              "      <td>1024295.80</td>\n",
              "      <td>64000.566667</td>\n",
              "      <td>307078.844199</td>\n",
              "      <td>16057.066667</td>\n",
              "      <td>590.333333</td>\n",
              "      <td>19244.610000</td>\n",
              "      <td>0.00</td>\n",
              "      <td>0.0</td>\n",
              "      <td>63765.450</td>\n",
              "      <td>3984.225000</td>\n",
              "      <td>19116.568364</td>\n",
              "      <td>999.600000</td>\n",
              "      <td>36.750000</td>\n",
              "      <td>0.000000</td>\n",
              "      <td>0.000000</td>\n",
              "      <td>309181.460500</td>\n",
              "      <td>19318.431917</td>\n",
              "      <td>92691.081559</td>\n",
              "      <td>4846.790667</td>\n",
              "      <td>178.190833</td>\n",
              "      <td>0.0</td>\n",
              "      <td>0.00</td>\n",
              "      <td>0.000000</td>\n",
              "      <td>0.000000</td>\n",
              "      <td>0.000000</td>\n",
              "      <td>0.000000</td>\n",
              "      <td>0.0</td>\n",
              "      <td>0.000000</td>\n",
              "      <td>0.000000</td>\n",
              "      <td>0.000000</td>\n",
              "      <td>0.000000</td>\n",
              "      <td>64010.052917</td>\n",
              "      <td>307124.359838</td>\n",
              "      <td>16059.446667</td>\n",
              "      <td>590.420833</td>\n",
              "      <td>19189.899116</td>\n",
              "      <td>1003.434444</td>\n",
              "      <td>36.890972</td>\n",
              "      <td>4814.543144</td>\n",
              "      <td>177.005263</td>\n",
              "      <td>9.255556</td>\n",
              "    </tr>\n",
              "    <tr>\n",
              "      <th>2</th>\n",
              "      <td>2012-10-01 14:00:00</td>\n",
              "      <td>1012.0</td>\n",
              "      <td>62.0</td>\n",
              "      <td>304.310000</td>\n",
              "      <td>sky is clear</td>\n",
              "      <td>0.0</td>\n",
              "      <td>0.0</td>\n",
              "      <td>2012-10-01</td>\n",
              "      <td>2012.0</td>\n",
              "      <td>10.0</td>\n",
              "      <td>1.0</td>\n",
              "      <td>14.0</td>\n",
              "      <td>0.0</td>\n",
              "      <td>0.0</td>\n",
              "      <td>1012.15</td>\n",
              "      <td>63.241667</td>\n",
              "      <td>303.437593</td>\n",
              "      <td>15.866667</td>\n",
              "      <td>0.583333</td>\n",
              "      <td>1012.0</td>\n",
              "      <td>62.0</td>\n",
              "      <td>304.310000</td>\n",
              "      <td>0.0</td>\n",
              "      <td>0.0</td>\n",
              "      <td>1012.15</td>\n",
              "      <td>63.241667</td>\n",
              "      <td>303.437593</td>\n",
              "      <td>15.866667</td>\n",
              "      <td>0.583333</td>\n",
              "      <td>62744.00</td>\n",
              "      <td>307961.720000</td>\n",
              "      <td>0.00</td>\n",
              "      <td>0.0</td>\n",
              "      <td>1024295.80</td>\n",
              "      <td>64000.566667</td>\n",
              "      <td>307078.844199</td>\n",
              "      <td>16057.066667</td>\n",
              "      <td>590.333333</td>\n",
              "      <td>18867.220000</td>\n",
              "      <td>0.00</td>\n",
              "      <td>0.0</td>\n",
              "      <td>62753.300</td>\n",
              "      <td>3920.983333</td>\n",
              "      <td>18813.130771</td>\n",
              "      <td>983.733333</td>\n",
              "      <td>36.166667</td>\n",
              "      <td>0.000000</td>\n",
              "      <td>0.000000</td>\n",
              "      <td>308007.366500</td>\n",
              "      <td>19245.071583</td>\n",
              "      <td>92339.093951</td>\n",
              "      <td>4828.385333</td>\n",
              "      <td>177.514167</td>\n",
              "      <td>0.0</td>\n",
              "      <td>0.00</td>\n",
              "      <td>0.000000</td>\n",
              "      <td>0.000000</td>\n",
              "      <td>0.000000</td>\n",
              "      <td>0.000000</td>\n",
              "      <td>0.0</td>\n",
              "      <td>0.000000</td>\n",
              "      <td>0.000000</td>\n",
              "      <td>0.000000</td>\n",
              "      <td>0.000000</td>\n",
              "      <td>64010.052917</td>\n",
              "      <td>307124.359838</td>\n",
              "      <td>16059.446667</td>\n",
              "      <td>590.420833</td>\n",
              "      <td>19189.899116</td>\n",
              "      <td>1003.434444</td>\n",
              "      <td>36.890972</td>\n",
              "      <td>4814.543144</td>\n",
              "      <td>177.005263</td>\n",
              "      <td>9.255556</td>\n",
              "    </tr>\n",
              "    <tr>\n",
              "      <th>3</th>\n",
              "      <td>2012-10-01 15:00:00</td>\n",
              "      <td>1012.0</td>\n",
              "      <td>62.0</td>\n",
              "      <td>304.281841</td>\n",
              "      <td>sky is clear</td>\n",
              "      <td>0.0</td>\n",
              "      <td>0.0</td>\n",
              "      <td>2012-10-01</td>\n",
              "      <td>2012.0</td>\n",
              "      <td>10.0</td>\n",
              "      <td>1.0</td>\n",
              "      <td>15.0</td>\n",
              "      <td>0.0</td>\n",
              "      <td>0.0</td>\n",
              "      <td>1012.15</td>\n",
              "      <td>63.241667</td>\n",
              "      <td>303.437593</td>\n",
              "      <td>15.866667</td>\n",
              "      <td>0.583333</td>\n",
              "      <td>1012.0</td>\n",
              "      <td>62.0</td>\n",
              "      <td>304.281841</td>\n",
              "      <td>0.0</td>\n",
              "      <td>0.0</td>\n",
              "      <td>1012.15</td>\n",
              "      <td>63.241667</td>\n",
              "      <td>303.437593</td>\n",
              "      <td>15.866667</td>\n",
              "      <td>0.583333</td>\n",
              "      <td>62744.00</td>\n",
              "      <td>307933.223427</td>\n",
              "      <td>0.00</td>\n",
              "      <td>0.0</td>\n",
              "      <td>1024295.80</td>\n",
              "      <td>64000.566667</td>\n",
              "      <td>307078.844199</td>\n",
              "      <td>16057.066667</td>\n",
              "      <td>590.333333</td>\n",
              "      <td>18865.474163</td>\n",
              "      <td>0.00</td>\n",
              "      <td>0.0</td>\n",
              "      <td>62753.300</td>\n",
              "      <td>3920.983333</td>\n",
              "      <td>18813.130771</td>\n",
              "      <td>983.733333</td>\n",
              "      <td>36.166667</td>\n",
              "      <td>0.000000</td>\n",
              "      <td>0.000000</td>\n",
              "      <td>307978.865703</td>\n",
              "      <td>19243.290782</td>\n",
              "      <td>92330.549552</td>\n",
              "      <td>4827.938549</td>\n",
              "      <td>177.497741</td>\n",
              "      <td>0.0</td>\n",
              "      <td>0.00</td>\n",
              "      <td>0.000000</td>\n",
              "      <td>0.000000</td>\n",
              "      <td>0.000000</td>\n",
              "      <td>0.000000</td>\n",
              "      <td>0.0</td>\n",
              "      <td>0.000000</td>\n",
              "      <td>0.000000</td>\n",
              "      <td>0.000000</td>\n",
              "      <td>0.000000</td>\n",
              "      <td>64010.052917</td>\n",
              "      <td>307124.359838</td>\n",
              "      <td>16059.446667</td>\n",
              "      <td>590.420833</td>\n",
              "      <td>19189.899116</td>\n",
              "      <td>1003.434444</td>\n",
              "      <td>36.890972</td>\n",
              "      <td>4814.543144</td>\n",
              "      <td>177.005263</td>\n",
              "      <td>9.255556</td>\n",
              "    </tr>\n",
              "    <tr>\n",
              "      <th>4</th>\n",
              "      <td>2012-10-01 16:00:00</td>\n",
              "      <td>1012.0</td>\n",
              "      <td>62.0</td>\n",
              "      <td>304.238015</td>\n",
              "      <td>sky is clear</td>\n",
              "      <td>0.0</td>\n",
              "      <td>0.0</td>\n",
              "      <td>2012-10-01</td>\n",
              "      <td>2012.0</td>\n",
              "      <td>10.0</td>\n",
              "      <td>1.0</td>\n",
              "      <td>16.0</td>\n",
              "      <td>0.0</td>\n",
              "      <td>0.0</td>\n",
              "      <td>1012.15</td>\n",
              "      <td>63.241667</td>\n",
              "      <td>303.437593</td>\n",
              "      <td>15.866667</td>\n",
              "      <td>0.583333</td>\n",
              "      <td>1012.0</td>\n",
              "      <td>62.0</td>\n",
              "      <td>304.238015</td>\n",
              "      <td>0.0</td>\n",
              "      <td>0.0</td>\n",
              "      <td>1012.15</td>\n",
              "      <td>63.241667</td>\n",
              "      <td>303.437593</td>\n",
              "      <td>15.866667</td>\n",
              "      <td>0.583333</td>\n",
              "      <td>62744.00</td>\n",
              "      <td>307888.870784</td>\n",
              "      <td>0.00</td>\n",
              "      <td>0.0</td>\n",
              "      <td>1024295.80</td>\n",
              "      <td>64000.566667</td>\n",
              "      <td>307078.844199</td>\n",
              "      <td>16057.066667</td>\n",
              "      <td>590.333333</td>\n",
              "      <td>18862.756906</td>\n",
              "      <td>0.00</td>\n",
              "      <td>0.0</td>\n",
              "      <td>62753.300</td>\n",
              "      <td>3920.983333</td>\n",
              "      <td>18813.130771</td>\n",
              "      <td>983.733333</td>\n",
              "      <td>36.166667</td>\n",
              "      <td>0.000000</td>\n",
              "      <td>0.000000</td>\n",
              "      <td>307934.506486</td>\n",
              "      <td>19240.519107</td>\n",
              "      <td>92317.250877</td>\n",
              "      <td>4827.243165</td>\n",
              "      <td>177.472175</td>\n",
              "      <td>0.0</td>\n",
              "      <td>0.00</td>\n",
              "      <td>0.000000</td>\n",
              "      <td>0.000000</td>\n",
              "      <td>0.000000</td>\n",
              "      <td>0.000000</td>\n",
              "      <td>0.0</td>\n",
              "      <td>0.000000</td>\n",
              "      <td>0.000000</td>\n",
              "      <td>0.000000</td>\n",
              "      <td>0.000000</td>\n",
              "      <td>64010.052917</td>\n",
              "      <td>307124.359838</td>\n",
              "      <td>16059.446667</td>\n",
              "      <td>590.420833</td>\n",
              "      <td>19189.899116</td>\n",
              "      <td>1003.434444</td>\n",
              "      <td>36.890972</td>\n",
              "      <td>4814.543144</td>\n",
              "      <td>177.005263</td>\n",
              "      <td>9.255556</td>\n",
              "    </tr>\n",
              "  </tbody>\n",
              "</table>\n",
              "</div>\n",
              "      <button class=\"colab-df-convert\" onclick=\"convertToInteractive('df-41e94156-f0c8-4800-a630-a23c39460e3d')\"\n",
              "              title=\"Convert this dataframe to an interactive table.\"\n",
              "              style=\"display:none;\">\n",
              "        \n",
              "  <svg xmlns=\"http://www.w3.org/2000/svg\" height=\"24px\"viewBox=\"0 0 24 24\"\n",
              "       width=\"24px\">\n",
              "    <path d=\"M0 0h24v24H0V0z\" fill=\"none\"/>\n",
              "    <path d=\"M18.56 5.44l.94 2.06.94-2.06 2.06-.94-2.06-.94-.94-2.06-.94 2.06-2.06.94zm-11 1L8.5 8.5l.94-2.06 2.06-.94-2.06-.94L8.5 2.5l-.94 2.06-2.06.94zm10 10l.94 2.06.94-2.06 2.06-.94-2.06-.94-.94-2.06-.94 2.06-2.06.94z\"/><path d=\"M17.41 7.96l-1.37-1.37c-.4-.4-.92-.59-1.43-.59-.52 0-1.04.2-1.43.59L10.3 9.45l-7.72 7.72c-.78.78-.78 2.05 0 2.83L4 21.41c.39.39.9.59 1.41.59.51 0 1.02-.2 1.41-.59l7.78-7.78 2.81-2.81c.8-.78.8-2.07 0-2.86zM5.41 20L4 18.59l7.72-7.72 1.47 1.35L5.41 20z\"/>\n",
              "  </svg>\n",
              "      </button>\n",
              "      \n",
              "  <style>\n",
              "    .colab-df-container {\n",
              "      display:flex;\n",
              "      flex-wrap:wrap;\n",
              "      gap: 12px;\n",
              "    }\n",
              "\n",
              "    .colab-df-convert {\n",
              "      background-color: #E8F0FE;\n",
              "      border: none;\n",
              "      border-radius: 50%;\n",
              "      cursor: pointer;\n",
              "      display: none;\n",
              "      fill: #1967D2;\n",
              "      height: 32px;\n",
              "      padding: 0 0 0 0;\n",
              "      width: 32px;\n",
              "    }\n",
              "\n",
              "    .colab-df-convert:hover {\n",
              "      background-color: #E2EBFA;\n",
              "      box-shadow: 0px 1px 2px rgba(60, 64, 67, 0.3), 0px 1px 3px 1px rgba(60, 64, 67, 0.15);\n",
              "      fill: #174EA6;\n",
              "    }\n",
              "\n",
              "    [theme=dark] .colab-df-convert {\n",
              "      background-color: #3B4455;\n",
              "      fill: #D2E3FC;\n",
              "    }\n",
              "\n",
              "    [theme=dark] .colab-df-convert:hover {\n",
              "      background-color: #434B5C;\n",
              "      box-shadow: 0px 1px 3px 1px rgba(0, 0, 0, 0.15);\n",
              "      filter: drop-shadow(0px 1px 2px rgba(0, 0, 0, 0.3));\n",
              "      fill: #FFFFFF;\n",
              "    }\n",
              "  </style>\n",
              "\n",
              "      <script>\n",
              "        const buttonEl =\n",
              "          document.querySelector('#df-41e94156-f0c8-4800-a630-a23c39460e3d button.colab-df-convert');\n",
              "        buttonEl.style.display =\n",
              "          google.colab.kernel.accessAllowed ? 'block' : 'none';\n",
              "\n",
              "        async function convertToInteractive(key) {\n",
              "          const element = document.querySelector('#df-41e94156-f0c8-4800-a630-a23c39460e3d');\n",
              "          const dataTable =\n",
              "            await google.colab.kernel.invokeFunction('convertToInteractive',\n",
              "                                                     [key], {});\n",
              "          if (!dataTable) return;\n",
              "\n",
              "          const docLinkHtml = 'Like what you see? Visit the ' +\n",
              "            '<a target=\"_blank\" href=https://colab.research.google.com/notebooks/data_table.ipynb>data table notebook</a>'\n",
              "            + ' to learn more about interactive tables.';\n",
              "          element.innerHTML = '';\n",
              "          dataTable['output_type'] = 'display_data';\n",
              "          await google.colab.output.renderOutput(dataTable, element);\n",
              "          const docLink = document.createElement('div');\n",
              "          docLink.innerHTML = docLinkHtml;\n",
              "          element.appendChild(docLink);\n",
              "        }\n",
              "      </script>\n",
              "    </div>\n",
              "  </div>\n",
              "  "
            ],
            "text/plain": [
              "              datetime  pressure  humidity  ...       pol_52      pol_53    pol_54\n",
              "0  2012-10-01 12:00:00    1013.8      66.9  ...  4814.543144  177.005263  9.255556\n",
              "1  2012-10-01 13:00:00    1012.0      63.0  ...  4814.543144  177.005263  9.255556\n",
              "2  2012-10-01 14:00:00    1012.0      62.0  ...  4814.543144  177.005263  9.255556\n",
              "3  2012-10-01 15:00:00    1012.0      62.0  ...  4814.543144  177.005263  9.255556\n",
              "4  2012-10-01 16:00:00    1012.0      62.0  ...  4814.543144  177.005263  9.255556\n",
              "\n",
              "[5 rows x 74 columns]"
            ]
          },
          "metadata": {},
          "execution_count": 26
        }
      ]
    },
    {
      "cell_type": "markdown",
      "source": [
        "### checking for class imbalance"
      ],
      "metadata": {
        "id": "Zm3dCN_fw7de"
      },
      "id": "Zm3dCN_fw7de"
    },
    {
      "cell_type": "code",
      "execution_count": 27,
      "id": "383a411b",
      "metadata": {
        "colab": {
          "base_uri": "https://localhost:8080/",
          "height": 388
        },
        "id": "383a411b",
        "outputId": "9d4b8e63-21ac-4f17-9a04-e63bd54fdf6d"
      },
      "outputs": [
        {
          "output_type": "display_data",
          "data": {
            "image/png": "[encoded data removed]",
            "text/plain": [
              "<Figure size 576x432 with 1 Axes>"
            ]
          },
          "metadata": {
            "needs_background": "light"
          }
        }
      ],
      "source": [
        "plt.figure(figsize = (8,6))\n",
        "sns.countplot(Tel_Aviv['weather'])\n",
        "plt.show()"
      ]
    },
    {
      "cell_type": "code",
      "execution_count": 29,
      "id": "527ccf5b",
      "metadata": {
        "id": "527ccf5b"
      },
      "outputs": [],
      "source": [
        "# encoding categorical variables\n",
        "le = LabelEncoder()\n",
        "Tel_Aviv['weather'] = le.fit_transform(Tel_Aviv['weather'])"
      ]
    },
    {
      "cell_type": "code",
      "execution_count": 30,
      "id": "9648c766",
      "metadata": {
        "id": "9648c766"
      },
      "outputs": [],
      "source": [
        "X = Tel_Aviv.drop(['weather', 'date', 'datetime'], axis = 1)\n",
        "Y = Tel_Aviv['weather']"
      ]
    },
    {
      "cell_type": "code",
      "execution_count": 31,
      "id": "5e9a495c",
      "metadata": {
        "id": "5e9a495c"
      },
      "outputs": [],
      "source": [
        "s_scaler = StandardScaler()\n",
        "X = s_scaler.fit_transform(X)"
      ]
    },
    {
      "cell_type": "code",
      "source": [
        "total_f1 = []\n",
        "\n",
        "fold = StratifiedKFold(n_splits = 10, shuffle = True, random_state = 42)\n",
        "i = 1\n",
        "for train_index, test_index in fold.split(X, Y):\n",
        "    X_TRAIN, X_TEST = X[train_index], X[test_index]\n",
        "    Y_TRAIN, Y_TEST = Y.iloc[train_index], Y.iloc[test_index]\n",
        "    \n",
        "    lgbmc = lgb.LGBMClassifier()\n",
        "\n",
        "    lgbmc.fit(X_TRAIN, Y_TRAIN)\n",
        "    \n",
        "    Y_PRED = lgbmc.predict(X_TEST)\n",
        "    \n",
        "    print(f\"-------------------------- Fitting LGBM Classifier ----------------------- \")\n",
        "    \n",
        "    print(f\"fold {i} f1_score : {f1_score(Y_TEST, Y_PRED)}\")\n",
        "    \n",
        "    i + 1\n",
        "    \n",
        "    total_f1.append(f1_score(Y_TEST, Y_PRED))\n",
        "\n",
        "print(f\"-------------------- Mean F1-SCORE ------------------------\")\n",
        "print(np.mean(total_f1))"
      ],
      "metadata": {
        "colab": {
          "base_uri": "https://localhost:8080/"
        },
        "id": "qFfeztpQDN8C",
        "outputId": "bff45486-03f8-4559-cb69-c45f470143f8"
      },
      "id": "qFfeztpQDN8C",
      "execution_count": 32,
      "outputs": [
        {
          "output_type": "stream",
          "name": "stdout",
          "text": [
            "-------------------------- Fitting LGBM Classifier ----------------------- \n",
            "fold 1 f1_score : 0.8420828905419767\n",
            "-------------------------- Fitting LGBM Classifier ----------------------- \n",
            "fold 1 f1_score : 0.8344739093242087\n",
            "-------------------------- Fitting LGBM Classifier ----------------------- \n",
            "fold 1 f1_score : 0.8606034849128772\n",
            "-------------------------- Fitting LGBM Classifier ----------------------- \n",
            "fold 1 f1_score : 0.841813923781137\n",
            "-------------------------- Fitting LGBM Classifier ----------------------- \n",
            "fold 1 f1_score : 0.8421725239616614\n",
            "-------------------------- Fitting LGBM Classifier ----------------------- \n",
            "fold 1 f1_score : 0.849181025313763\n",
            "-------------------------- Fitting LGBM Classifier ----------------------- \n",
            "fold 1 f1_score : 0.8417910447761194\n",
            "-------------------------- Fitting LGBM Classifier ----------------------- \n",
            "fold 1 f1_score : 0.8320136956986945\n",
            "-------------------------- Fitting LGBM Classifier ----------------------- \n",
            "fold 1 f1_score : 0.849437247823317\n",
            "-------------------------- Fitting LGBM Classifier ----------------------- \n",
            "fold 1 f1_score : 0.8324393906886933\n",
            "-------------------- Mean F1-SCORE ------------------------\n",
            "0.8426009136822449\n"
          ]
        }
      ]
    },
    {
      "cell_type": "code",
      "source": [
        "print(classification_report(Y_TEST, Y_PRED))"
      ],
      "metadata": {
        "colab": {
          "base_uri": "https://localhost:8080/"
        },
        "id": "MdQIfC5Y0Rxt",
        "outputId": "46153088-339d-4723-977e-6e2306fa1f71"
      },
      "id": "MdQIfC5Y0Rxt",
      "execution_count": 33,
      "outputs": [
        {
          "output_type": "stream",
          "name": "stdout",
          "text": [
            "              precision    recall  f1-score   support\n",
            "\n",
            "           0       0.82      0.81      0.82      2172\n",
            "           1       0.83      0.84      0.83      2315\n",
            "\n",
            "    accuracy                           0.83      4487\n",
            "   macro avg       0.83      0.83      0.83      4487\n",
            "weighted avg       0.83      0.83      0.83      4487\n",
            "\n"
          ]
        }
      ]
    },
    {
      "cell_type": "code",
      "source": [
        "cm_display = ConfusionMatrixDisplay(confusion_matrix(Y_TEST, Y_PRED), display_labels= [1,0])\n",
        "cm_display.plot()\n",
        "plt.show()"
      ],
      "metadata": {
        "colab": {
          "base_uri": "https://localhost:8080/",
          "height": 279
        },
        "id": "ku_oy0wu1yhy",
        "outputId": "f2a8ec6c-f63d-4283-87d9-a8b219eccefc"
      },
      "id": "ku_oy0wu1yhy",
      "execution_count": 34,
      "outputs": [
        {
          "output_type": "display_data",
          "data": {
            "image/png": "[encoded data removed]",
            "text/plain": [
              "<Figure size 432x288 with 2 Axes>"
            ]
          },
          "metadata": {
            "needs_background": "light"
          }
        }
      ]
    },
    {
      "cell_type": "markdown",
      "source": [
        "### Checking other algorithms"
      ],
      "metadata": {
        "id": "G4phG5iUwHQz"
      },
      "id": "G4phG5iUwHQz"
    },
    {
      "cell_type": "code",
      "source": [
        "rfc = RandomForestClassifier(n_estimators = 500, max_depth = 6)"
      ],
      "metadata": {
        "id": "NreLWaqRmv85"
      },
      "id": "NreLWaqRmv85",
      "execution_count": 35,
      "outputs": []
    },
    {
      "cell_type": "code",
      "source": [
        "total_f1 = []\n",
        "\n",
        "fold = StratifiedKFold(n_splits = 5)\n",
        "i = 1\n",
        "for train_index, test_index in fold.split(X, Y):\n",
        "    X_TRAIN, X_TEST = X[train_index], X[test_index]\n",
        "    Y_TRAIN, Y_TEST = Y.iloc[train_index], Y.iloc[test_index]\n",
        "    \n",
        "    rfc.fit(X_TRAIN, Y_TRAIN)\n",
        "    \n",
        "    Y_PRED = rfc.predict(X_TEST)\n",
        "    \n",
        "    print(f\"-------------------------- Fitting Random Forest Classifier ----------------------- \")\n",
        "    \n",
        "    print(f\"fold {i} f1_score : {f1_score(Y_TEST, Y_PRED)}\")\n",
        "    \n",
        "    i + 1\n",
        "    \n",
        "    total_f1.append(f1_score(Y_TEST, Y_PRED))\n",
        "\n",
        "print(f\"-------------------- Mean F1-SCORE ------------------------\")\n",
        "print(np.mean(total_f1))"
      ],
      "metadata": {
        "colab": {
          "base_uri": "https://localhost:8080/"
        },
        "id": "aReAh-Q9mheM",
        "outputId": "9af0ba45-fa72-41fd-91d5-00aa3804abd0"
      },
      "id": "aReAh-Q9mheM",
      "execution_count": 36,
      "outputs": [
        {
          "output_type": "stream",
          "name": "stdout",
          "text": [
            "-------------------------- Fitting Random Forest Classifier ----------------------- \n",
            "fold 1 f1_score : 0.692256021495058\n",
            "-------------------------- Fitting Random Forest Classifier ----------------------- \n",
            "fold 1 f1_score : 0.7081358609794629\n",
            "-------------------------- Fitting Random Forest Classifier ----------------------- \n",
            "fold 1 f1_score : 0.7157104950132674\n",
            "-------------------------- Fitting Random Forest Classifier ----------------------- \n",
            "fold 1 f1_score : 0.6535502585445833\n",
            "-------------------------- Fitting Random Forest Classifier ----------------------- \n",
            "fold 1 f1_score : 0.6387052655573284\n",
            "-------------------- Mean F1-SCORE ------------------------\n",
            "0.68167158031794\n"
          ]
        }
      ]
    },
    {
      "cell_type": "code",
      "source": [
        "total_f1 = []\n",
        "\n",
        "fold = StratifiedKFold(n_splits = 5, shuffle = True, random_state = 42)\n",
        "i = 1\n",
        "for train_index, test_index in fold.split(X, Y):\n",
        "    X_TRAIN, X_TEST = X[train_index], X[test_index]\n",
        "    Y_TRAIN, Y_TEST = Y.iloc[train_index], Y.iloc[test_index]\n",
        "    \n",
        "    xgbc = xgb.XGBClassifier()\n",
        "\n",
        "    xgbc.fit(X_TRAIN, Y_TRAIN)\n",
        "    \n",
        "    Y_PRED = xgbc.predict(X_TEST)\n",
        "    \n",
        "    print(f\"-------------------------- Fitting XGBoost Classifier ----------------------- \")\n",
        "    \n",
        "    print(f\"fold {i} f1_score : {f1_score(Y_TEST, Y_PRED)}\")\n",
        "    \n",
        "    i + 1\n",
        "    \n",
        "    total_f1.append(f1_score(Y_TEST, Y_PRED))\n",
        "\n",
        "print(f\"-------------------- Mean F1-SCORE ------------------------\")\n",
        "print(np.mean(total_f1))"
      ],
      "metadata": {
        "colab": {
          "base_uri": "https://localhost:8080/"
        },
        "id": "EbrzO3uOoMxJ",
        "outputId": "c1b4f851-e354-4a1c-c9c5-241c954ef5b0"
      },
      "id": "EbrzO3uOoMxJ",
      "execution_count": 37,
      "outputs": [
        {
          "output_type": "stream",
          "name": "stdout",
          "text": [
            "-------------------------- Fitting XGBoost Classifier ----------------------- \n",
            "fold 1 f1_score : 0.7700134980791196\n",
            "-------------------------- Fitting XGBoost Classifier ----------------------- \n",
            "fold 1 f1_score : 0.786888657648283\n",
            "-------------------------- Fitting XGBoost Classifier ----------------------- \n",
            "fold 1 f1_score : 0.7861392339004278\n",
            "-------------------------- Fitting XGBoost Classifier ----------------------- \n",
            "fold 1 f1_score : 0.7747916666666667\n",
            "-------------------------- Fitting XGBoost Classifier ----------------------- \n",
            "fold 1 f1_score : 0.7724094751121778\n",
            "-------------------- Mean F1-SCORE ------------------------\n",
            "0.7780485062813349\n"
          ]
        }
      ]
    },
    {
      "cell_type": "code",
      "source": [
        "import sklearn.linear_model\n",
        "from sklearn.linear_model import LogisticRegression\n",
        "lr = LogisticRegression()"
      ],
      "metadata": {
        "id": "uB02NOzJrHEm"
      },
      "id": "uB02NOzJrHEm",
      "execution_count": 38,
      "outputs": []
    },
    {
      "cell_type": "code",
      "source": [
        "total_f1 = []\n",
        "\n",
        "fold = StratifiedKFold(n_splits = 10, shuffle = True, random_state = 42)\n",
        "i = 1\n",
        "for train_index, test_index in fold.split(X, Y):\n",
        "    X_TRAIN, X_TEST = X[train_index], X[test_index]\n",
        "    Y_TRAIN, Y_TEST = Y.iloc[train_index], Y.iloc[test_index]\n",
        "    \n",
        "    lr.fit(X_TRAIN, Y_TRAIN)\n",
        "    \n",
        "    Y_PRED = lr.predict(X_TEST)\n",
        "    \n",
        "    print(f\"-------------------------- Fitting Logistic Regression Classifier ----------------------- \")\n",
        "    \n",
        "    print(f\"fold {i} f1_score : {f1_score(Y_TEST, Y_PRED)}\")\n",
        "    \n",
        "    i + 1\n",
        "    \n",
        "    total_f1.append(f1_score(Y_TEST, Y_PRED))\n",
        "\n",
        "print(f\"-------------------- Mean F1-SCORE ------------------------\")\n",
        "print(np.mean(total_f1))"
      ],
      "metadata": {
        "colab": {
          "base_uri": "https://localhost:8080/"
        },
        "id": "J7-KI2O9rHTo",
        "outputId": "77de42af-ce31-4caa-a9bd-7a0b1335fc0d"
      },
      "id": "J7-KI2O9rHTo",
      "execution_count": 39,
      "outputs": [
        {
          "output_type": "stream",
          "name": "stdout",
          "text": [
            "-------------------------- Fitting Logistic Regression Classifier ----------------------- \n",
            "fold 1 f1_score : 0.7012118679481822\n",
            "-------------------------- Fitting Logistic Regression Classifier ----------------------- \n",
            "fold 1 f1_score : 0.7046368833368623\n",
            "-------------------------- Fitting Logistic Regression Classifier ----------------------- \n",
            "fold 1 f1_score : 0.7236758136566688\n",
            "-------------------------- Fitting Logistic Regression Classifier ----------------------- \n",
            "fold 1 f1_score : 0.7079081632653063\n",
            "-------------------------- Fitting Logistic Regression Classifier ----------------------- \n",
            "fold 1 f1_score : 0.7072340425531914\n",
            "-------------------------- Fitting Logistic Regression Classifier ----------------------- \n",
            "fold 1 f1_score : 0.7137704222363676\n",
            "-------------------------- Fitting Logistic Regression Classifier ----------------------- \n",
            "fold 1 f1_score : 0.7066553624417126\n",
            "-------------------------- Fitting Logistic Regression Classifier ----------------------- \n",
            "fold 1 f1_score : 0.7127998301846742\n",
            "-------------------------- Fitting Logistic Regression Classifier ----------------------- \n",
            "fold 1 f1_score : 0.7176470588235294\n",
            "-------------------------- Fitting Logistic Regression Classifier ----------------------- \n",
            "fold 1 f1_score : 0.7027949647962448\n",
            "-------------------- Mean F1-SCORE ------------------------\n",
            "0.7098334409242739\n"
          ]
        }
      ]
    },
    {
      "cell_type": "markdown",
      "source": [
        "### other algorithms show lower performance so we are sticking with LGBM Classifier"
      ],
      "metadata": {
        "id": "YisaSVsP_cVt"
      },
      "id": "YisaSVsP_cVt"
    },
    {
      "cell_type": "code",
      "source": [
        "import pickle"
      ],
      "metadata": {
        "id": "TFFiCCMfkyeQ"
      },
      "id": "TFFiCCMfkyeQ",
      "execution_count": 40,
      "outputs": []
    },
    {
      "cell_type": "code",
      "source": [
        "with open('model.pkl', 'wb') as files:\n",
        "  pickle.dump(lgbmc, files)"
      ],
      "metadata": {
        "id": "z8cG_XHk-xUW"
      },
      "id": "z8cG_XHk-xUW",
      "execution_count": 41,
      "outputs": []
    }
  ],
  "metadata": {
    "kernelspec": {
      "display_name": "Python 3 (ipykernel)",
      "language": "python",
      "name": "python3"
    },
    "language_info": {
      "codemirror_mode": {
        "name": "ipython",
        "version": 3
      },
      "file_extension": ".py",
      "mimetype": "text/x-python",
      "name": "python",
      "nbconvert_exporter": "python",
      "pygments_lexer": "ipython3",
      "version": "3.9.7"
    },
    "colab": {
      "name": "Models 2.ipynb",
      "provenance": [],
      "collapsed_sections": []
    }
  },
  "nbformat": 4,
  "nbformat_minor": 5
}