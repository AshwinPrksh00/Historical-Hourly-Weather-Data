{
 "cells": [
  {
   "cell_type": "code",
   "execution_count": 1,
   "id": "7dcea5a0",
   "metadata": {},
   "outputs": [],
   "source": [
    "import warnings\n",
    "warnings.filterwarnings('ignore')"
   ]
  },
  {
   "cell_type": "code",
   "execution_count": 2,
   "id": "e3f06902",
   "metadata": {},
   "outputs": [],
   "source": [
    "import pandas as pd"
   ]
  },
  {
   "cell_type": "code",
   "execution_count": 3,
   "id": "91cf8f7b",
   "metadata": {},
   "outputs": [],
   "source": [
    "city = pd.read_csv(\"city_attributes.csv\")\n",
    "pressure = pd.read_csv(\"pressure.csv\")\n",
    "humidity = pd.read_csv(\"humidity.csv\")\n",
    "temperature = pd.read_csv(\"temperature.csv\")\n",
    "weather = pd.read_csv(\"weather_description.csv\")\n",
    "wind_dir = pd.read_csv(\"wind_direction.csv\")\n",
    "wind_speed = pd.read_csv(\"wind_speed.csv\")"
   ]
  },
  {
   "cell_type": "code",
   "execution_count": 4,
   "id": "004d852f",
   "metadata": {},
   "outputs": [
    {
     "data": {
      "text/html": [
       "<div>\n",
       "<style scoped>\n",
       "    .dataframe tbody tr th:only-of-type {\n",
       "        vertical-align: middle;\n",
       "    }\n",
       "\n",
       "    .dataframe tbody tr th {\n",
       "        vertical-align: top;\n",
       "    }\n",
       "\n",
       "    .dataframe thead th {\n",
       "        text-align: right;\n",
       "    }\n",
       "</style>\n",
       "<table border=\"1\" class=\"dataframe\">\n",
       "  <thead>\n",
       "    <tr style=\"text-align: right;\">\n",
       "      <th></th>\n",
       "      <th>City</th>\n",
       "      <th>Country</th>\n",
       "      <th>Latitude</th>\n",
       "      <th>Longitude</th>\n",
       "    </tr>\n",
       "  </thead>\n",
       "  <tbody>\n",
       "    <tr>\n",
       "      <th>0</th>\n",
       "      <td>Vancouver</td>\n",
       "      <td>Canada</td>\n",
       "      <td>49.249660</td>\n",
       "      <td>-123.119339</td>\n",
       "    </tr>\n",
       "    <tr>\n",
       "      <th>1</th>\n",
       "      <td>Portland</td>\n",
       "      <td>United States</td>\n",
       "      <td>45.523449</td>\n",
       "      <td>-122.676208</td>\n",
       "    </tr>\n",
       "    <tr>\n",
       "      <th>2</th>\n",
       "      <td>San Francisco</td>\n",
       "      <td>United States</td>\n",
       "      <td>37.774929</td>\n",
       "      <td>-122.419418</td>\n",
       "    </tr>\n",
       "    <tr>\n",
       "      <th>3</th>\n",
       "      <td>Seattle</td>\n",
       "      <td>United States</td>\n",
       "      <td>47.606209</td>\n",
       "      <td>-122.332069</td>\n",
       "    </tr>\n",
       "    <tr>\n",
       "      <th>4</th>\n",
       "      <td>Los Angeles</td>\n",
       "      <td>United States</td>\n",
       "      <td>34.052231</td>\n",
       "      <td>-118.243683</td>\n",
       "    </tr>\n",
       "  </tbody>\n",
       "</table>\n",
       "</div>"
      ],
      "text/plain": [
       "            City        Country   Latitude   Longitude\n",
       "0      Vancouver         Canada  49.249660 -123.119339\n",
       "1       Portland  United States  45.523449 -122.676208\n",
       "2  San Francisco  United States  37.774929 -122.419418\n",
       "3        Seattle  United States  47.606209 -122.332069\n",
       "4    Los Angeles  United States  34.052231 -118.243683"
      ]
     },
     "execution_count": 4,
     "metadata": {},
     "output_type": "execute_result"
    }
   ],
   "source": [
    "city.head()"
   ]
  },
  {
   "cell_type": "code",
   "execution_count": 5,
   "id": "7fabc3cc",
   "metadata": {},
   "outputs": [
    {
     "data": {
      "text/plain": [
       "array(['Vancouver', 'Portland', 'San Francisco', 'Seattle', 'Los Angeles',\n",
       "       'San Diego', 'Las Vegas', 'Phoenix', 'Albuquerque', 'Denver',\n",
       "       'San Antonio', 'Dallas', 'Houston', 'Kansas City', 'Minneapolis',\n",
       "       'Saint Louis', 'Chicago', 'Nashville', 'Indianapolis', 'Atlanta',\n",
       "       'Detroit', 'Jacksonville', 'Charlotte', 'Miami', 'Pittsburgh',\n",
       "       'Toronto', 'Philadelphia', 'New York', 'Montreal', 'Boston',\n",
       "       'Beersheba', 'Tel Aviv District', 'Eilat', 'Haifa', 'Nahariyya',\n",
       "       'Jerusalem'], dtype=object)"
      ]
     },
     "execution_count": 5,
     "metadata": {},
     "output_type": "execute_result"
    }
   ],
   "source": [
    "city['City'].unique()"
   ]
  },
  {
   "cell_type": "markdown",
   "id": "99bd2a35",
   "metadata": {},
   "source": [
    "## Creating new datasets and feature modelling"
   ]
  },
  {
   "cell_type": "markdown",
   "id": "fe6398ef",
   "metadata": {},
   "source": [
    "### Chicago"
   ]
  },
  {
   "cell_type": "code",
   "execution_count": 6,
   "id": "65040b10",
   "metadata": {},
   "outputs": [],
   "source": [
    "Chicago = (pressure[['datetime', 'Chicago']].merge(humidity[['datetime', 'Chicago']], on = 'datetime')\n",
    "           .merge(temperature[['datetime', 'Chicago']], on = 'datetime').merge(weather[['datetime', 'Chicago']], on = 'datetime').merge(wind_dir[['datetime', 'Chicago']], on = 'datetime')\n",
    "           .merge(wind_speed[['datetime', 'Chicago']], on = 'datetime'))"
   ]
  },
  {
   "cell_type": "code",
   "execution_count": 7,
   "id": "e2ce9f98",
   "metadata": {},
   "outputs": [
    {
     "data": {
      "text/html": [
       "<div>\n",
       "<style scoped>\n",
       "    .dataframe tbody tr th:only-of-type {\n",
       "        vertical-align: middle;\n",
       "    }\n",
       "\n",
       "    .dataframe tbody tr th {\n",
       "        vertical-align: top;\n",
       "    }\n",
       "\n",
       "    .dataframe thead th {\n",
       "        text-align: right;\n",
       "    }\n",
       "</style>\n",
       "<table border=\"1\" class=\"dataframe\">\n",
       "  <thead>\n",
       "    <tr style=\"text-align: right;\">\n",
       "      <th></th>\n",
       "      <th>datetime</th>\n",
       "      <th>pressure</th>\n",
       "      <th>humidity</th>\n",
       "      <th>temperature</th>\n",
       "      <th>weather</th>\n",
       "      <th>wind direction</th>\n",
       "      <th>wind speed</th>\n",
       "    </tr>\n",
       "  </thead>\n",
       "  <tbody>\n",
       "    <tr>\n",
       "      <th>0</th>\n",
       "      <td>2012-10-01 12:00:00</td>\n",
       "      <td>NaN</td>\n",
       "      <td>NaN</td>\n",
       "      <td>NaN</td>\n",
       "      <td>NaN</td>\n",
       "      <td>NaN</td>\n",
       "      <td>NaN</td>\n",
       "    </tr>\n",
       "    <tr>\n",
       "      <th>1</th>\n",
       "      <td>2012-10-01 13:00:00</td>\n",
       "      <td>1014.0</td>\n",
       "      <td>71.0</td>\n",
       "      <td>284.010000</td>\n",
       "      <td>overcast clouds</td>\n",
       "      <td>0.0</td>\n",
       "      <td>0.0</td>\n",
       "    </tr>\n",
       "    <tr>\n",
       "      <th>2</th>\n",
       "      <td>2012-10-01 14:00:00</td>\n",
       "      <td>1014.0</td>\n",
       "      <td>70.0</td>\n",
       "      <td>284.054691</td>\n",
       "      <td>overcast clouds</td>\n",
       "      <td>0.0</td>\n",
       "      <td>0.0</td>\n",
       "    </tr>\n",
       "    <tr>\n",
       "      <th>3</th>\n",
       "      <td>2012-10-01 15:00:00</td>\n",
       "      <td>1014.0</td>\n",
       "      <td>70.0</td>\n",
       "      <td>284.177412</td>\n",
       "      <td>overcast clouds</td>\n",
       "      <td>0.0</td>\n",
       "      <td>0.0</td>\n",
       "    </tr>\n",
       "    <tr>\n",
       "      <th>4</th>\n",
       "      <td>2012-10-01 16:00:00</td>\n",
       "      <td>1014.0</td>\n",
       "      <td>70.0</td>\n",
       "      <td>284.300133</td>\n",
       "      <td>overcast clouds</td>\n",
       "      <td>0.0</td>\n",
       "      <td>0.0</td>\n",
       "    </tr>\n",
       "  </tbody>\n",
       "</table>\n",
       "</div>"
      ],
      "text/plain": [
       "              datetime  pressure  humidity  temperature          weather  \\\n",
       "0  2012-10-01 12:00:00       NaN       NaN          NaN              NaN   \n",
       "1  2012-10-01 13:00:00    1014.0      71.0   284.010000  overcast clouds   \n",
       "2  2012-10-01 14:00:00    1014.0      70.0   284.054691  overcast clouds   \n",
       "3  2012-10-01 15:00:00    1014.0      70.0   284.177412  overcast clouds   \n",
       "4  2012-10-01 16:00:00    1014.0      70.0   284.300133  overcast clouds   \n",
       "\n",
       "   wind direction  wind speed  \n",
       "0             NaN         NaN  \n",
       "1             0.0         0.0  \n",
       "2             0.0         0.0  \n",
       "3             0.0         0.0  \n",
       "4             0.0         0.0  "
      ]
     },
     "execution_count": 7,
     "metadata": {},
     "output_type": "execute_result"
    }
   ],
   "source": [
    "Chicago.columns = ['datetime', 'pressure', 'humidity', 'temperature', 'weather', 'wind direction', 'wind speed']\n",
    "Chicago.head()"
   ]
  },
  {
   "cell_type": "code",
   "execution_count": 8,
   "id": "5e6c8c11",
   "metadata": {},
   "outputs": [],
   "source": [
    "for i in Chicago[Chicago['weather'] != 'sky is clear']['weather'].unique():\n",
    "     Chicago[Chicago['weather'] != 'sky is clear'] = Chicago[Chicago['weather'] != 'sky is clear'].replace({'weather': i}, value = 'sky is not clear')"
   ]
  },
  {
   "cell_type": "code",
   "execution_count": 9,
   "id": "f579bb3a",
   "metadata": {},
   "outputs": [
    {
     "data": {
      "text/plain": [
       "sky is not clear    34409\n",
       "sky is clear        10844\n",
       "Name: weather, dtype: int64"
      ]
     },
     "execution_count": 9,
     "metadata": {},
     "output_type": "execute_result"
    }
   ],
   "source": [
    "Chicago['weather'].value_counts()"
   ]
  },
  {
   "cell_type": "code",
   "execution_count": 153,
   "id": "af86967c",
   "metadata": {},
   "outputs": [],
   "source": [
    "compression_opts = dict(method='zip', archive_name='Chicago.csv')  \n",
    "Chicago.to_csv('Chicago.zip', index = False, compression = compression_opts)"
   ]
  },
  {
   "cell_type": "markdown",
   "id": "e8c8ddda",
   "metadata": {},
   "source": [
    "### Vancouver"
   ]
  },
  {
   "cell_type": "code",
   "execution_count": 10,
   "id": "7762e5a3",
   "metadata": {},
   "outputs": [],
   "source": [
    "Vancouver = (pressure[['datetime', 'Vancouver']].merge(humidity[['datetime', 'Vancouver']], on = 'datetime')\n",
    "           .merge(temperature[['datetime', 'Vancouver']], on = 'datetime').merge(weather[['datetime', 'Vancouver']], on = 'datetime').merge(wind_dir[['datetime', 'Chicago']], on = 'datetime')\n",
    "           .merge(wind_speed[['datetime', 'Vancouver']], on = 'datetime'))"
   ]
  },
  {
   "cell_type": "code",
   "execution_count": 11,
   "id": "8cae0bd8",
   "metadata": {},
   "outputs": [
    {
     "data": {
      "text/html": [
       "<div>\n",
       "<style scoped>\n",
       "    .dataframe tbody tr th:only-of-type {\n",
       "        vertical-align: middle;\n",
       "    }\n",
       "\n",
       "    .dataframe tbody tr th {\n",
       "        vertical-align: top;\n",
       "    }\n",
       "\n",
       "    .dataframe thead th {\n",
       "        text-align: right;\n",
       "    }\n",
       "</style>\n",
       "<table border=\"1\" class=\"dataframe\">\n",
       "  <thead>\n",
       "    <tr style=\"text-align: right;\">\n",
       "      <th></th>\n",
       "      <th>datetime</th>\n",
       "      <th>pressure</th>\n",
       "      <th>humidity</th>\n",
       "      <th>temperature</th>\n",
       "      <th>weather</th>\n",
       "      <th>wind direction</th>\n",
       "      <th>wind speed</th>\n",
       "    </tr>\n",
       "  </thead>\n",
       "  <tbody>\n",
       "    <tr>\n",
       "      <th>0</th>\n",
       "      <td>2012-10-01 12:00:00</td>\n",
       "      <td>NaN</td>\n",
       "      <td>NaN</td>\n",
       "      <td>NaN</td>\n",
       "      <td>NaN</td>\n",
       "      <td>NaN</td>\n",
       "      <td>NaN</td>\n",
       "    </tr>\n",
       "    <tr>\n",
       "      <th>1</th>\n",
       "      <td>2012-10-01 13:00:00</td>\n",
       "      <td>NaN</td>\n",
       "      <td>76.0</td>\n",
       "      <td>284.630000</td>\n",
       "      <td>mist</td>\n",
       "      <td>0.0</td>\n",
       "      <td>0.0</td>\n",
       "    </tr>\n",
       "    <tr>\n",
       "      <th>2</th>\n",
       "      <td>2012-10-01 14:00:00</td>\n",
       "      <td>NaN</td>\n",
       "      <td>76.0</td>\n",
       "      <td>284.629041</td>\n",
       "      <td>broken clouds</td>\n",
       "      <td>0.0</td>\n",
       "      <td>0.0</td>\n",
       "    </tr>\n",
       "    <tr>\n",
       "      <th>3</th>\n",
       "      <td>2012-10-01 15:00:00</td>\n",
       "      <td>NaN</td>\n",
       "      <td>76.0</td>\n",
       "      <td>284.626998</td>\n",
       "      <td>broken clouds</td>\n",
       "      <td>0.0</td>\n",
       "      <td>0.0</td>\n",
       "    </tr>\n",
       "    <tr>\n",
       "      <th>4</th>\n",
       "      <td>2012-10-01 16:00:00</td>\n",
       "      <td>NaN</td>\n",
       "      <td>77.0</td>\n",
       "      <td>284.624955</td>\n",
       "      <td>broken clouds</td>\n",
       "      <td>0.0</td>\n",
       "      <td>0.0</td>\n",
       "    </tr>\n",
       "  </tbody>\n",
       "</table>\n",
       "</div>"
      ],
      "text/plain": [
       "              datetime  pressure  humidity  temperature        weather  \\\n",
       "0  2012-10-01 12:00:00       NaN       NaN          NaN            NaN   \n",
       "1  2012-10-01 13:00:00       NaN      76.0   284.630000           mist   \n",
       "2  2012-10-01 14:00:00       NaN      76.0   284.629041  broken clouds   \n",
       "3  2012-10-01 15:00:00       NaN      76.0   284.626998  broken clouds   \n",
       "4  2012-10-01 16:00:00       NaN      77.0   284.624955  broken clouds   \n",
       "\n",
       "   wind direction  wind speed  \n",
       "0             NaN         NaN  \n",
       "1             0.0         0.0  \n",
       "2             0.0         0.0  \n",
       "3             0.0         0.0  \n",
       "4             0.0         0.0  "
      ]
     },
     "execution_count": 11,
     "metadata": {},
     "output_type": "execute_result"
    }
   ],
   "source": [
    "Vancouver.columns = ['datetime', 'pressure', 'humidity', 'temperature', 'weather', 'wind direction', 'wind speed']\n",
    "Vancouver.head()"
   ]
  },
  {
   "cell_type": "code",
   "execution_count": 12,
   "id": "af67b374",
   "metadata": {},
   "outputs": [],
   "source": [
    "for i in Vancouver[Vancouver['weather'] != 'sky is clear']['weather'].unique():\n",
    "     Vancouver[Vancouver['weather'] != 'sky is clear'] = Vancouver[Vancouver['weather'] != 'sky is clear'].replace({'weather': i}, value = 'sky is not clear')"
   ]
  },
  {
   "cell_type": "code",
   "execution_count": 13,
   "id": "be9f90af",
   "metadata": {},
   "outputs": [
    {
     "data": {
      "text/plain": [
       "sky is not clear    32448\n",
       "sky is clear        12805\n",
       "Name: weather, dtype: int64"
      ]
     },
     "execution_count": 13,
     "metadata": {},
     "output_type": "execute_result"
    }
   ],
   "source": [
    "Vancouver['weather'].value_counts()"
   ]
  },
  {
   "cell_type": "code",
   "execution_count": 154,
   "id": "13750533",
   "metadata": {},
   "outputs": [],
   "source": [
    "compression_opts = dict(method='zip', archive_name='Vancouver.csv')  \n",
    "Vancouver.to_csv('Vancouver.zip', index = False, compression = compression_opts)"
   ]
  },
  {
   "cell_type": "markdown",
   "id": "540d2a1d",
   "metadata": {},
   "source": [
    "### Portland"
   ]
  },
  {
   "cell_type": "code",
   "execution_count": 14,
   "id": "4ef8b845",
   "metadata": {},
   "outputs": [],
   "source": [
    "Portland = (pressure[['datetime', 'Portland']].merge(humidity[['datetime', 'Portland']], on = 'datetime')\n",
    "           .merge(temperature[['datetime', 'Portland']], on = 'datetime').merge(weather[['datetime', 'Portland']], on = 'datetime').merge(wind_dir[['datetime', 'Chicago']], on = 'datetime')\n",
    "           .merge(wind_speed[['datetime', 'Portland']], on = 'datetime'))"
   ]
  },
  {
   "cell_type": "code",
   "execution_count": 15,
   "id": "b94b197e",
   "metadata": {},
   "outputs": [
    {
     "data": {
      "text/html": [
       "<div>\n",
       "<style scoped>\n",
       "    .dataframe tbody tr th:only-of-type {\n",
       "        vertical-align: middle;\n",
       "    }\n",
       "\n",
       "    .dataframe tbody tr th {\n",
       "        vertical-align: top;\n",
       "    }\n",
       "\n",
       "    .dataframe thead th {\n",
       "        text-align: right;\n",
       "    }\n",
       "</style>\n",
       "<table border=\"1\" class=\"dataframe\">\n",
       "  <thead>\n",
       "    <tr style=\"text-align: right;\">\n",
       "      <th></th>\n",
       "      <th>datetime</th>\n",
       "      <th>pressure</th>\n",
       "      <th>humidity</th>\n",
       "      <th>temperature</th>\n",
       "      <th>weather</th>\n",
       "      <th>wind direction</th>\n",
       "      <th>wind speed</th>\n",
       "    </tr>\n",
       "  </thead>\n",
       "  <tbody>\n",
       "    <tr>\n",
       "      <th>0</th>\n",
       "      <td>2012-10-01 12:00:00</td>\n",
       "      <td>NaN</td>\n",
       "      <td>NaN</td>\n",
       "      <td>NaN</td>\n",
       "      <td>NaN</td>\n",
       "      <td>NaN</td>\n",
       "      <td>NaN</td>\n",
       "    </tr>\n",
       "    <tr>\n",
       "      <th>1</th>\n",
       "      <td>2012-10-01 13:00:00</td>\n",
       "      <td>1024.0</td>\n",
       "      <td>81.0</td>\n",
       "      <td>282.080000</td>\n",
       "      <td>scattered clouds</td>\n",
       "      <td>0.0</td>\n",
       "      <td>0.0</td>\n",
       "    </tr>\n",
       "    <tr>\n",
       "      <th>2</th>\n",
       "      <td>2012-10-01 14:00:00</td>\n",
       "      <td>1024.0</td>\n",
       "      <td>80.0</td>\n",
       "      <td>282.083252</td>\n",
       "      <td>scattered clouds</td>\n",
       "      <td>0.0</td>\n",
       "      <td>0.0</td>\n",
       "    </tr>\n",
       "    <tr>\n",
       "      <th>3</th>\n",
       "      <td>2012-10-01 15:00:00</td>\n",
       "      <td>1024.0</td>\n",
       "      <td>80.0</td>\n",
       "      <td>282.091866</td>\n",
       "      <td>scattered clouds</td>\n",
       "      <td>0.0</td>\n",
       "      <td>0.0</td>\n",
       "    </tr>\n",
       "    <tr>\n",
       "      <th>4</th>\n",
       "      <td>2012-10-01 16:00:00</td>\n",
       "      <td>1024.0</td>\n",
       "      <td>80.0</td>\n",
       "      <td>282.100481</td>\n",
       "      <td>scattered clouds</td>\n",
       "      <td>0.0</td>\n",
       "      <td>0.0</td>\n",
       "    </tr>\n",
       "  </tbody>\n",
       "</table>\n",
       "</div>"
      ],
      "text/plain": [
       "              datetime  pressure  humidity  temperature           weather  \\\n",
       "0  2012-10-01 12:00:00       NaN       NaN          NaN               NaN   \n",
       "1  2012-10-01 13:00:00    1024.0      81.0   282.080000  scattered clouds   \n",
       "2  2012-10-01 14:00:00    1024.0      80.0   282.083252  scattered clouds   \n",
       "3  2012-10-01 15:00:00    1024.0      80.0   282.091866  scattered clouds   \n",
       "4  2012-10-01 16:00:00    1024.0      80.0   282.100481  scattered clouds   \n",
       "\n",
       "   wind direction  wind speed  \n",
       "0             NaN         NaN  \n",
       "1             0.0         0.0  \n",
       "2             0.0         0.0  \n",
       "3             0.0         0.0  \n",
       "4             0.0         0.0  "
      ]
     },
     "execution_count": 15,
     "metadata": {},
     "output_type": "execute_result"
    }
   ],
   "source": [
    "Portland.columns = ['datetime', 'pressure', 'humidity', 'temperature', 'weather', 'wind direction', 'wind speed']\n",
    "Portland.head()"
   ]
  },
  {
   "cell_type": "code",
   "execution_count": 16,
   "id": "36159740",
   "metadata": {},
   "outputs": [],
   "source": [
    "for i in Portland[Portland['weather'] != 'sky is clear']['weather'].unique():\n",
    "     Portland[Portland['weather'] != 'sky is clear'] = Portland[Portland['weather'] != 'sky is clear'].replace({'weather': i}, value = 'sky is not clear')"
   ]
  },
  {
   "cell_type": "code",
   "execution_count": 17,
   "id": "642a2c12",
   "metadata": {},
   "outputs": [
    {
     "data": {
      "text/plain": [
       "sky is not clear    33528\n",
       "sky is clear        11725\n",
       "Name: weather, dtype: int64"
      ]
     },
     "execution_count": 17,
     "metadata": {},
     "output_type": "execute_result"
    }
   ],
   "source": [
    "Portland['weather'].value_counts()"
   ]
  },
  {
   "cell_type": "code",
   "execution_count": 187,
   "id": "1a056b30",
   "metadata": {},
   "outputs": [],
   "source": [
    "compression_opts = dict(method='zip', archive_name='Portland.csv')  \n",
    "Portland.to_csv('Portland.zip', index = False, compression = compression_opts)"
   ]
  },
  {
   "cell_type": "markdown",
   "id": "f992bfd3",
   "metadata": {},
   "source": [
    "### San Francisco"
   ]
  },
  {
   "cell_type": "code",
   "execution_count": 18,
   "id": "e72ea7fb",
   "metadata": {},
   "outputs": [],
   "source": [
    "SF = (pressure[['datetime', 'San Francisco']].merge(humidity[['datetime', 'San Francisco']], on = 'datetime')\n",
    "           .merge(temperature[['datetime', 'San Francisco']], on = 'datetime').merge(weather[['datetime', 'San Francisco']], on = 'datetime').merge(wind_dir[['datetime', 'Chicago']], on = 'datetime')\n",
    "           .merge(wind_speed[['datetime', 'San Francisco']], on = 'datetime'))"
   ]
  },
  {
   "cell_type": "code",
   "execution_count": 19,
   "id": "dbde7a84",
   "metadata": {},
   "outputs": [
    {
     "data": {
      "text/html": [
       "<div>\n",
       "<style scoped>\n",
       "    .dataframe tbody tr th:only-of-type {\n",
       "        vertical-align: middle;\n",
       "    }\n",
       "\n",
       "    .dataframe tbody tr th {\n",
       "        vertical-align: top;\n",
       "    }\n",
       "\n",
       "    .dataframe thead th {\n",
       "        text-align: right;\n",
       "    }\n",
       "</style>\n",
       "<table border=\"1\" class=\"dataframe\">\n",
       "  <thead>\n",
       "    <tr style=\"text-align: right;\">\n",
       "      <th></th>\n",
       "      <th>datetime</th>\n",
       "      <th>pressure</th>\n",
       "      <th>humidity</th>\n",
       "      <th>temperature</th>\n",
       "      <th>weather</th>\n",
       "      <th>wind direction</th>\n",
       "      <th>wind speed</th>\n",
       "    </tr>\n",
       "  </thead>\n",
       "  <tbody>\n",
       "    <tr>\n",
       "      <th>0</th>\n",
       "      <td>2012-10-01 12:00:00</td>\n",
       "      <td>NaN</td>\n",
       "      <td>NaN</td>\n",
       "      <td>NaN</td>\n",
       "      <td>NaN</td>\n",
       "      <td>NaN</td>\n",
       "      <td>NaN</td>\n",
       "    </tr>\n",
       "    <tr>\n",
       "      <th>1</th>\n",
       "      <td>2012-10-01 13:00:00</td>\n",
       "      <td>1009.0</td>\n",
       "      <td>88.0</td>\n",
       "      <td>289.480000</td>\n",
       "      <td>light rain</td>\n",
       "      <td>0.0</td>\n",
       "      <td>2.0</td>\n",
       "    </tr>\n",
       "    <tr>\n",
       "      <th>2</th>\n",
       "      <td>2012-10-01 14:00:00</td>\n",
       "      <td>1009.0</td>\n",
       "      <td>87.0</td>\n",
       "      <td>289.474993</td>\n",
       "      <td>sky is clear</td>\n",
       "      <td>0.0</td>\n",
       "      <td>2.0</td>\n",
       "    </tr>\n",
       "    <tr>\n",
       "      <th>3</th>\n",
       "      <td>2012-10-01 15:00:00</td>\n",
       "      <td>1009.0</td>\n",
       "      <td>86.0</td>\n",
       "      <td>289.460618</td>\n",
       "      <td>sky is clear</td>\n",
       "      <td>0.0</td>\n",
       "      <td>2.0</td>\n",
       "    </tr>\n",
       "    <tr>\n",
       "      <th>4</th>\n",
       "      <td>2012-10-01 16:00:00</td>\n",
       "      <td>1009.0</td>\n",
       "      <td>85.0</td>\n",
       "      <td>289.446243</td>\n",
       "      <td>sky is clear</td>\n",
       "      <td>0.0</td>\n",
       "      <td>2.0</td>\n",
       "    </tr>\n",
       "  </tbody>\n",
       "</table>\n",
       "</div>"
      ],
      "text/plain": [
       "              datetime  pressure  humidity  temperature       weather  \\\n",
       "0  2012-10-01 12:00:00       NaN       NaN          NaN           NaN   \n",
       "1  2012-10-01 13:00:00    1009.0      88.0   289.480000    light rain   \n",
       "2  2012-10-01 14:00:00    1009.0      87.0   289.474993  sky is clear   \n",
       "3  2012-10-01 15:00:00    1009.0      86.0   289.460618  sky is clear   \n",
       "4  2012-10-01 16:00:00    1009.0      85.0   289.446243  sky is clear   \n",
       "\n",
       "   wind direction  wind speed  \n",
       "0             NaN         NaN  \n",
       "1             0.0         2.0  \n",
       "2             0.0         2.0  \n",
       "3             0.0         2.0  \n",
       "4             0.0         2.0  "
      ]
     },
     "execution_count": 19,
     "metadata": {},
     "output_type": "execute_result"
    }
   ],
   "source": [
    "SF.columns = ['datetime', 'pressure', 'humidity', 'temperature', 'weather', 'wind direction', 'wind speed']\n",
    "SF.head()"
   ]
  },
  {
   "cell_type": "code",
   "execution_count": 20,
   "id": "4a9a37b3",
   "metadata": {},
   "outputs": [],
   "source": [
    "for i in SF[SF['weather'] != 'sky is clear']['weather'].unique():\n",
    "     SF[SF['weather'] != 'sky is clear'] = SF[SF['weather'] != 'sky is clear'].replace({'weather': i}, value = 'sky is not clear')"
   ]
  },
  {
   "cell_type": "code",
   "execution_count": 21,
   "id": "b61836b9",
   "metadata": {},
   "outputs": [
    {
     "data": {
      "text/plain": [
       "sky is not clear    32599\n",
       "sky is clear        12654\n",
       "Name: weather, dtype: int64"
      ]
     },
     "execution_count": 21,
     "metadata": {},
     "output_type": "execute_result"
    }
   ],
   "source": [
    "SF['weather'].value_counts()"
   ]
  },
  {
   "cell_type": "code",
   "execution_count": 186,
   "id": "9fee6b88",
   "metadata": {},
   "outputs": [],
   "source": [
    "compression_opts = dict(method='zip', archive_name='San Francisco.csv')  \n",
    "SF.to_csv('San Francisco.zip', index = False, compression = compression_opts)"
   ]
  },
  {
   "cell_type": "markdown",
   "id": "9467f533",
   "metadata": {},
   "source": [
    "### Seattle"
   ]
  },
  {
   "cell_type": "code",
   "execution_count": 22,
   "id": "236969a0",
   "metadata": {},
   "outputs": [],
   "source": [
    "Seattle = (pressure[['datetime', 'Seattle']].merge(humidity[['datetime', 'Seattle']], on = 'datetime')\n",
    "           .merge(temperature[['datetime', 'Seattle']], on = 'datetime').merge(weather[['datetime', 'Seattle']], on = 'datetime').merge(wind_dir[['datetime', 'Chicago']], on = 'datetime')\n",
    "           .merge(wind_speed[['datetime', 'Seattle']], on = 'datetime'))"
   ]
  },
  {
   "cell_type": "code",
   "execution_count": 23,
   "id": "df594aa5",
   "metadata": {},
   "outputs": [
    {
     "data": {
      "text/html": [
       "<div>\n",
       "<style scoped>\n",
       "    .dataframe tbody tr th:only-of-type {\n",
       "        vertical-align: middle;\n",
       "    }\n",
       "\n",
       "    .dataframe tbody tr th {\n",
       "        vertical-align: top;\n",
       "    }\n",
       "\n",
       "    .dataframe thead th {\n",
       "        text-align: right;\n",
       "    }\n",
       "</style>\n",
       "<table border=\"1\" class=\"dataframe\">\n",
       "  <thead>\n",
       "    <tr style=\"text-align: right;\">\n",
       "      <th></th>\n",
       "      <th>datetime</th>\n",
       "      <th>pressure</th>\n",
       "      <th>humidity</th>\n",
       "      <th>temperature</th>\n",
       "      <th>weather</th>\n",
       "      <th>wind direction</th>\n",
       "      <th>wind speed</th>\n",
       "    </tr>\n",
       "  </thead>\n",
       "  <tbody>\n",
       "    <tr>\n",
       "      <th>0</th>\n",
       "      <td>2012-10-01 12:00:00</td>\n",
       "      <td>NaN</td>\n",
       "      <td>NaN</td>\n",
       "      <td>NaN</td>\n",
       "      <td>NaN</td>\n",
       "      <td>NaN</td>\n",
       "      <td>NaN</td>\n",
       "    </tr>\n",
       "    <tr>\n",
       "      <th>1</th>\n",
       "      <td>2012-10-01 13:00:00</td>\n",
       "      <td>1027.0</td>\n",
       "      <td>81.0</td>\n",
       "      <td>281.800000</td>\n",
       "      <td>sky is clear</td>\n",
       "      <td>0.0</td>\n",
       "      <td>0.0</td>\n",
       "    </tr>\n",
       "    <tr>\n",
       "      <th>2</th>\n",
       "      <td>2012-10-01 14:00:00</td>\n",
       "      <td>1027.0</td>\n",
       "      <td>80.0</td>\n",
       "      <td>281.797217</td>\n",
       "      <td>sky is clear</td>\n",
       "      <td>0.0</td>\n",
       "      <td>0.0</td>\n",
       "    </tr>\n",
       "    <tr>\n",
       "      <th>3</th>\n",
       "      <td>2012-10-01 15:00:00</td>\n",
       "      <td>1028.0</td>\n",
       "      <td>80.0</td>\n",
       "      <td>281.789833</td>\n",
       "      <td>sky is clear</td>\n",
       "      <td>0.0</td>\n",
       "      <td>0.0</td>\n",
       "    </tr>\n",
       "    <tr>\n",
       "      <th>4</th>\n",
       "      <td>2012-10-01 16:00:00</td>\n",
       "      <td>1028.0</td>\n",
       "      <td>79.0</td>\n",
       "      <td>281.782449</td>\n",
       "      <td>sky is clear</td>\n",
       "      <td>0.0</td>\n",
       "      <td>0.0</td>\n",
       "    </tr>\n",
       "  </tbody>\n",
       "</table>\n",
       "</div>"
      ],
      "text/plain": [
       "              datetime  pressure  humidity  temperature       weather  \\\n",
       "0  2012-10-01 12:00:00       NaN       NaN          NaN           NaN   \n",
       "1  2012-10-01 13:00:00    1027.0      81.0   281.800000  sky is clear   \n",
       "2  2012-10-01 14:00:00    1027.0      80.0   281.797217  sky is clear   \n",
       "3  2012-10-01 15:00:00    1028.0      80.0   281.789833  sky is clear   \n",
       "4  2012-10-01 16:00:00    1028.0      79.0   281.782449  sky is clear   \n",
       "\n",
       "   wind direction  wind speed  \n",
       "0             NaN         NaN  \n",
       "1             0.0         0.0  \n",
       "2             0.0         0.0  \n",
       "3             0.0         0.0  \n",
       "4             0.0         0.0  "
      ]
     },
     "execution_count": 23,
     "metadata": {},
     "output_type": "execute_result"
    }
   ],
   "source": [
    "Seattle.columns = ['datetime', 'pressure', 'humidity', 'temperature', 'weather', 'wind direction', 'wind speed']\n",
    "Seattle.head()"
   ]
  },
  {
   "cell_type": "code",
   "execution_count": 24,
   "id": "b6dbc59c",
   "metadata": {},
   "outputs": [],
   "source": [
    "for i in Seattle[Seattle['weather'] != 'sky is clear']['weather'].unique():\n",
    "     Seattle[Seattle['weather'] != 'sky is clear'] = Seattle[Seattle['weather'] != 'sky is clear'].replace({'weather': i}, value = 'sky is not clear')"
   ]
  },
  {
   "cell_type": "code",
   "execution_count": 25,
   "id": "db91e7dc",
   "metadata": {},
   "outputs": [
    {
     "data": {
      "text/plain": [
       "sky is not clear    32452\n",
       "sky is clear        12801\n",
       "Name: weather, dtype: int64"
      ]
     },
     "execution_count": 25,
     "metadata": {},
     "output_type": "execute_result"
    }
   ],
   "source": [
    "Seattle['weather'].value_counts()"
   ]
  },
  {
   "cell_type": "code",
   "execution_count": 185,
   "id": "4a1e048c",
   "metadata": {},
   "outputs": [],
   "source": [
    "compression_opts = dict(method='zip', archive_name='Seattle.csv')  \n",
    "Seattle.to_csv('Seattle.zip', index = False, compression = compression_opts)"
   ]
  },
  {
   "cell_type": "markdown",
   "id": "86c684a5",
   "metadata": {},
   "source": [
    "### Los Angeles"
   ]
  },
  {
   "cell_type": "code",
   "execution_count": 26,
   "id": "75297832",
   "metadata": {},
   "outputs": [],
   "source": [
    "LA = (pressure[['datetime', 'Los Angeles']].merge(humidity[['datetime', 'Los Angeles']], on = 'datetime')\n",
    "           .merge(temperature[['datetime', 'Los Angeles']], on = 'datetime').merge(weather[['datetime', 'Los Angeles']], on = 'datetime').merge(wind_dir[['datetime', 'Chicago']], on = 'datetime')\n",
    "           .merge(wind_speed[['datetime', 'Los Angeles']], on = 'datetime'))"
   ]
  },
  {
   "cell_type": "code",
   "execution_count": 27,
   "id": "ed9dda11",
   "metadata": {},
   "outputs": [
    {
     "data": {
      "text/html": [
       "<div>\n",
       "<style scoped>\n",
       "    .dataframe tbody tr th:only-of-type {\n",
       "        vertical-align: middle;\n",
       "    }\n",
       "\n",
       "    .dataframe tbody tr th {\n",
       "        vertical-align: top;\n",
       "    }\n",
       "\n",
       "    .dataframe thead th {\n",
       "        text-align: right;\n",
       "    }\n",
       "</style>\n",
       "<table border=\"1\" class=\"dataframe\">\n",
       "  <thead>\n",
       "    <tr style=\"text-align: right;\">\n",
       "      <th></th>\n",
       "      <th>datetime</th>\n",
       "      <th>pressure</th>\n",
       "      <th>humidity</th>\n",
       "      <th>temperature</th>\n",
       "      <th>weather</th>\n",
       "      <th>wind direction</th>\n",
       "      <th>wind speed</th>\n",
       "    </tr>\n",
       "  </thead>\n",
       "  <tbody>\n",
       "    <tr>\n",
       "      <th>0</th>\n",
       "      <td>2012-10-01 12:00:00</td>\n",
       "      <td>NaN</td>\n",
       "      <td>NaN</td>\n",
       "      <td>NaN</td>\n",
       "      <td>NaN</td>\n",
       "      <td>NaN</td>\n",
       "      <td>NaN</td>\n",
       "    </tr>\n",
       "    <tr>\n",
       "      <th>1</th>\n",
       "      <td>2012-10-01 13:00:00</td>\n",
       "      <td>1013.0</td>\n",
       "      <td>88.0</td>\n",
       "      <td>291.870000</td>\n",
       "      <td>mist</td>\n",
       "      <td>0.0</td>\n",
       "      <td>0.0</td>\n",
       "    </tr>\n",
       "    <tr>\n",
       "      <th>2</th>\n",
       "      <td>2012-10-01 14:00:00</td>\n",
       "      <td>1013.0</td>\n",
       "      <td>88.0</td>\n",
       "      <td>291.868186</td>\n",
       "      <td>sky is clear</td>\n",
       "      <td>0.0</td>\n",
       "      <td>0.0</td>\n",
       "    </tr>\n",
       "    <tr>\n",
       "      <th>3</th>\n",
       "      <td>2012-10-01 15:00:00</td>\n",
       "      <td>1013.0</td>\n",
       "      <td>88.0</td>\n",
       "      <td>291.862844</td>\n",
       "      <td>sky is clear</td>\n",
       "      <td>0.0</td>\n",
       "      <td>0.0</td>\n",
       "    </tr>\n",
       "    <tr>\n",
       "      <th>4</th>\n",
       "      <td>2012-10-01 16:00:00</td>\n",
       "      <td>1013.0</td>\n",
       "      <td>88.0</td>\n",
       "      <td>291.857503</td>\n",
       "      <td>sky is clear</td>\n",
       "      <td>0.0</td>\n",
       "      <td>0.0</td>\n",
       "    </tr>\n",
       "  </tbody>\n",
       "</table>\n",
       "</div>"
      ],
      "text/plain": [
       "              datetime  pressure  humidity  temperature       weather  \\\n",
       "0  2012-10-01 12:00:00       NaN       NaN          NaN           NaN   \n",
       "1  2012-10-01 13:00:00    1013.0      88.0   291.870000          mist   \n",
       "2  2012-10-01 14:00:00    1013.0      88.0   291.868186  sky is clear   \n",
       "3  2012-10-01 15:00:00    1013.0      88.0   291.862844  sky is clear   \n",
       "4  2012-10-01 16:00:00    1013.0      88.0   291.857503  sky is clear   \n",
       "\n",
       "   wind direction  wind speed  \n",
       "0             NaN         NaN  \n",
       "1             0.0         0.0  \n",
       "2             0.0         0.0  \n",
       "3             0.0         0.0  \n",
       "4             0.0         0.0  "
      ]
     },
     "execution_count": 27,
     "metadata": {},
     "output_type": "execute_result"
    }
   ],
   "source": [
    "LA.columns = ['datetime', 'pressure', 'humidity', 'temperature', 'weather', 'wind direction', 'wind speed']\n",
    "LA.head()"
   ]
  },
  {
   "cell_type": "code",
   "execution_count": 28,
   "id": "29027507",
   "metadata": {},
   "outputs": [],
   "source": [
    "for i in LA[LA['weather'] != 'sky is clear']['weather'].unique():\n",
    "     LA[LA['weather'] != 'sky is clear'] = LA[LA['weather'] != 'sky is clear'].replace({'weather': i}, value = 'sky is not clear')"
   ]
  },
  {
   "cell_type": "code",
   "execution_count": 29,
   "id": "9237d5ab",
   "metadata": {},
   "outputs": [
    {
     "data": {
      "text/plain": [
       "sky is clear        26136\n",
       "sky is not clear    19117\n",
       "Name: weather, dtype: int64"
      ]
     },
     "execution_count": 29,
     "metadata": {},
     "output_type": "execute_result"
    }
   ],
   "source": [
    "LA['weather'].value_counts()"
   ]
  },
  {
   "cell_type": "code",
   "execution_count": 184,
   "id": "cdfd37be",
   "metadata": {},
   "outputs": [],
   "source": [
    "compression_opts = dict(method='zip', archive_name='LA.csv')  \n",
    "LA.to_csv('LA.zip', index = False, compression = compression_opts)"
   ]
  },
  {
   "cell_type": "markdown",
   "id": "8f103372",
   "metadata": {},
   "source": [
    "### San Diego"
   ]
  },
  {
   "cell_type": "code",
   "execution_count": 30,
   "id": "168c1524",
   "metadata": {},
   "outputs": [],
   "source": [
    "SD = (pressure[['datetime', 'San Diego']].merge(humidity[['datetime', 'San Diego']], on = 'datetime')\n",
    "           .merge(temperature[['datetime', 'San Diego']], on = 'datetime').merge(weather[['datetime', 'San Diego']], on = 'datetime').merge(wind_dir[['datetime', 'Chicago']], on = 'datetime')\n",
    "           .merge(wind_speed[['datetime', 'San Diego']], on = 'datetime'))"
   ]
  },
  {
   "cell_type": "code",
   "execution_count": 31,
   "id": "007e19bd",
   "metadata": {},
   "outputs": [
    {
     "data": {
      "text/html": [
       "<div>\n",
       "<style scoped>\n",
       "    .dataframe tbody tr th:only-of-type {\n",
       "        vertical-align: middle;\n",
       "    }\n",
       "\n",
       "    .dataframe tbody tr th {\n",
       "        vertical-align: top;\n",
       "    }\n",
       "\n",
       "    .dataframe thead th {\n",
       "        text-align: right;\n",
       "    }\n",
       "</style>\n",
       "<table border=\"1\" class=\"dataframe\">\n",
       "  <thead>\n",
       "    <tr style=\"text-align: right;\">\n",
       "      <th></th>\n",
       "      <th>datetime</th>\n",
       "      <th>pressure</th>\n",
       "      <th>humidity</th>\n",
       "      <th>temperature</th>\n",
       "      <th>weather</th>\n",
       "      <th>wind direction</th>\n",
       "      <th>wind speed</th>\n",
       "    </tr>\n",
       "  </thead>\n",
       "  <tbody>\n",
       "    <tr>\n",
       "      <th>0</th>\n",
       "      <td>2012-10-01 12:00:00</td>\n",
       "      <td>NaN</td>\n",
       "      <td>NaN</td>\n",
       "      <td>NaN</td>\n",
       "      <td>NaN</td>\n",
       "      <td>NaN</td>\n",
       "      <td>NaN</td>\n",
       "    </tr>\n",
       "    <tr>\n",
       "      <th>1</th>\n",
       "      <td>2012-10-01 13:00:00</td>\n",
       "      <td>1013.0</td>\n",
       "      <td>82.0</td>\n",
       "      <td>291.530000</td>\n",
       "      <td>sky is clear</td>\n",
       "      <td>0.0</td>\n",
       "      <td>0.0</td>\n",
       "    </tr>\n",
       "    <tr>\n",
       "      <th>2</th>\n",
       "      <td>2012-10-01 14:00:00</td>\n",
       "      <td>1013.0</td>\n",
       "      <td>81.0</td>\n",
       "      <td>291.533501</td>\n",
       "      <td>sky is clear</td>\n",
       "      <td>0.0</td>\n",
       "      <td>0.0</td>\n",
       "    </tr>\n",
       "    <tr>\n",
       "      <th>3</th>\n",
       "      <td>2012-10-01 15:00:00</td>\n",
       "      <td>1013.0</td>\n",
       "      <td>81.0</td>\n",
       "      <td>291.543355</td>\n",
       "      <td>sky is clear</td>\n",
       "      <td>0.0</td>\n",
       "      <td>0.0</td>\n",
       "    </tr>\n",
       "    <tr>\n",
       "      <th>4</th>\n",
       "      <td>2012-10-01 16:00:00</td>\n",
       "      <td>1013.0</td>\n",
       "      <td>81.0</td>\n",
       "      <td>291.553209</td>\n",
       "      <td>sky is clear</td>\n",
       "      <td>0.0</td>\n",
       "      <td>0.0</td>\n",
       "    </tr>\n",
       "  </tbody>\n",
       "</table>\n",
       "</div>"
      ],
      "text/plain": [
       "              datetime  pressure  humidity  temperature       weather  \\\n",
       "0  2012-10-01 12:00:00       NaN       NaN          NaN           NaN   \n",
       "1  2012-10-01 13:00:00    1013.0      82.0   291.530000  sky is clear   \n",
       "2  2012-10-01 14:00:00    1013.0      81.0   291.533501  sky is clear   \n",
       "3  2012-10-01 15:00:00    1013.0      81.0   291.543355  sky is clear   \n",
       "4  2012-10-01 16:00:00    1013.0      81.0   291.553209  sky is clear   \n",
       "\n",
       "   wind direction  wind speed  \n",
       "0             NaN         NaN  \n",
       "1             0.0         0.0  \n",
       "2             0.0         0.0  \n",
       "3             0.0         0.0  \n",
       "4             0.0         0.0  "
      ]
     },
     "execution_count": 31,
     "metadata": {},
     "output_type": "execute_result"
    }
   ],
   "source": [
    "SD.columns = ['datetime', 'pressure', 'humidity', 'temperature', 'weather', 'wind direction', 'wind speed']\n",
    "SD.head()"
   ]
  },
  {
   "cell_type": "code",
   "execution_count": 32,
   "id": "577633f6",
   "metadata": {},
   "outputs": [],
   "source": [
    "for i in SD[SD['weather'] != 'sky is clear']['weather'].unique():\n",
    "     SD[SD['weather'] != 'sky is clear'] = SD[SD['weather'] != 'sky is clear'].replace({'weather': i}, value = 'sky is not clear')"
   ]
  },
  {
   "cell_type": "code",
   "execution_count": 33,
   "id": "b51f1c31",
   "metadata": {},
   "outputs": [
    {
     "data": {
      "text/plain": [
       "sky is not clear    30424\n",
       "sky is clear        14829\n",
       "Name: weather, dtype: int64"
      ]
     },
     "execution_count": 33,
     "metadata": {},
     "output_type": "execute_result"
    }
   ],
   "source": [
    "SD['weather'].value_counts()"
   ]
  },
  {
   "cell_type": "code",
   "execution_count": 183,
   "id": "e571d1bc",
   "metadata": {},
   "outputs": [],
   "source": [
    "compression_opts = dict(method='zip', archive_name='San Diego.csv')  \n",
    "SD.to_csv('San Diego.zip', index = False, compression = compression_opts)"
   ]
  },
  {
   "cell_type": "markdown",
   "id": "d3e1f8bc",
   "metadata": {},
   "source": [
    "### Las Vegas"
   ]
  },
  {
   "cell_type": "code",
   "execution_count": 34,
   "id": "45d18fe5",
   "metadata": {},
   "outputs": [],
   "source": [
    "Vegas = (pressure[['datetime', 'Las Vegas']].merge(humidity[['datetime', 'Las Vegas']], on = 'datetime')\n",
    "           .merge(temperature[['datetime', 'Las Vegas']], on = 'datetime').merge(weather[['datetime', 'Las Vegas']], on = 'datetime').merge(wind_dir[['datetime', 'Chicago']], on = 'datetime')\n",
    "           .merge(wind_speed[['datetime', 'Las Vegas']], on = 'datetime'))"
   ]
  },
  {
   "cell_type": "code",
   "execution_count": 35,
   "id": "9cb01ace",
   "metadata": {},
   "outputs": [
    {
     "data": {
      "text/html": [
       "<div>\n",
       "<style scoped>\n",
       "    .dataframe tbody tr th:only-of-type {\n",
       "        vertical-align: middle;\n",
       "    }\n",
       "\n",
       "    .dataframe tbody tr th {\n",
       "        vertical-align: top;\n",
       "    }\n",
       "\n",
       "    .dataframe thead th {\n",
       "        text-align: right;\n",
       "    }\n",
       "</style>\n",
       "<table border=\"1\" class=\"dataframe\">\n",
       "  <thead>\n",
       "    <tr style=\"text-align: right;\">\n",
       "      <th></th>\n",
       "      <th>datetime</th>\n",
       "      <th>pressure</th>\n",
       "      <th>humidity</th>\n",
       "      <th>temperature</th>\n",
       "      <th>weather</th>\n",
       "      <th>wind direction</th>\n",
       "      <th>wind speed</th>\n",
       "    </tr>\n",
       "  </thead>\n",
       "  <tbody>\n",
       "    <tr>\n",
       "      <th>0</th>\n",
       "      <td>2012-10-01 12:00:00</td>\n",
       "      <td>NaN</td>\n",
       "      <td>NaN</td>\n",
       "      <td>NaN</td>\n",
       "      <td>NaN</td>\n",
       "      <td>NaN</td>\n",
       "      <td>NaN</td>\n",
       "    </tr>\n",
       "    <tr>\n",
       "      <th>1</th>\n",
       "      <td>2012-10-01 13:00:00</td>\n",
       "      <td>1018.0</td>\n",
       "      <td>22.0</td>\n",
       "      <td>293.410000</td>\n",
       "      <td>sky is clear</td>\n",
       "      <td>0.0</td>\n",
       "      <td>0.0</td>\n",
       "    </tr>\n",
       "    <tr>\n",
       "      <th>2</th>\n",
       "      <td>2012-10-01 14:00:00</td>\n",
       "      <td>1018.0</td>\n",
       "      <td>21.0</td>\n",
       "      <td>293.403141</td>\n",
       "      <td>sky is clear</td>\n",
       "      <td>0.0</td>\n",
       "      <td>0.0</td>\n",
       "    </tr>\n",
       "    <tr>\n",
       "      <th>3</th>\n",
       "      <td>2012-10-01 15:00:00</td>\n",
       "      <td>1018.0</td>\n",
       "      <td>21.0</td>\n",
       "      <td>293.392177</td>\n",
       "      <td>sky is clear</td>\n",
       "      <td>0.0</td>\n",
       "      <td>0.0</td>\n",
       "    </tr>\n",
       "    <tr>\n",
       "      <th>4</th>\n",
       "      <td>2012-10-01 16:00:00</td>\n",
       "      <td>1018.0</td>\n",
       "      <td>21.0</td>\n",
       "      <td>293.381213</td>\n",
       "      <td>sky is clear</td>\n",
       "      <td>0.0</td>\n",
       "      <td>0.0</td>\n",
       "    </tr>\n",
       "  </tbody>\n",
       "</table>\n",
       "</div>"
      ],
      "text/plain": [
       "              datetime  pressure  humidity  temperature       weather  \\\n",
       "0  2012-10-01 12:00:00       NaN       NaN          NaN           NaN   \n",
       "1  2012-10-01 13:00:00    1018.0      22.0   293.410000  sky is clear   \n",
       "2  2012-10-01 14:00:00    1018.0      21.0   293.403141  sky is clear   \n",
       "3  2012-10-01 15:00:00    1018.0      21.0   293.392177  sky is clear   \n",
       "4  2012-10-01 16:00:00    1018.0      21.0   293.381213  sky is clear   \n",
       "\n",
       "   wind direction  wind speed  \n",
       "0             NaN         NaN  \n",
       "1             0.0         0.0  \n",
       "2             0.0         0.0  \n",
       "3             0.0         0.0  \n",
       "4             0.0         0.0  "
      ]
     },
     "execution_count": 35,
     "metadata": {},
     "output_type": "execute_result"
    }
   ],
   "source": [
    "Vegas.columns = ['datetime', 'pressure', 'humidity', 'temperature', 'weather', 'wind direction', 'wind speed']\n",
    "Vegas.head()"
   ]
  },
  {
   "cell_type": "code",
   "execution_count": 36,
   "id": "fa0222dd",
   "metadata": {},
   "outputs": [],
   "source": [
    "for i in Vegas[Vegas['weather'] != 'sky is clear']['weather'].unique():\n",
    "     Vegas[Vegas['weather'] != 'sky is clear'] = Vegas[Vegas['weather'] != 'sky is clear'].replace({'weather': i}, value = 'sky is not clear')"
   ]
  },
  {
   "cell_type": "code",
   "execution_count": 37,
   "id": "5448791b",
   "metadata": {},
   "outputs": [
    {
     "data": {
      "text/plain": [
       "sky is clear        35090\n",
       "sky is not clear    10163\n",
       "Name: weather, dtype: int64"
      ]
     },
     "execution_count": 37,
     "metadata": {},
     "output_type": "execute_result"
    }
   ],
   "source": [
    "Vegas['weather'].value_counts()"
   ]
  },
  {
   "cell_type": "code",
   "execution_count": 182,
   "id": "097c6b60",
   "metadata": {},
   "outputs": [],
   "source": [
    "compression_opts = dict(method='zip', archive_name='Vegas.csv')  \n",
    "Vegas.to_csv('Vegas.zip', index = False, compression = compression_opts)"
   ]
  },
  {
   "cell_type": "markdown",
   "id": "c09db07c",
   "metadata": {},
   "source": [
    "### Phoenix"
   ]
  },
  {
   "cell_type": "code",
   "execution_count": 38,
   "id": "5925334e",
   "metadata": {},
   "outputs": [],
   "source": [
    "Phoenix = (pressure[['datetime', 'Phoenix']].merge(humidity[['datetime', 'Phoenix']], on = 'datetime')\n",
    "           .merge(temperature[['datetime', 'Phoenix']], on = 'datetime').merge(weather[['datetime', 'Phoenix']], on = 'datetime').merge(wind_dir[['datetime', 'Chicago']], on = 'datetime')\n",
    "           .merge(wind_speed[['datetime', 'Phoenix']], on = 'datetime'))"
   ]
  },
  {
   "cell_type": "code",
   "execution_count": 39,
   "id": "b140effa",
   "metadata": {},
   "outputs": [
    {
     "data": {
      "text/html": [
       "<div>\n",
       "<style scoped>\n",
       "    .dataframe tbody tr th:only-of-type {\n",
       "        vertical-align: middle;\n",
       "    }\n",
       "\n",
       "    .dataframe tbody tr th {\n",
       "        vertical-align: top;\n",
       "    }\n",
       "\n",
       "    .dataframe thead th {\n",
       "        text-align: right;\n",
       "    }\n",
       "</style>\n",
       "<table border=\"1\" class=\"dataframe\">\n",
       "  <thead>\n",
       "    <tr style=\"text-align: right;\">\n",
       "      <th></th>\n",
       "      <th>datetime</th>\n",
       "      <th>pressure</th>\n",
       "      <th>humidity</th>\n",
       "      <th>temperature</th>\n",
       "      <th>weather</th>\n",
       "      <th>wind direction</th>\n",
       "      <th>wind speed</th>\n",
       "    </tr>\n",
       "  </thead>\n",
       "  <tbody>\n",
       "    <tr>\n",
       "      <th>0</th>\n",
       "      <td>2012-10-01 12:00:00</td>\n",
       "      <td>NaN</td>\n",
       "      <td>NaN</td>\n",
       "      <td>NaN</td>\n",
       "      <td>NaN</td>\n",
       "      <td>NaN</td>\n",
       "      <td>NaN</td>\n",
       "    </tr>\n",
       "    <tr>\n",
       "      <th>1</th>\n",
       "      <td>2012-10-01 13:00:00</td>\n",
       "      <td>1013.0</td>\n",
       "      <td>23.0</td>\n",
       "      <td>296.600000</td>\n",
       "      <td>sky is clear</td>\n",
       "      <td>0.0</td>\n",
       "      <td>2.0</td>\n",
       "    </tr>\n",
       "    <tr>\n",
       "      <th>2</th>\n",
       "      <td>2012-10-01 14:00:00</td>\n",
       "      <td>1013.0</td>\n",
       "      <td>23.0</td>\n",
       "      <td>296.608509</td>\n",
       "      <td>sky is clear</td>\n",
       "      <td>0.0</td>\n",
       "      <td>2.0</td>\n",
       "    </tr>\n",
       "    <tr>\n",
       "      <th>3</th>\n",
       "      <td>2012-10-01 15:00:00</td>\n",
       "      <td>1013.0</td>\n",
       "      <td>23.0</td>\n",
       "      <td>296.631487</td>\n",
       "      <td>sky is clear</td>\n",
       "      <td>0.0</td>\n",
       "      <td>2.0</td>\n",
       "    </tr>\n",
       "    <tr>\n",
       "      <th>4</th>\n",
       "      <td>2012-10-01 16:00:00</td>\n",
       "      <td>1013.0</td>\n",
       "      <td>23.0</td>\n",
       "      <td>296.654466</td>\n",
       "      <td>sky is clear</td>\n",
       "      <td>0.0</td>\n",
       "      <td>2.0</td>\n",
       "    </tr>\n",
       "  </tbody>\n",
       "</table>\n",
       "</div>"
      ],
      "text/plain": [
       "              datetime  pressure  humidity  temperature       weather  \\\n",
       "0  2012-10-01 12:00:00       NaN       NaN          NaN           NaN   \n",
       "1  2012-10-01 13:00:00    1013.0      23.0   296.600000  sky is clear   \n",
       "2  2012-10-01 14:00:00    1013.0      23.0   296.608509  sky is clear   \n",
       "3  2012-10-01 15:00:00    1013.0      23.0   296.631487  sky is clear   \n",
       "4  2012-10-01 16:00:00    1013.0      23.0   296.654466  sky is clear   \n",
       "\n",
       "   wind direction  wind speed  \n",
       "0             NaN         NaN  \n",
       "1             0.0         2.0  \n",
       "2             0.0         2.0  \n",
       "3             0.0         2.0  \n",
       "4             0.0         2.0  "
      ]
     },
     "execution_count": 39,
     "metadata": {},
     "output_type": "execute_result"
    }
   ],
   "source": [
    "Phoenix.columns = ['datetime', 'pressure', 'humidity', 'temperature', 'weather', 'wind direction', 'wind speed']\n",
    "Phoenix.head()"
   ]
  },
  {
   "cell_type": "code",
   "execution_count": 40,
   "id": "951f57ab",
   "metadata": {},
   "outputs": [],
   "source": [
    "for i in Phoenix[Phoenix['weather'] != 'sky is clear']['weather'].unique():\n",
    "     Phoenix[Phoenix['weather'] != 'sky is clear'] = Phoenix[Phoenix['weather'] != 'sky is clear'].replace({'weather': i}, value = 'sky is not clear')"
   ]
  },
  {
   "cell_type": "code",
   "execution_count": 41,
   "id": "d46d5e18",
   "metadata": {},
   "outputs": [
    {
     "data": {
      "text/plain": [
       "sky is clear        30303\n",
       "sky is not clear    14950\n",
       "Name: weather, dtype: int64"
      ]
     },
     "execution_count": 41,
     "metadata": {},
     "output_type": "execute_result"
    }
   ],
   "source": [
    "Phoenix['weather'].value_counts()"
   ]
  },
  {
   "cell_type": "code",
   "execution_count": 181,
   "id": "93871e54",
   "metadata": {},
   "outputs": [],
   "source": [
    "compression_opts = dict(method='zip', archive_name='Phoenix.csv')  \n",
    "Phoenix.to_csv('Phoenix.zip', index = False, compression = compression_opts)"
   ]
  },
  {
   "cell_type": "markdown",
   "id": "4db175f1",
   "metadata": {},
   "source": [
    "### Albuquerque"
   ]
  },
  {
   "cell_type": "code",
   "execution_count": 42,
   "id": "94acac1f",
   "metadata": {},
   "outputs": [],
   "source": [
    "Albuquerque = (pressure[['datetime', 'Albuquerque']].merge(humidity[['datetime', 'Albuquerque']], on = 'datetime')\n",
    "           .merge(temperature[['datetime', 'Albuquerque']], on = 'datetime').merge(weather[['datetime', 'Albuquerque']], on = 'datetime').merge(wind_dir[['datetime', 'Chicago']], on = 'datetime')\n",
    "           .merge(wind_speed[['datetime', 'Albuquerque']], on = 'datetime'))"
   ]
  },
  {
   "cell_type": "code",
   "execution_count": 43,
   "id": "3a326951",
   "metadata": {},
   "outputs": [
    {
     "data": {
      "text/html": [
       "<div>\n",
       "<style scoped>\n",
       "    .dataframe tbody tr th:only-of-type {\n",
       "        vertical-align: middle;\n",
       "    }\n",
       "\n",
       "    .dataframe tbody tr th {\n",
       "        vertical-align: top;\n",
       "    }\n",
       "\n",
       "    .dataframe thead th {\n",
       "        text-align: right;\n",
       "    }\n",
       "</style>\n",
       "<table border=\"1\" class=\"dataframe\">\n",
       "  <thead>\n",
       "    <tr style=\"text-align: right;\">\n",
       "      <th></th>\n",
       "      <th>datetime</th>\n",
       "      <th>pressure</th>\n",
       "      <th>humidity</th>\n",
       "      <th>temperature</th>\n",
       "      <th>weather</th>\n",
       "      <th>wind direction</th>\n",
       "      <th>wind speed</th>\n",
       "    </tr>\n",
       "  </thead>\n",
       "  <tbody>\n",
       "    <tr>\n",
       "      <th>0</th>\n",
       "      <td>2012-10-01 12:00:00</td>\n",
       "      <td>NaN</td>\n",
       "      <td>NaN</td>\n",
       "      <td>NaN</td>\n",
       "      <td>NaN</td>\n",
       "      <td>NaN</td>\n",
       "      <td>NaN</td>\n",
       "    </tr>\n",
       "    <tr>\n",
       "      <th>1</th>\n",
       "      <td>2012-10-01 13:00:00</td>\n",
       "      <td>1024.0</td>\n",
       "      <td>50.0</td>\n",
       "      <td>285.120000</td>\n",
       "      <td>sky is clear</td>\n",
       "      <td>0.0</td>\n",
       "      <td>4.0</td>\n",
       "    </tr>\n",
       "    <tr>\n",
       "      <th>2</th>\n",
       "      <td>2012-10-01 14:00:00</td>\n",
       "      <td>1024.0</td>\n",
       "      <td>49.0</td>\n",
       "      <td>285.154558</td>\n",
       "      <td>sky is clear</td>\n",
       "      <td>0.0</td>\n",
       "      <td>4.0</td>\n",
       "    </tr>\n",
       "    <tr>\n",
       "      <th>3</th>\n",
       "      <td>2012-10-01 15:00:00</td>\n",
       "      <td>1024.0</td>\n",
       "      <td>49.0</td>\n",
       "      <td>285.233952</td>\n",
       "      <td>sky is clear</td>\n",
       "      <td>0.0</td>\n",
       "      <td>4.0</td>\n",
       "    </tr>\n",
       "    <tr>\n",
       "      <th>4</th>\n",
       "      <td>2012-10-01 16:00:00</td>\n",
       "      <td>1024.0</td>\n",
       "      <td>49.0</td>\n",
       "      <td>285.313345</td>\n",
       "      <td>sky is clear</td>\n",
       "      <td>0.0</td>\n",
       "      <td>4.0</td>\n",
       "    </tr>\n",
       "  </tbody>\n",
       "</table>\n",
       "</div>"
      ],
      "text/plain": [
       "              datetime  pressure  humidity  temperature       weather  \\\n",
       "0  2012-10-01 12:00:00       NaN       NaN          NaN           NaN   \n",
       "1  2012-10-01 13:00:00    1024.0      50.0   285.120000  sky is clear   \n",
       "2  2012-10-01 14:00:00    1024.0      49.0   285.154558  sky is clear   \n",
       "3  2012-10-01 15:00:00    1024.0      49.0   285.233952  sky is clear   \n",
       "4  2012-10-01 16:00:00    1024.0      49.0   285.313345  sky is clear   \n",
       "\n",
       "   wind direction  wind speed  \n",
       "0             NaN         NaN  \n",
       "1             0.0         4.0  \n",
       "2             0.0         4.0  \n",
       "3             0.0         4.0  \n",
       "4             0.0         4.0  "
      ]
     },
     "execution_count": 43,
     "metadata": {},
     "output_type": "execute_result"
    }
   ],
   "source": [
    "Albuquerque.columns = ['datetime', 'pressure', 'humidity', 'temperature', 'weather', 'wind direction', 'wind speed']\n",
    "Albuquerque.head()"
   ]
  },
  {
   "cell_type": "code",
   "execution_count": 44,
   "id": "e12fce07",
   "metadata": {},
   "outputs": [],
   "source": [
    "for i in Albuquerque[Albuquerque['weather'] != 'sky is clear']['weather'].unique():\n",
    "     Albuquerque[Albuquerque['weather'] != 'sky is clear'] = Albuquerque[Albuquerque['weather'] != 'sky is clear'].replace({'weather': i}, value = 'sky is not clear')"
   ]
  },
  {
   "cell_type": "code",
   "execution_count": 45,
   "id": "61a8da1f",
   "metadata": {},
   "outputs": [
    {
     "data": {
      "text/plain": [
       "sky is not clear    26909\n",
       "sky is clear        18344\n",
       "Name: weather, dtype: int64"
      ]
     },
     "execution_count": 45,
     "metadata": {},
     "output_type": "execute_result"
    }
   ],
   "source": [
    "Albuquerque['weather'].value_counts()"
   ]
  },
  {
   "cell_type": "code",
   "execution_count": 180,
   "id": "0ebfb3ba",
   "metadata": {},
   "outputs": [],
   "source": [
    "compression_opts = dict(method='zip', archive_name='Albuquerque.csv')  \n",
    "Albuquerque.to_csv('Albuquerque.zip', index = False, compression = compression_opts)"
   ]
  },
  {
   "cell_type": "markdown",
   "id": "ae3ed952",
   "metadata": {},
   "source": [
    "### Denver"
   ]
  },
  {
   "cell_type": "code",
   "execution_count": 46,
   "id": "553a347b",
   "metadata": {},
   "outputs": [],
   "source": [
    "Denver = (pressure[['datetime', 'Denver']].merge(humidity[['datetime', 'Denver']], on = 'datetime')\n",
    "           .merge(temperature[['datetime', 'Denver']], on = 'datetime').merge(weather[['datetime', 'Denver']], on = 'datetime').merge(wind_dir[['datetime', 'Chicago']], on = 'datetime')\n",
    "           .merge(wind_speed[['datetime', 'Denver']], on = 'datetime'))"
   ]
  },
  {
   "cell_type": "code",
   "execution_count": 47,
   "id": "c81f67ef",
   "metadata": {},
   "outputs": [
    {
     "data": {
      "text/html": [
       "<div>\n",
       "<style scoped>\n",
       "    .dataframe tbody tr th:only-of-type {\n",
       "        vertical-align: middle;\n",
       "    }\n",
       "\n",
       "    .dataframe tbody tr th {\n",
       "        vertical-align: top;\n",
       "    }\n",
       "\n",
       "    .dataframe thead th {\n",
       "        text-align: right;\n",
       "    }\n",
       "</style>\n",
       "<table border=\"1\" class=\"dataframe\">\n",
       "  <thead>\n",
       "    <tr style=\"text-align: right;\">\n",
       "      <th></th>\n",
       "      <th>datetime</th>\n",
       "      <th>pressure</th>\n",
       "      <th>humidity</th>\n",
       "      <th>temperature</th>\n",
       "      <th>weather</th>\n",
       "      <th>wind direction</th>\n",
       "      <th>wind speed</th>\n",
       "    </tr>\n",
       "  </thead>\n",
       "  <tbody>\n",
       "    <tr>\n",
       "      <th>0</th>\n",
       "      <td>2012-10-01 12:00:00</td>\n",
       "      <td>NaN</td>\n",
       "      <td>NaN</td>\n",
       "      <td>NaN</td>\n",
       "      <td>NaN</td>\n",
       "      <td>NaN</td>\n",
       "      <td>NaN</td>\n",
       "    </tr>\n",
       "    <tr>\n",
       "      <th>1</th>\n",
       "      <td>2012-10-01 13:00:00</td>\n",
       "      <td>1028.0</td>\n",
       "      <td>62.0</td>\n",
       "      <td>284.610000</td>\n",
       "      <td>light rain</td>\n",
       "      <td>0.0</td>\n",
       "      <td>4.0</td>\n",
       "    </tr>\n",
       "    <tr>\n",
       "      <th>2</th>\n",
       "      <td>2012-10-01 14:00:00</td>\n",
       "      <td>1028.0</td>\n",
       "      <td>62.0</td>\n",
       "      <td>284.607306</td>\n",
       "      <td>broken clouds</td>\n",
       "      <td>0.0</td>\n",
       "      <td>4.0</td>\n",
       "    </tr>\n",
       "    <tr>\n",
       "      <th>3</th>\n",
       "      <td>2012-10-01 15:00:00</td>\n",
       "      <td>1028.0</td>\n",
       "      <td>62.0</td>\n",
       "      <td>284.599918</td>\n",
       "      <td>broken clouds</td>\n",
       "      <td>0.0</td>\n",
       "      <td>3.0</td>\n",
       "    </tr>\n",
       "    <tr>\n",
       "      <th>4</th>\n",
       "      <td>2012-10-01 16:00:00</td>\n",
       "      <td>1028.0</td>\n",
       "      <td>62.0</td>\n",
       "      <td>284.592530</td>\n",
       "      <td>broken clouds</td>\n",
       "      <td>0.0</td>\n",
       "      <td>3.0</td>\n",
       "    </tr>\n",
       "  </tbody>\n",
       "</table>\n",
       "</div>"
      ],
      "text/plain": [
       "              datetime  pressure  humidity  temperature        weather  \\\n",
       "0  2012-10-01 12:00:00       NaN       NaN          NaN            NaN   \n",
       "1  2012-10-01 13:00:00    1028.0      62.0   284.610000     light rain   \n",
       "2  2012-10-01 14:00:00    1028.0      62.0   284.607306  broken clouds   \n",
       "3  2012-10-01 15:00:00    1028.0      62.0   284.599918  broken clouds   \n",
       "4  2012-10-01 16:00:00    1028.0      62.0   284.592530  broken clouds   \n",
       "\n",
       "   wind direction  wind speed  \n",
       "0             NaN         NaN  \n",
       "1             0.0         4.0  \n",
       "2             0.0         4.0  \n",
       "3             0.0         3.0  \n",
       "4             0.0         3.0  "
      ]
     },
     "execution_count": 47,
     "metadata": {},
     "output_type": "execute_result"
    }
   ],
   "source": [
    "Denver.columns = ['datetime', 'pressure', 'humidity', 'temperature', 'weather', 'wind direction', 'wind speed']\n",
    "Denver.head()"
   ]
  },
  {
   "cell_type": "code",
   "execution_count": 48,
   "id": "627e0593",
   "metadata": {},
   "outputs": [],
   "source": [
    "for i in Denver[Denver['weather'] != 'sky is clear']['weather'].unique():\n",
    "     Denver[Denver['weather'] != 'sky is clear'] = Denver[Denver['weather'] != 'sky is clear'].replace({'weather': i}, value = 'sky is not clear')"
   ]
  },
  {
   "cell_type": "code",
   "execution_count": 49,
   "id": "ab328c10",
   "metadata": {},
   "outputs": [
    {
     "data": {
      "text/plain": [
       "sky is not clear    28665\n",
       "sky is clear        16588\n",
       "Name: weather, dtype: int64"
      ]
     },
     "execution_count": 49,
     "metadata": {},
     "output_type": "execute_result"
    }
   ],
   "source": [
    "Denver['weather'].value_counts()"
   ]
  },
  {
   "cell_type": "code",
   "execution_count": 179,
   "id": "3e8412a8",
   "metadata": {},
   "outputs": [],
   "source": [
    "compression_opts = dict(method='zip', archive_name='Denver.csv')  \n",
    "Denver.to_csv('Denver.zip', index = False, compression = compression_opts)"
   ]
  },
  {
   "cell_type": "markdown",
   "id": "7ef102dc",
   "metadata": {},
   "source": [
    "### San Antonio"
   ]
  },
  {
   "cell_type": "code",
   "execution_count": 50,
   "id": "7057eef6",
   "metadata": {},
   "outputs": [],
   "source": [
    "San_Antonio = (pressure[['datetime', 'San Antonio']].merge(humidity[['datetime', 'San Antonio']], on = 'datetime')\n",
    "           .merge(temperature[['datetime', 'San Antonio']], on = 'datetime').merge(weather[['datetime', 'San Antonio']], on = 'datetime').merge(wind_dir[['datetime', 'Chicago']], on = 'datetime')\n",
    "           .merge(wind_speed[['datetime', 'San Antonio']], on = 'datetime'))"
   ]
  },
  {
   "cell_type": "code",
   "execution_count": 51,
   "id": "b1930e77",
   "metadata": {},
   "outputs": [
    {
     "data": {
      "text/html": [
       "<div>\n",
       "<style scoped>\n",
       "    .dataframe tbody tr th:only-of-type {\n",
       "        vertical-align: middle;\n",
       "    }\n",
       "\n",
       "    .dataframe tbody tr th {\n",
       "        vertical-align: top;\n",
       "    }\n",
       "\n",
       "    .dataframe thead th {\n",
       "        text-align: right;\n",
       "    }\n",
       "</style>\n",
       "<table border=\"1\" class=\"dataframe\">\n",
       "  <thead>\n",
       "    <tr style=\"text-align: right;\">\n",
       "      <th></th>\n",
       "      <th>datetime</th>\n",
       "      <th>pressure</th>\n",
       "      <th>humidity</th>\n",
       "      <th>temperature</th>\n",
       "      <th>weather</th>\n",
       "      <th>wind direction</th>\n",
       "      <th>wind speed</th>\n",
       "    </tr>\n",
       "  </thead>\n",
       "  <tbody>\n",
       "    <tr>\n",
       "      <th>0</th>\n",
       "      <td>2012-10-01 12:00:00</td>\n",
       "      <td>NaN</td>\n",
       "      <td>NaN</td>\n",
       "      <td>NaN</td>\n",
       "      <td>NaN</td>\n",
       "      <td>NaN</td>\n",
       "      <td>NaN</td>\n",
       "    </tr>\n",
       "    <tr>\n",
       "      <th>1</th>\n",
       "      <td>2012-10-01 13:00:00</td>\n",
       "      <td>1014.0</td>\n",
       "      <td>93.0</td>\n",
       "      <td>289.290000</td>\n",
       "      <td>sky is clear</td>\n",
       "      <td>0.0</td>\n",
       "      <td>0.0</td>\n",
       "    </tr>\n",
       "    <tr>\n",
       "      <th>2</th>\n",
       "      <td>2012-10-01 14:00:00</td>\n",
       "      <td>1014.0</td>\n",
       "      <td>92.0</td>\n",
       "      <td>289.303649</td>\n",
       "      <td>sky is clear</td>\n",
       "      <td>0.0</td>\n",
       "      <td>0.0</td>\n",
       "    </tr>\n",
       "    <tr>\n",
       "      <th>3</th>\n",
       "      <td>2012-10-01 15:00:00</td>\n",
       "      <td>1014.0</td>\n",
       "      <td>92.0</td>\n",
       "      <td>289.338497</td>\n",
       "      <td>sky is clear</td>\n",
       "      <td>0.0</td>\n",
       "      <td>0.0</td>\n",
       "    </tr>\n",
       "    <tr>\n",
       "      <th>4</th>\n",
       "      <td>2012-10-01 16:00:00</td>\n",
       "      <td>1014.0</td>\n",
       "      <td>92.0</td>\n",
       "      <td>289.373345</td>\n",
       "      <td>sky is clear</td>\n",
       "      <td>0.0</td>\n",
       "      <td>0.0</td>\n",
       "    </tr>\n",
       "  </tbody>\n",
       "</table>\n",
       "</div>"
      ],
      "text/plain": [
       "              datetime  pressure  humidity  temperature       weather  \\\n",
       "0  2012-10-01 12:00:00       NaN       NaN          NaN           NaN   \n",
       "1  2012-10-01 13:00:00    1014.0      93.0   289.290000  sky is clear   \n",
       "2  2012-10-01 14:00:00    1014.0      92.0   289.303649  sky is clear   \n",
       "3  2012-10-01 15:00:00    1014.0      92.0   289.338497  sky is clear   \n",
       "4  2012-10-01 16:00:00    1014.0      92.0   289.373345  sky is clear   \n",
       "\n",
       "   wind direction  wind speed  \n",
       "0             NaN         NaN  \n",
       "1             0.0         0.0  \n",
       "2             0.0         0.0  \n",
       "3             0.0         0.0  \n",
       "4             0.0         0.0  "
      ]
     },
     "execution_count": 51,
     "metadata": {},
     "output_type": "execute_result"
    }
   ],
   "source": [
    "San_Antonio.columns = ['datetime', 'pressure', 'humidity', 'temperature', 'weather', 'wind direction', 'wind speed']\n",
    "San_Antonio.head()"
   ]
  },
  {
   "cell_type": "code",
   "execution_count": 52,
   "id": "f8a18ff3",
   "metadata": {},
   "outputs": [],
   "source": [
    "for i in San_Antonio[San_Antonio['weather'] != 'sky is clear']['weather'].unique():\n",
    "     San_Antonio[San_Antonio['weather'] != 'sky is clear'] = San_Antonio[San_Antonio['weather'] != 'sky is clear'].replace({'weather': i}, value = 'sky is not clear')"
   ]
  },
  {
   "cell_type": "code",
   "execution_count": 53,
   "id": "a5232fb9",
   "metadata": {},
   "outputs": [
    {
     "data": {
      "text/plain": [
       "sky is not clear    26481\n",
       "sky is clear        18772\n",
       "Name: weather, dtype: int64"
      ]
     },
     "execution_count": 53,
     "metadata": {},
     "output_type": "execute_result"
    }
   ],
   "source": [
    "San_Antonio['weather'].value_counts()"
   ]
  },
  {
   "cell_type": "code",
   "execution_count": 178,
   "id": "af2cfff1",
   "metadata": {},
   "outputs": [],
   "source": [
    "compression_opts = dict(method='zip', archive_name='San_Antonio.csv')  \n",
    "San_Antonio.to_csv('San_Antonio.zip', index = False, compression = compression_opts)"
   ]
  },
  {
   "cell_type": "markdown",
   "id": "c0cbfd0e",
   "metadata": {},
   "source": [
    "### Houston"
   ]
  },
  {
   "cell_type": "code",
   "execution_count": 54,
   "id": "82d0d5fe",
   "metadata": {},
   "outputs": [],
   "source": [
    "Houston = (pressure[['datetime', 'Houston']].merge(humidity[['datetime', 'Houston']], on = 'datetime')\n",
    "           .merge(temperature[['datetime', 'Houston']], on = 'datetime').merge(weather[['datetime', 'Houston']], on = 'datetime').merge(wind_dir[['datetime', 'Chicago']], on = 'datetime')\n",
    "           .merge(wind_speed[['datetime', 'Houston']], on = 'datetime'))"
   ]
  },
  {
   "cell_type": "code",
   "execution_count": 55,
   "id": "7373497f",
   "metadata": {},
   "outputs": [
    {
     "data": {
      "text/html": [
       "<div>\n",
       "<style scoped>\n",
       "    .dataframe tbody tr th:only-of-type {\n",
       "        vertical-align: middle;\n",
       "    }\n",
       "\n",
       "    .dataframe tbody tr th {\n",
       "        vertical-align: top;\n",
       "    }\n",
       "\n",
       "    .dataframe thead th {\n",
       "        text-align: right;\n",
       "    }\n",
       "</style>\n",
       "<table border=\"1\" class=\"dataframe\">\n",
       "  <thead>\n",
       "    <tr style=\"text-align: right;\">\n",
       "      <th></th>\n",
       "      <th>datetime</th>\n",
       "      <th>pressure</th>\n",
       "      <th>humidity</th>\n",
       "      <th>temperature</th>\n",
       "      <th>weather</th>\n",
       "      <th>wind direction</th>\n",
       "      <th>wind speed</th>\n",
       "    </tr>\n",
       "  </thead>\n",
       "  <tbody>\n",
       "    <tr>\n",
       "      <th>0</th>\n",
       "      <td>2012-10-01 12:00:00</td>\n",
       "      <td>NaN</td>\n",
       "      <td>NaN</td>\n",
       "      <td>NaN</td>\n",
       "      <td>NaN</td>\n",
       "      <td>NaN</td>\n",
       "      <td>NaN</td>\n",
       "    </tr>\n",
       "    <tr>\n",
       "      <th>1</th>\n",
       "      <td>2012-10-01 13:00:00</td>\n",
       "      <td>1009.0</td>\n",
       "      <td>93.0</td>\n",
       "      <td>288.270000</td>\n",
       "      <td>sky is clear</td>\n",
       "      <td>0.0</td>\n",
       "      <td>1.0</td>\n",
       "    </tr>\n",
       "    <tr>\n",
       "      <th>2</th>\n",
       "      <td>2012-10-01 14:00:00</td>\n",
       "      <td>1008.0</td>\n",
       "      <td>92.0</td>\n",
       "      <td>288.297576</td>\n",
       "      <td>sky is clear</td>\n",
       "      <td>0.0</td>\n",
       "      <td>1.0</td>\n",
       "    </tr>\n",
       "    <tr>\n",
       "      <th>3</th>\n",
       "      <td>2012-10-01 15:00:00</td>\n",
       "      <td>1008.0</td>\n",
       "      <td>90.0</td>\n",
       "      <td>288.334343</td>\n",
       "      <td>sky is clear</td>\n",
       "      <td>0.0</td>\n",
       "      <td>1.0</td>\n",
       "    </tr>\n",
       "    <tr>\n",
       "      <th>4</th>\n",
       "      <td>2012-10-01 16:00:00</td>\n",
       "      <td>1008.0</td>\n",
       "      <td>89.0</td>\n",
       "      <td>288.371111</td>\n",
       "      <td>sky is clear</td>\n",
       "      <td>0.0</td>\n",
       "      <td>1.0</td>\n",
       "    </tr>\n",
       "  </tbody>\n",
       "</table>\n",
       "</div>"
      ],
      "text/plain": [
       "              datetime  pressure  humidity  temperature       weather  \\\n",
       "0  2012-10-01 12:00:00       NaN       NaN          NaN           NaN   \n",
       "1  2012-10-01 13:00:00    1009.0      93.0   288.270000  sky is clear   \n",
       "2  2012-10-01 14:00:00    1008.0      92.0   288.297576  sky is clear   \n",
       "3  2012-10-01 15:00:00    1008.0      90.0   288.334343  sky is clear   \n",
       "4  2012-10-01 16:00:00    1008.0      89.0   288.371111  sky is clear   \n",
       "\n",
       "   wind direction  wind speed  \n",
       "0             NaN         NaN  \n",
       "1             0.0         1.0  \n",
       "2             0.0         1.0  \n",
       "3             0.0         1.0  \n",
       "4             0.0         1.0  "
      ]
     },
     "execution_count": 55,
     "metadata": {},
     "output_type": "execute_result"
    }
   ],
   "source": [
    "Houston.columns = ['datetime', 'pressure', 'humidity', 'temperature', 'weather', 'wind direction', 'wind speed']\n",
    "Houston.head()"
   ]
  },
  {
   "cell_type": "code",
   "execution_count": 56,
   "id": "645f42a2",
   "metadata": {},
   "outputs": [],
   "source": [
    "for i in Houston[Houston['weather'] != 'sky is clear']['weather'].unique():\n",
    "     Houston[Houston['weather'] != 'sky is clear'] = Houston[Houston['weather'] != 'sky is clear'].replace({'weather': i}, value = 'sky is not clear')"
   ]
  },
  {
   "cell_type": "code",
   "execution_count": 57,
   "id": "a6301bd9",
   "metadata": {},
   "outputs": [
    {
     "data": {
      "text/plain": [
       "sky is not clear    32598\n",
       "sky is clear        12655\n",
       "Name: weather, dtype: int64"
      ]
     },
     "execution_count": 57,
     "metadata": {},
     "output_type": "execute_result"
    }
   ],
   "source": [
    "Houston['weather'].value_counts()"
   ]
  },
  {
   "cell_type": "code",
   "execution_count": 177,
   "id": "dbe3f680",
   "metadata": {},
   "outputs": [],
   "source": [
    "compression_opts = dict(method='zip', archive_name='Houston.csv')  \n",
    "Houston.to_csv('Houston.zip', index = False, compression = compression_opts)"
   ]
  },
  {
   "cell_type": "markdown",
   "id": "d9ba5770",
   "metadata": {},
   "source": [
    "### Kansas"
   ]
  },
  {
   "cell_type": "code",
   "execution_count": 58,
   "id": "302d386e",
   "metadata": {},
   "outputs": [],
   "source": [
    "Kansas = (pressure[['datetime', 'Kansas City']].merge(humidity[['datetime', 'Kansas City']], on = 'datetime')\n",
    "           .merge(temperature[['datetime', 'Kansas City']], on = 'datetime').merge(weather[['datetime', 'Kansas City']], on = 'datetime').merge(wind_dir[['datetime', 'Chicago']], on = 'datetime')\n",
    "           .merge(wind_speed[['datetime', 'Kansas City']], on = 'datetime'))"
   ]
  },
  {
   "cell_type": "code",
   "execution_count": 59,
   "id": "352e9401",
   "metadata": {},
   "outputs": [
    {
     "data": {
      "text/html": [
       "<div>\n",
       "<style scoped>\n",
       "    .dataframe tbody tr th:only-of-type {\n",
       "        vertical-align: middle;\n",
       "    }\n",
       "\n",
       "    .dataframe tbody tr th {\n",
       "        vertical-align: top;\n",
       "    }\n",
       "\n",
       "    .dataframe thead th {\n",
       "        text-align: right;\n",
       "    }\n",
       "</style>\n",
       "<table border=\"1\" class=\"dataframe\">\n",
       "  <thead>\n",
       "    <tr style=\"text-align: right;\">\n",
       "      <th></th>\n",
       "      <th>datetime</th>\n",
       "      <th>pressure</th>\n",
       "      <th>humidity</th>\n",
       "      <th>temperature</th>\n",
       "      <th>weather</th>\n",
       "      <th>wind direction</th>\n",
       "      <th>wind speed</th>\n",
       "    </tr>\n",
       "  </thead>\n",
       "  <tbody>\n",
       "    <tr>\n",
       "      <th>0</th>\n",
       "      <td>2012-10-01 12:00:00</td>\n",
       "      <td>NaN</td>\n",
       "      <td>NaN</td>\n",
       "      <td>NaN</td>\n",
       "      <td>NaN</td>\n",
       "      <td>NaN</td>\n",
       "      <td>NaN</td>\n",
       "    </tr>\n",
       "    <tr>\n",
       "      <th>1</th>\n",
       "      <td>2012-10-01 13:00:00</td>\n",
       "      <td>1011.0</td>\n",
       "      <td>71.0</td>\n",
       "      <td>289.980000</td>\n",
       "      <td>sky is clear</td>\n",
       "      <td>0.0</td>\n",
       "      <td>0.0</td>\n",
       "    </tr>\n",
       "    <tr>\n",
       "      <th>2</th>\n",
       "      <td>2012-10-01 14:00:00</td>\n",
       "      <td>1011.0</td>\n",
       "      <td>70.0</td>\n",
       "      <td>289.997635</td>\n",
       "      <td>sky is clear</td>\n",
       "      <td>0.0</td>\n",
       "      <td>0.0</td>\n",
       "    </tr>\n",
       "    <tr>\n",
       "      <th>3</th>\n",
       "      <td>2012-10-01 15:00:00</td>\n",
       "      <td>1011.0</td>\n",
       "      <td>70.0</td>\n",
       "      <td>290.038151</td>\n",
       "      <td>sky is clear</td>\n",
       "      <td>0.0</td>\n",
       "      <td>0.0</td>\n",
       "    </tr>\n",
       "    <tr>\n",
       "      <th>4</th>\n",
       "      <td>2012-10-01 16:00:00</td>\n",
       "      <td>1011.0</td>\n",
       "      <td>70.0</td>\n",
       "      <td>290.078666</td>\n",
       "      <td>sky is clear</td>\n",
       "      <td>0.0</td>\n",
       "      <td>0.0</td>\n",
       "    </tr>\n",
       "  </tbody>\n",
       "</table>\n",
       "</div>"
      ],
      "text/plain": [
       "              datetime  pressure  humidity  temperature       weather  \\\n",
       "0  2012-10-01 12:00:00       NaN       NaN          NaN           NaN   \n",
       "1  2012-10-01 13:00:00    1011.0      71.0   289.980000  sky is clear   \n",
       "2  2012-10-01 14:00:00    1011.0      70.0   289.997635  sky is clear   \n",
       "3  2012-10-01 15:00:00    1011.0      70.0   290.038151  sky is clear   \n",
       "4  2012-10-01 16:00:00    1011.0      70.0   290.078666  sky is clear   \n",
       "\n",
       "   wind direction  wind speed  \n",
       "0             NaN         NaN  \n",
       "1             0.0         0.0  \n",
       "2             0.0         0.0  \n",
       "3             0.0         0.0  \n",
       "4             0.0         0.0  "
      ]
     },
     "execution_count": 59,
     "metadata": {},
     "output_type": "execute_result"
    }
   ],
   "source": [
    "Kansas.columns = ['datetime', 'pressure', 'humidity', 'temperature', 'weather', 'wind direction', 'wind speed']\n",
    "Kansas.head()"
   ]
  },
  {
   "cell_type": "code",
   "execution_count": 60,
   "id": "3f862287",
   "metadata": {},
   "outputs": [],
   "source": [
    "for i in Kansas[Kansas['weather'] != 'sky is clear']['weather'].unique():\n",
    "     Kansas[Kansas['weather'] != 'sky is clear'] = Kansas[Kansas['weather'] != 'sky is clear'].replace({'weather': i}, value = 'sky is not clear')"
   ]
  },
  {
   "cell_type": "code",
   "execution_count": 61,
   "id": "ca71b5ae",
   "metadata": {},
   "outputs": [
    {
     "data": {
      "text/plain": [
       "sky is not clear    24960\n",
       "sky is clear        20293\n",
       "Name: weather, dtype: int64"
      ]
     },
     "execution_count": 61,
     "metadata": {},
     "output_type": "execute_result"
    }
   ],
   "source": [
    "Kansas['weather'].value_counts()"
   ]
  },
  {
   "cell_type": "code",
   "execution_count": 176,
   "id": "cbb47263",
   "metadata": {},
   "outputs": [],
   "source": [
    "compression_opts = dict(method='zip', archive_name='Kansas.csv')  \n",
    "Kansas.to_csv('Kansas.zip', index = False, compression = compression_opts)"
   ]
  },
  {
   "cell_type": "markdown",
   "id": "f977d442",
   "metadata": {},
   "source": [
    "### Minneapolis"
   ]
  },
  {
   "cell_type": "code",
   "execution_count": 62,
   "id": "ad3c7c9d",
   "metadata": {},
   "outputs": [],
   "source": [
    "Minneapolis = (pressure[['datetime', 'Minneapolis']].merge(humidity[['datetime', 'Minneapolis']], on = 'datetime')\n",
    "           .merge(temperature[['datetime', 'Minneapolis']], on = 'datetime').merge(weather[['datetime', 'Minneapolis']], on = 'datetime').merge(wind_dir[['datetime', 'Chicago']], on = 'datetime')\n",
    "           .merge(wind_speed[['datetime', 'Minneapolis']], on = 'datetime'))"
   ]
  },
  {
   "cell_type": "code",
   "execution_count": 63,
   "id": "a2f7a992",
   "metadata": {},
   "outputs": [
    {
     "data": {
      "text/html": [
       "<div>\n",
       "<style scoped>\n",
       "    .dataframe tbody tr th:only-of-type {\n",
       "        vertical-align: middle;\n",
       "    }\n",
       "\n",
       "    .dataframe tbody tr th {\n",
       "        vertical-align: top;\n",
       "    }\n",
       "\n",
       "    .dataframe thead th {\n",
       "        text-align: right;\n",
       "    }\n",
       "</style>\n",
       "<table border=\"1\" class=\"dataframe\">\n",
       "  <thead>\n",
       "    <tr style=\"text-align: right;\">\n",
       "      <th></th>\n",
       "      <th>datetime</th>\n",
       "      <th>pressure</th>\n",
       "      <th>humidity</th>\n",
       "      <th>temperature</th>\n",
       "      <th>weather</th>\n",
       "      <th>wind direction</th>\n",
       "      <th>wind speed</th>\n",
       "    </tr>\n",
       "  </thead>\n",
       "  <tbody>\n",
       "    <tr>\n",
       "      <th>0</th>\n",
       "      <td>2012-10-01 12:00:00</td>\n",
       "      <td>NaN</td>\n",
       "      <td>NaN</td>\n",
       "      <td>NaN</td>\n",
       "      <td>NaN</td>\n",
       "      <td>NaN</td>\n",
       "      <td>NaN</td>\n",
       "    </tr>\n",
       "    <tr>\n",
       "      <th>1</th>\n",
       "      <td>2012-10-01 13:00:00</td>\n",
       "      <td>1012.0</td>\n",
       "      <td>67.0</td>\n",
       "      <td>286.870000</td>\n",
       "      <td>broken clouds</td>\n",
       "      <td>0.0</td>\n",
       "      <td>3.0</td>\n",
       "    </tr>\n",
       "    <tr>\n",
       "      <th>2</th>\n",
       "      <td>2012-10-01 14:00:00</td>\n",
       "      <td>1012.0</td>\n",
       "      <td>66.0</td>\n",
       "      <td>286.893636</td>\n",
       "      <td>broken clouds</td>\n",
       "      <td>0.0</td>\n",
       "      <td>3.0</td>\n",
       "    </tr>\n",
       "    <tr>\n",
       "      <th>3</th>\n",
       "      <td>2012-10-01 15:00:00</td>\n",
       "      <td>1012.0</td>\n",
       "      <td>66.0</td>\n",
       "      <td>286.951401</td>\n",
       "      <td>broken clouds</td>\n",
       "      <td>0.0</td>\n",
       "      <td>3.0</td>\n",
       "    </tr>\n",
       "    <tr>\n",
       "      <th>4</th>\n",
       "      <td>2012-10-01 16:00:00</td>\n",
       "      <td>1012.0</td>\n",
       "      <td>65.0</td>\n",
       "      <td>287.009166</td>\n",
       "      <td>broken clouds</td>\n",
       "      <td>0.0</td>\n",
       "      <td>3.0</td>\n",
       "    </tr>\n",
       "  </tbody>\n",
       "</table>\n",
       "</div>"
      ],
      "text/plain": [
       "              datetime  pressure  humidity  temperature        weather  \\\n",
       "0  2012-10-01 12:00:00       NaN       NaN          NaN            NaN   \n",
       "1  2012-10-01 13:00:00    1012.0      67.0   286.870000  broken clouds   \n",
       "2  2012-10-01 14:00:00    1012.0      66.0   286.893636  broken clouds   \n",
       "3  2012-10-01 15:00:00    1012.0      66.0   286.951401  broken clouds   \n",
       "4  2012-10-01 16:00:00    1012.0      65.0   287.009166  broken clouds   \n",
       "\n",
       "   wind direction  wind speed  \n",
       "0             NaN         NaN  \n",
       "1             0.0         3.0  \n",
       "2             0.0         3.0  \n",
       "3             0.0         3.0  \n",
       "4             0.0         3.0  "
      ]
     },
     "execution_count": 63,
     "metadata": {},
     "output_type": "execute_result"
    }
   ],
   "source": [
    "Minneapolis.columns = ['datetime', 'pressure', 'humidity', 'temperature', 'weather', 'wind direction', 'wind speed']\n",
    "Minneapolis.head()"
   ]
  },
  {
   "cell_type": "code",
   "execution_count": 64,
   "id": "afbc1523",
   "metadata": {},
   "outputs": [],
   "source": [
    "for i in Minneapolis[Minneapolis['weather'] != 'sky is clear']['weather'].unique():\n",
    "     Minneapolis[Minneapolis['weather'] != 'sky is clear'] = Minneapolis[Minneapolis['weather'] != 'sky is clear'].replace({'weather': i}, value = 'sky is not clear')"
   ]
  },
  {
   "cell_type": "code",
   "execution_count": 65,
   "id": "8712c161",
   "metadata": {},
   "outputs": [
    {
     "data": {
      "text/plain": [
       "sky is not clear    30961\n",
       "sky is clear        14292\n",
       "Name: weather, dtype: int64"
      ]
     },
     "execution_count": 65,
     "metadata": {},
     "output_type": "execute_result"
    }
   ],
   "source": [
    "Minneapolis['weather'].value_counts()"
   ]
  },
  {
   "cell_type": "code",
   "execution_count": 175,
   "id": "8115d961",
   "metadata": {},
   "outputs": [],
   "source": [
    "compression_opts = dict(method='zip', archive_name='Minneapolis.csv')  \n",
    "Minneapolis.to_csv('Minneapolis.zip', index = False, compression = compression_opts)"
   ]
  },
  {
   "cell_type": "markdown",
   "id": "2ecb52ff",
   "metadata": {},
   "source": [
    "### Saint Louis"
   ]
  },
  {
   "cell_type": "code",
   "execution_count": 66,
   "id": "103d75e4",
   "metadata": {},
   "outputs": [],
   "source": [
    "Saint_Louis = (pressure[['datetime', 'Saint Louis']].merge(humidity[['datetime', 'Saint Louis']], on = 'datetime')\n",
    "           .merge(temperature[['datetime', 'Saint Louis']], on = 'datetime').merge(weather[['datetime', 'Saint Louis']], on = 'datetime').merge(wind_dir[['datetime', 'Chicago']], on = 'datetime')\n",
    "           .merge(wind_speed[['datetime', 'Saint Louis']], on = 'datetime'))"
   ]
  },
  {
   "cell_type": "code",
   "execution_count": 67,
   "id": "0cbd027a",
   "metadata": {},
   "outputs": [
    {
     "data": {
      "text/html": [
       "<div>\n",
       "<style scoped>\n",
       "    .dataframe tbody tr th:only-of-type {\n",
       "        vertical-align: middle;\n",
       "    }\n",
       "\n",
       "    .dataframe tbody tr th {\n",
       "        vertical-align: top;\n",
       "    }\n",
       "\n",
       "    .dataframe thead th {\n",
       "        text-align: right;\n",
       "    }\n",
       "</style>\n",
       "<table border=\"1\" class=\"dataframe\">\n",
       "  <thead>\n",
       "    <tr style=\"text-align: right;\">\n",
       "      <th></th>\n",
       "      <th>datetime</th>\n",
       "      <th>pressure</th>\n",
       "      <th>humidity</th>\n",
       "      <th>temperature</th>\n",
       "      <th>weather</th>\n",
       "      <th>wind direction</th>\n",
       "      <th>wind speed</th>\n",
       "    </tr>\n",
       "  </thead>\n",
       "  <tbody>\n",
       "    <tr>\n",
       "      <th>0</th>\n",
       "      <td>2012-10-01 12:00:00</td>\n",
       "      <td>NaN</td>\n",
       "      <td>NaN</td>\n",
       "      <td>NaN</td>\n",
       "      <td>NaN</td>\n",
       "      <td>NaN</td>\n",
       "      <td>NaN</td>\n",
       "    </tr>\n",
       "    <tr>\n",
       "      <th>1</th>\n",
       "      <td>2012-10-01 13:00:00</td>\n",
       "      <td>1010.0</td>\n",
       "      <td>71.0</td>\n",
       "      <td>286.180000</td>\n",
       "      <td>sky is clear</td>\n",
       "      <td>0.0</td>\n",
       "      <td>4.0</td>\n",
       "    </tr>\n",
       "    <tr>\n",
       "      <th>2</th>\n",
       "      <td>2012-10-01 14:00:00</td>\n",
       "      <td>1010.0</td>\n",
       "      <td>71.0</td>\n",
       "      <td>286.185246</td>\n",
       "      <td>sky is clear</td>\n",
       "      <td>0.0</td>\n",
       "      <td>4.0</td>\n",
       "    </tr>\n",
       "    <tr>\n",
       "      <th>3</th>\n",
       "      <td>2012-10-01 15:00:00</td>\n",
       "      <td>1010.0</td>\n",
       "      <td>71.0</td>\n",
       "      <td>286.199194</td>\n",
       "      <td>sky is clear</td>\n",
       "      <td>0.0</td>\n",
       "      <td>4.0</td>\n",
       "    </tr>\n",
       "    <tr>\n",
       "      <th>4</th>\n",
       "      <td>2012-10-01 16:00:00</td>\n",
       "      <td>1010.0</td>\n",
       "      <td>71.0</td>\n",
       "      <td>286.213142</td>\n",
       "      <td>sky is clear</td>\n",
       "      <td>0.0</td>\n",
       "      <td>3.0</td>\n",
       "    </tr>\n",
       "  </tbody>\n",
       "</table>\n",
       "</div>"
      ],
      "text/plain": [
       "              datetime  pressure  humidity  temperature       weather  \\\n",
       "0  2012-10-01 12:00:00       NaN       NaN          NaN           NaN   \n",
       "1  2012-10-01 13:00:00    1010.0      71.0   286.180000  sky is clear   \n",
       "2  2012-10-01 14:00:00    1010.0      71.0   286.185246  sky is clear   \n",
       "3  2012-10-01 15:00:00    1010.0      71.0   286.199194  sky is clear   \n",
       "4  2012-10-01 16:00:00    1010.0      71.0   286.213142  sky is clear   \n",
       "\n",
       "   wind direction  wind speed  \n",
       "0             NaN         NaN  \n",
       "1             0.0         4.0  \n",
       "2             0.0         4.0  \n",
       "3             0.0         4.0  \n",
       "4             0.0         3.0  "
      ]
     },
     "execution_count": 67,
     "metadata": {},
     "output_type": "execute_result"
    }
   ],
   "source": [
    "Saint_Louis.columns = ['datetime', 'pressure', 'humidity', 'temperature', 'weather', 'wind direction', 'wind speed']\n",
    "Saint_Louis.head()"
   ]
  },
  {
   "cell_type": "code",
   "execution_count": 68,
   "id": "5b3252f0",
   "metadata": {},
   "outputs": [],
   "source": [
    "for i in Saint_Louis[Saint_Louis['weather'] != 'sky is clear']['weather'].unique():\n",
    "     Saint_Louis[Saint_Louis['weather'] != 'sky is clear'] = Saint_Louis[Saint_Louis['weather'] != 'sky is clear'].replace({'weather': i}, value = 'sky is not clear')"
   ]
  },
  {
   "cell_type": "code",
   "execution_count": 69,
   "id": "da0acea1",
   "metadata": {},
   "outputs": [
    {
     "data": {
      "text/plain": [
       "sky is not clear    25556\n",
       "sky is clear        19697\n",
       "Name: weather, dtype: int64"
      ]
     },
     "execution_count": 69,
     "metadata": {},
     "output_type": "execute_result"
    }
   ],
   "source": [
    "Saint_Louis['weather'].value_counts()"
   ]
  },
  {
   "cell_type": "code",
   "execution_count": 174,
   "id": "3964348a",
   "metadata": {},
   "outputs": [],
   "source": [
    "compression_opts = dict(method='zip', archive_name='Saint_Louis.csv')  \n",
    "Saint_Louis.to_csv('Saint_Louis.zip', index = False, compression = compression_opts)"
   ]
  },
  {
   "cell_type": "markdown",
   "id": "8f36c931",
   "metadata": {},
   "source": [
    "### Nashville"
   ]
  },
  {
   "cell_type": "code",
   "execution_count": 70,
   "id": "9eb0dd64",
   "metadata": {},
   "outputs": [],
   "source": [
    "Nashville = (pressure[['datetime', 'Nashville']].merge(humidity[['datetime', 'Nashville']], on = 'datetime')\n",
    "           .merge(temperature[['datetime', 'Nashville']], on = 'datetime').merge(weather[['datetime', 'Nashville']], on = 'datetime').merge(wind_dir[['datetime', 'Chicago']], on = 'datetime')\n",
    "           .merge(wind_speed[['datetime', 'Nashville']], on = 'datetime'))"
   ]
  },
  {
   "cell_type": "code",
   "execution_count": 71,
   "id": "01f78673",
   "metadata": {},
   "outputs": [
    {
     "data": {
      "text/html": [
       "<div>\n",
       "<style scoped>\n",
       "    .dataframe tbody tr th:only-of-type {\n",
       "        vertical-align: middle;\n",
       "    }\n",
       "\n",
       "    .dataframe tbody tr th {\n",
       "        vertical-align: top;\n",
       "    }\n",
       "\n",
       "    .dataframe thead th {\n",
       "        text-align: right;\n",
       "    }\n",
       "</style>\n",
       "<table border=\"1\" class=\"dataframe\">\n",
       "  <thead>\n",
       "    <tr style=\"text-align: right;\">\n",
       "      <th></th>\n",
       "      <th>datetime</th>\n",
       "      <th>pressure</th>\n",
       "      <th>humidity</th>\n",
       "      <th>temperature</th>\n",
       "      <th>weather</th>\n",
       "      <th>wind direction</th>\n",
       "      <th>wind speed</th>\n",
       "    </tr>\n",
       "  </thead>\n",
       "  <tbody>\n",
       "    <tr>\n",
       "      <th>0</th>\n",
       "      <td>2012-10-01 12:00:00</td>\n",
       "      <td>NaN</td>\n",
       "      <td>NaN</td>\n",
       "      <td>NaN</td>\n",
       "      <td>NaN</td>\n",
       "      <td>NaN</td>\n",
       "      <td>NaN</td>\n",
       "    </tr>\n",
       "    <tr>\n",
       "      <th>1</th>\n",
       "      <td>2012-10-01 13:00:00</td>\n",
       "      <td>1005.0</td>\n",
       "      <td>100.0</td>\n",
       "      <td>287.410000</td>\n",
       "      <td>mist</td>\n",
       "      <td>0.0</td>\n",
       "      <td>4.0</td>\n",
       "    </tr>\n",
       "    <tr>\n",
       "      <th>2</th>\n",
       "      <td>2012-10-01 14:00:00</td>\n",
       "      <td>1004.0</td>\n",
       "      <td>99.0</td>\n",
       "      <td>287.421360</td>\n",
       "      <td>overcast clouds</td>\n",
       "      <td>0.0</td>\n",
       "      <td>4.0</td>\n",
       "    </tr>\n",
       "    <tr>\n",
       "      <th>3</th>\n",
       "      <td>2012-10-01 15:00:00</td>\n",
       "      <td>1004.0</td>\n",
       "      <td>99.0</td>\n",
       "      <td>287.454637</td>\n",
       "      <td>overcast clouds</td>\n",
       "      <td>0.0</td>\n",
       "      <td>4.0</td>\n",
       "    </tr>\n",
       "    <tr>\n",
       "      <th>4</th>\n",
       "      <td>2012-10-01 16:00:00</td>\n",
       "      <td>1004.0</td>\n",
       "      <td>99.0</td>\n",
       "      <td>287.487914</td>\n",
       "      <td>overcast clouds</td>\n",
       "      <td>0.0</td>\n",
       "      <td>4.0</td>\n",
       "    </tr>\n",
       "  </tbody>\n",
       "</table>\n",
       "</div>"
      ],
      "text/plain": [
       "              datetime  pressure  humidity  temperature          weather  \\\n",
       "0  2012-10-01 12:00:00       NaN       NaN          NaN              NaN   \n",
       "1  2012-10-01 13:00:00    1005.0     100.0   287.410000             mist   \n",
       "2  2012-10-01 14:00:00    1004.0      99.0   287.421360  overcast clouds   \n",
       "3  2012-10-01 15:00:00    1004.0      99.0   287.454637  overcast clouds   \n",
       "4  2012-10-01 16:00:00    1004.0      99.0   287.487914  overcast clouds   \n",
       "\n",
       "   wind direction  wind speed  \n",
       "0             NaN         NaN  \n",
       "1             0.0         4.0  \n",
       "2             0.0         4.0  \n",
       "3             0.0         4.0  \n",
       "4             0.0         4.0  "
      ]
     },
     "execution_count": 71,
     "metadata": {},
     "output_type": "execute_result"
    }
   ],
   "source": [
    "Nashville.columns = ['datetime', 'pressure', 'humidity', 'temperature', 'weather', 'wind direction', 'wind speed']\n",
    "Nashville.head()"
   ]
  },
  {
   "cell_type": "code",
   "execution_count": 72,
   "id": "3f224229",
   "metadata": {},
   "outputs": [],
   "source": [
    "for i in Nashville[Nashville['weather'] != 'sky is clear']['weather'].unique():\n",
    "     Nashville[Nashville['weather'] != 'sky is clear'] = Nashville[Nashville['weather'] != 'sky is clear'].replace({'weather': i}, value = 'sky is not clear')"
   ]
  },
  {
   "cell_type": "code",
   "execution_count": 73,
   "id": "ff1dd8b2",
   "metadata": {},
   "outputs": [
    {
     "data": {
      "text/plain": [
       "sky is not clear    30524\n",
       "sky is clear        14729\n",
       "Name: weather, dtype: int64"
      ]
     },
     "execution_count": 73,
     "metadata": {},
     "output_type": "execute_result"
    }
   ],
   "source": [
    "Nashville['weather'].value_counts()"
   ]
  },
  {
   "cell_type": "code",
   "execution_count": 173,
   "id": "52ad5f3d",
   "metadata": {},
   "outputs": [],
   "source": [
    "compression_opts = dict(method='zip', archive_name='Nashville.csv')  \n",
    "Nashville.to_csv('Nashville.zip', index = False, compression = compression_opts)"
   ]
  },
  {
   "cell_type": "markdown",
   "id": "da8c08ed",
   "metadata": {},
   "source": [
    "### Indianapolis"
   ]
  },
  {
   "cell_type": "code",
   "execution_count": 74,
   "id": "feb82235",
   "metadata": {},
   "outputs": [],
   "source": [
    "Indianapolis = (pressure[['datetime', 'Indianapolis']].merge(humidity[['datetime', 'Indianapolis']], on = 'datetime')\n",
    "           .merge(temperature[['datetime', 'Indianapolis']], on = 'datetime').merge(weather[['datetime', 'Indianapolis']], on = 'datetime').merge(wind_dir[['datetime', 'Chicago']], on = 'datetime')\n",
    "           .merge(wind_speed[['datetime', 'Indianapolis']], on = 'datetime'))"
   ]
  },
  {
   "cell_type": "code",
   "execution_count": 75,
   "id": "1d8f1c64",
   "metadata": {},
   "outputs": [
    {
     "data": {
      "text/html": [
       "<div>\n",
       "<style scoped>\n",
       "    .dataframe tbody tr th:only-of-type {\n",
       "        vertical-align: middle;\n",
       "    }\n",
       "\n",
       "    .dataframe tbody tr th {\n",
       "        vertical-align: top;\n",
       "    }\n",
       "\n",
       "    .dataframe thead th {\n",
       "        text-align: right;\n",
       "    }\n",
       "</style>\n",
       "<table border=\"1\" class=\"dataframe\">\n",
       "  <thead>\n",
       "    <tr style=\"text-align: right;\">\n",
       "      <th></th>\n",
       "      <th>datetime</th>\n",
       "      <th>pressure</th>\n",
       "      <th>humidity</th>\n",
       "      <th>temperature</th>\n",
       "      <th>weather</th>\n",
       "      <th>wind direction</th>\n",
       "      <th>wind speed</th>\n",
       "    </tr>\n",
       "  </thead>\n",
       "  <tbody>\n",
       "    <tr>\n",
       "      <th>0</th>\n",
       "      <td>2012-10-01 12:00:00</td>\n",
       "      <td>NaN</td>\n",
       "      <td>NaN</td>\n",
       "      <td>NaN</td>\n",
       "      <td>NaN</td>\n",
       "      <td>NaN</td>\n",
       "      <td>NaN</td>\n",
       "    </tr>\n",
       "    <tr>\n",
       "      <th>1</th>\n",
       "      <td>2012-10-01 13:00:00</td>\n",
       "      <td>1011.0</td>\n",
       "      <td>76.0</td>\n",
       "      <td>283.850000</td>\n",
       "      <td>overcast clouds</td>\n",
       "      <td>0.0</td>\n",
       "      <td>4.0</td>\n",
       "    </tr>\n",
       "    <tr>\n",
       "      <th>2</th>\n",
       "      <td>2012-10-01 14:00:00</td>\n",
       "      <td>1011.0</td>\n",
       "      <td>76.0</td>\n",
       "      <td>283.889394</td>\n",
       "      <td>overcast clouds</td>\n",
       "      <td>0.0</td>\n",
       "      <td>4.0</td>\n",
       "    </tr>\n",
       "    <tr>\n",
       "      <th>3</th>\n",
       "      <td>2012-10-01 15:00:00</td>\n",
       "      <td>1011.0</td>\n",
       "      <td>76.0</td>\n",
       "      <td>283.941919</td>\n",
       "      <td>overcast clouds</td>\n",
       "      <td>0.0</td>\n",
       "      <td>4.0</td>\n",
       "    </tr>\n",
       "    <tr>\n",
       "      <th>4</th>\n",
       "      <td>2012-10-01 16:00:00</td>\n",
       "      <td>1011.0</td>\n",
       "      <td>76.0</td>\n",
       "      <td>283.994444</td>\n",
       "      <td>overcast clouds</td>\n",
       "      <td>0.0</td>\n",
       "      <td>4.0</td>\n",
       "    </tr>\n",
       "  </tbody>\n",
       "</table>\n",
       "</div>"
      ],
      "text/plain": [
       "              datetime  pressure  humidity  temperature          weather  \\\n",
       "0  2012-10-01 12:00:00       NaN       NaN          NaN              NaN   \n",
       "1  2012-10-01 13:00:00    1011.0      76.0   283.850000  overcast clouds   \n",
       "2  2012-10-01 14:00:00    1011.0      76.0   283.889394  overcast clouds   \n",
       "3  2012-10-01 15:00:00    1011.0      76.0   283.941919  overcast clouds   \n",
       "4  2012-10-01 16:00:00    1011.0      76.0   283.994444  overcast clouds   \n",
       "\n",
       "   wind direction  wind speed  \n",
       "0             NaN         NaN  \n",
       "1             0.0         4.0  \n",
       "2             0.0         4.0  \n",
       "3             0.0         4.0  \n",
       "4             0.0         4.0  "
      ]
     },
     "execution_count": 75,
     "metadata": {},
     "output_type": "execute_result"
    }
   ],
   "source": [
    "Indianapolis.columns = ['datetime', 'pressure', 'humidity', 'temperature', 'weather', 'wind direction', 'wind speed']\n",
    "Indianapolis.head()"
   ]
  },
  {
   "cell_type": "code",
   "execution_count": 76,
   "id": "250109dd",
   "metadata": {},
   "outputs": [],
   "source": [
    "for i in Indianapolis[Indianapolis['weather'] != 'sky is clear']['weather'].unique():\n",
    "     Indianapolis[Indianapolis['weather'] != 'sky is clear'] = Indianapolis[Indianapolis['weather'] != 'sky is clear'].replace({'weather': i}, value = 'sky is not clear')"
   ]
  },
  {
   "cell_type": "code",
   "execution_count": 77,
   "id": "9ddb153d",
   "metadata": {},
   "outputs": [
    {
     "data": {
      "text/plain": [
       "sky is not clear    31878\n",
       "sky is clear        13375\n",
       "Name: weather, dtype: int64"
      ]
     },
     "execution_count": 77,
     "metadata": {},
     "output_type": "execute_result"
    }
   ],
   "source": [
    "Indianapolis['weather'].value_counts()"
   ]
  },
  {
   "cell_type": "code",
   "execution_count": 172,
   "id": "b7e53c48",
   "metadata": {},
   "outputs": [],
   "source": [
    "compression_opts = dict(method='zip', archive_name='Indianapolis.csv')  \n",
    "Indianapolis.to_csv('Indianapolis.zip', index = False, compression = compression_opts)"
   ]
  },
  {
   "cell_type": "markdown",
   "id": "36e9f5bb",
   "metadata": {},
   "source": [
    "### Atlanta"
   ]
  },
  {
   "cell_type": "code",
   "execution_count": 78,
   "id": "25154e13",
   "metadata": {},
   "outputs": [],
   "source": [
    "Atlanta = (pressure[['datetime', 'Atlanta']].merge(humidity[['datetime', 'Atlanta']], on = 'datetime')\n",
    "           .merge(temperature[['datetime', 'Atlanta']], on = 'datetime').merge(weather[['datetime', 'Atlanta']], on = 'datetime').merge(wind_dir[['datetime', 'Chicago']], on = 'datetime')\n",
    "           .merge(wind_speed[['datetime', 'Atlanta']], on = 'datetime'))"
   ]
  },
  {
   "cell_type": "code",
   "execution_count": 79,
   "id": "f8535e4d",
   "metadata": {},
   "outputs": [
    {
     "data": {
      "text/html": [
       "<div>\n",
       "<style scoped>\n",
       "    .dataframe tbody tr th:only-of-type {\n",
       "        vertical-align: middle;\n",
       "    }\n",
       "\n",
       "    .dataframe tbody tr th {\n",
       "        vertical-align: top;\n",
       "    }\n",
       "\n",
       "    .dataframe thead th {\n",
       "        text-align: right;\n",
       "    }\n",
       "</style>\n",
       "<table border=\"1\" class=\"dataframe\">\n",
       "  <thead>\n",
       "    <tr style=\"text-align: right;\">\n",
       "      <th></th>\n",
       "      <th>datetime</th>\n",
       "      <th>pressure</th>\n",
       "      <th>humidity</th>\n",
       "      <th>temperature</th>\n",
       "      <th>weather</th>\n",
       "      <th>wind direction</th>\n",
       "      <th>wind speed</th>\n",
       "    </tr>\n",
       "  </thead>\n",
       "  <tbody>\n",
       "    <tr>\n",
       "      <th>0</th>\n",
       "      <td>2012-10-01 12:00:00</td>\n",
       "      <td>NaN</td>\n",
       "      <td>NaN</td>\n",
       "      <td>NaN</td>\n",
       "      <td>NaN</td>\n",
       "      <td>NaN</td>\n",
       "      <td>NaN</td>\n",
       "    </tr>\n",
       "    <tr>\n",
       "      <th>1</th>\n",
       "      <td>2012-10-01 13:00:00</td>\n",
       "      <td>1006.0</td>\n",
       "      <td>94.0</td>\n",
       "      <td>294.030000</td>\n",
       "      <td>light rain</td>\n",
       "      <td>0.0</td>\n",
       "      <td>3.0</td>\n",
       "    </tr>\n",
       "    <tr>\n",
       "      <th>2</th>\n",
       "      <td>2012-10-01 14:00:00</td>\n",
       "      <td>1006.0</td>\n",
       "      <td>94.0</td>\n",
       "      <td>294.035341</td>\n",
       "      <td>overcast clouds</td>\n",
       "      <td>0.0</td>\n",
       "      <td>3.0</td>\n",
       "    </tr>\n",
       "    <tr>\n",
       "      <th>3</th>\n",
       "      <td>2012-10-01 15:00:00</td>\n",
       "      <td>1006.0</td>\n",
       "      <td>94.0</td>\n",
       "      <td>294.049702</td>\n",
       "      <td>overcast clouds</td>\n",
       "      <td>0.0</td>\n",
       "      <td>3.0</td>\n",
       "    </tr>\n",
       "    <tr>\n",
       "      <th>4</th>\n",
       "      <td>2012-10-01 16:00:00</td>\n",
       "      <td>1006.0</td>\n",
       "      <td>94.0</td>\n",
       "      <td>294.064063</td>\n",
       "      <td>overcast clouds</td>\n",
       "      <td>0.0</td>\n",
       "      <td>3.0</td>\n",
       "    </tr>\n",
       "  </tbody>\n",
       "</table>\n",
       "</div>"
      ],
      "text/plain": [
       "              datetime  pressure  humidity  temperature          weather  \\\n",
       "0  2012-10-01 12:00:00       NaN       NaN          NaN              NaN   \n",
       "1  2012-10-01 13:00:00    1006.0      94.0   294.030000       light rain   \n",
       "2  2012-10-01 14:00:00    1006.0      94.0   294.035341  overcast clouds   \n",
       "3  2012-10-01 15:00:00    1006.0      94.0   294.049702  overcast clouds   \n",
       "4  2012-10-01 16:00:00    1006.0      94.0   294.064063  overcast clouds   \n",
       "\n",
       "   wind direction  wind speed  \n",
       "0             NaN         NaN  \n",
       "1             0.0         3.0  \n",
       "2             0.0         3.0  \n",
       "3             0.0         3.0  \n",
       "4             0.0         3.0  "
      ]
     },
     "execution_count": 79,
     "metadata": {},
     "output_type": "execute_result"
    }
   ],
   "source": [
    "Atlanta.columns = ['datetime', 'pressure', 'humidity', 'temperature', 'weather', 'wind direction', 'wind speed']\n",
    "Atlanta.head()"
   ]
  },
  {
   "cell_type": "code",
   "execution_count": 80,
   "id": "841d0dc3",
   "metadata": {},
   "outputs": [],
   "source": [
    "for i in Atlanta[Atlanta['weather'] != 'sky is clear']['weather'].unique():\n",
    "     Atlanta[Atlanta['weather'] != 'sky is clear'] = Atlanta[Atlanta['weather'] != 'sky is clear'].replace({'weather': i}, value = 'sky is not clear')"
   ]
  },
  {
   "cell_type": "code",
   "execution_count": 82,
   "id": "0ecc75f7",
   "metadata": {},
   "outputs": [
    {
     "data": {
      "text/plain": [
       "sky is not clear    25722\n",
       "sky is clear        19531\n",
       "Name: weather, dtype: int64"
      ]
     },
     "execution_count": 82,
     "metadata": {},
     "output_type": "execute_result"
    }
   ],
   "source": [
    "Atlanta['weather'].value_counts()"
   ]
  },
  {
   "cell_type": "code",
   "execution_count": 171,
   "id": "49e330f5",
   "metadata": {},
   "outputs": [],
   "source": [
    "compression_opts = dict(method='zip', archive_name='Atlanta.csv')  \n",
    "Atlanta.to_csv('Atlanta.zip', index = False, compression = compression_opts)"
   ]
  },
  {
   "cell_type": "markdown",
   "id": "2ad44284",
   "metadata": {},
   "source": [
    "### Detroit"
   ]
  },
  {
   "cell_type": "code",
   "execution_count": 83,
   "id": "7b453a5d",
   "metadata": {},
   "outputs": [],
   "source": [
    "Detroit = (pressure[['datetime', 'Detroit']].merge(humidity[['datetime', 'Detroit']], on = 'datetime')\n",
    "           .merge(temperature[['datetime', 'Detroit']], on = 'datetime').merge(weather[['datetime', 'Detroit']], on = 'datetime').merge(wind_dir[['datetime', 'Chicago']], on = 'datetime')\n",
    "           .merge(wind_speed[['datetime', 'Detroit']], on = 'datetime'))"
   ]
  },
  {
   "cell_type": "code",
   "execution_count": 84,
   "id": "ccb82229",
   "metadata": {},
   "outputs": [
    {
     "data": {
      "text/html": [
       "<div>\n",
       "<style scoped>\n",
       "    .dataframe tbody tr th:only-of-type {\n",
       "        vertical-align: middle;\n",
       "    }\n",
       "\n",
       "    .dataframe tbody tr th {\n",
       "        vertical-align: top;\n",
       "    }\n",
       "\n",
       "    .dataframe thead th {\n",
       "        text-align: right;\n",
       "    }\n",
       "</style>\n",
       "<table border=\"1\" class=\"dataframe\">\n",
       "  <thead>\n",
       "    <tr style=\"text-align: right;\">\n",
       "      <th></th>\n",
       "      <th>datetime</th>\n",
       "      <th>pressure</th>\n",
       "      <th>humidity</th>\n",
       "      <th>temperature</th>\n",
       "      <th>weather</th>\n",
       "      <th>wind direction</th>\n",
       "      <th>wind speed</th>\n",
       "    </tr>\n",
       "  </thead>\n",
       "  <tbody>\n",
       "    <tr>\n",
       "      <th>0</th>\n",
       "      <td>2012-10-01 12:00:00</td>\n",
       "      <td>NaN</td>\n",
       "      <td>NaN</td>\n",
       "      <td>NaN</td>\n",
       "      <td>NaN</td>\n",
       "      <td>NaN</td>\n",
       "      <td>NaN</td>\n",
       "    </tr>\n",
       "    <tr>\n",
       "      <th>1</th>\n",
       "      <td>2012-10-01 13:00:00</td>\n",
       "      <td>1016.0</td>\n",
       "      <td>76.0</td>\n",
       "      <td>284.030000</td>\n",
       "      <td>sky is clear</td>\n",
       "      <td>0.0</td>\n",
       "      <td>0.0</td>\n",
       "    </tr>\n",
       "    <tr>\n",
       "      <th>2</th>\n",
       "      <td>2012-10-01 14:00:00</td>\n",
       "      <td>1015.0</td>\n",
       "      <td>75.0</td>\n",
       "      <td>284.069789</td>\n",
       "      <td>sky is clear</td>\n",
       "      <td>0.0</td>\n",
       "      <td>0.0</td>\n",
       "    </tr>\n",
       "    <tr>\n",
       "      <th>3</th>\n",
       "      <td>2012-10-01 15:00:00</td>\n",
       "      <td>1015.0</td>\n",
       "      <td>75.0</td>\n",
       "      <td>284.173965</td>\n",
       "      <td>sky is clear</td>\n",
       "      <td>0.0</td>\n",
       "      <td>0.0</td>\n",
       "    </tr>\n",
       "    <tr>\n",
       "      <th>4</th>\n",
       "      <td>2012-10-01 16:00:00</td>\n",
       "      <td>1015.0</td>\n",
       "      <td>74.0</td>\n",
       "      <td>284.278140</td>\n",
       "      <td>sky is clear</td>\n",
       "      <td>0.0</td>\n",
       "      <td>0.0</td>\n",
       "    </tr>\n",
       "  </tbody>\n",
       "</table>\n",
       "</div>"
      ],
      "text/plain": [
       "              datetime  pressure  humidity  temperature       weather  \\\n",
       "0  2012-10-01 12:00:00       NaN       NaN          NaN           NaN   \n",
       "1  2012-10-01 13:00:00    1016.0      76.0   284.030000  sky is clear   \n",
       "2  2012-10-01 14:00:00    1015.0      75.0   284.069789  sky is clear   \n",
       "3  2012-10-01 15:00:00    1015.0      75.0   284.173965  sky is clear   \n",
       "4  2012-10-01 16:00:00    1015.0      74.0   284.278140  sky is clear   \n",
       "\n",
       "   wind direction  wind speed  \n",
       "0             NaN         NaN  \n",
       "1             0.0         0.0  \n",
       "2             0.0         0.0  \n",
       "3             0.0         0.0  \n",
       "4             0.0         0.0  "
      ]
     },
     "execution_count": 84,
     "metadata": {},
     "output_type": "execute_result"
    }
   ],
   "source": [
    "Detroit.columns = ['datetime', 'pressure', 'humidity', 'temperature', 'weather', 'wind direction', 'wind speed']\n",
    "Detroit.head()"
   ]
  },
  {
   "cell_type": "code",
   "execution_count": 85,
   "id": "6de3fbab",
   "metadata": {},
   "outputs": [],
   "source": [
    "for i in Detroit[Detroit['weather'] != 'sky is clear']['weather'].unique():\n",
    "     Detroit[Detroit['weather'] != 'sky is clear'] = Detroit[Detroit['weather'] != 'sky is clear'].replace({'weather': i}, value = 'sky is not clear')"
   ]
  },
  {
   "cell_type": "code",
   "execution_count": 86,
   "id": "678ad1c2",
   "metadata": {},
   "outputs": [
    {
     "data": {
      "text/plain": [
       "sky is not clear    30004\n",
       "sky is clear        15249\n",
       "Name: weather, dtype: int64"
      ]
     },
     "execution_count": 86,
     "metadata": {},
     "output_type": "execute_result"
    }
   ],
   "source": [
    "Detroit['weather'].value_counts()"
   ]
  },
  {
   "cell_type": "code",
   "execution_count": 170,
   "id": "438a52ff",
   "metadata": {},
   "outputs": [],
   "source": [
    "compression_opts = dict(method='zip', archive_name='Detroit.csv')  \n",
    "Detroit.to_csv('Detroit.zip', index = False, compression = compression_opts)"
   ]
  },
  {
   "cell_type": "markdown",
   "id": "e684fe74",
   "metadata": {},
   "source": [
    "### Jacksonville"
   ]
  },
  {
   "cell_type": "code",
   "execution_count": 87,
   "id": "6766aa9c",
   "metadata": {},
   "outputs": [],
   "source": [
    "Jacksonville = (pressure[['datetime', 'Jacksonville']].merge(humidity[['datetime', 'Jacksonville']], on = 'datetime')\n",
    "           .merge(temperature[['datetime', 'Jacksonville']], on = 'datetime').merge(weather[['datetime', 'Jacksonville']], on = 'datetime').merge(wind_dir[['datetime', 'Chicago']], on = 'datetime')\n",
    "           .merge(wind_speed[['datetime', 'Jacksonville']], on = 'datetime'))"
   ]
  },
  {
   "cell_type": "code",
   "execution_count": 88,
   "id": "490092af",
   "metadata": {},
   "outputs": [
    {
     "data": {
      "text/html": [
       "<div>\n",
       "<style scoped>\n",
       "    .dataframe tbody tr th:only-of-type {\n",
       "        vertical-align: middle;\n",
       "    }\n",
       "\n",
       "    .dataframe tbody tr th {\n",
       "        vertical-align: top;\n",
       "    }\n",
       "\n",
       "    .dataframe thead th {\n",
       "        text-align: right;\n",
       "    }\n",
       "</style>\n",
       "<table border=\"1\" class=\"dataframe\">\n",
       "  <thead>\n",
       "    <tr style=\"text-align: right;\">\n",
       "      <th></th>\n",
       "      <th>datetime</th>\n",
       "      <th>pressure</th>\n",
       "      <th>humidity</th>\n",
       "      <th>temperature</th>\n",
       "      <th>weather</th>\n",
       "      <th>wind direction</th>\n",
       "      <th>wind speed</th>\n",
       "    </tr>\n",
       "  </thead>\n",
       "  <tbody>\n",
       "    <tr>\n",
       "      <th>0</th>\n",
       "      <td>2012-10-01 12:00:00</td>\n",
       "      <td>NaN</td>\n",
       "      <td>NaN</td>\n",
       "      <td>NaN</td>\n",
       "      <td>NaN</td>\n",
       "      <td>NaN</td>\n",
       "      <td>NaN</td>\n",
       "    </tr>\n",
       "    <tr>\n",
       "      <th>1</th>\n",
       "      <td>2012-10-01 13:00:00</td>\n",
       "      <td>1009.0</td>\n",
       "      <td>88.0</td>\n",
       "      <td>298.170000</td>\n",
       "      <td>scattered clouds</td>\n",
       "      <td>0.0</td>\n",
       "      <td>3.0</td>\n",
       "    </tr>\n",
       "    <tr>\n",
       "      <th>2</th>\n",
       "      <td>2012-10-01 14:00:00</td>\n",
       "      <td>1009.0</td>\n",
       "      <td>87.0</td>\n",
       "      <td>298.205230</td>\n",
       "      <td>scattered clouds</td>\n",
       "      <td>0.0</td>\n",
       "      <td>3.0</td>\n",
       "    </tr>\n",
       "    <tr>\n",
       "      <th>3</th>\n",
       "      <td>2012-10-01 15:00:00</td>\n",
       "      <td>1009.0</td>\n",
       "      <td>87.0</td>\n",
       "      <td>298.299595</td>\n",
       "      <td>scattered clouds</td>\n",
       "      <td>0.0</td>\n",
       "      <td>3.0</td>\n",
       "    </tr>\n",
       "    <tr>\n",
       "      <th>4</th>\n",
       "      <td>2012-10-01 16:00:00</td>\n",
       "      <td>1009.0</td>\n",
       "      <td>87.0</td>\n",
       "      <td>298.393961</td>\n",
       "      <td>scattered clouds</td>\n",
       "      <td>0.0</td>\n",
       "      <td>3.0</td>\n",
       "    </tr>\n",
       "  </tbody>\n",
       "</table>\n",
       "</div>"
      ],
      "text/plain": [
       "              datetime  pressure  humidity  temperature           weather  \\\n",
       "0  2012-10-01 12:00:00       NaN       NaN          NaN               NaN   \n",
       "1  2012-10-01 13:00:00    1009.0      88.0   298.170000  scattered clouds   \n",
       "2  2012-10-01 14:00:00    1009.0      87.0   298.205230  scattered clouds   \n",
       "3  2012-10-01 15:00:00    1009.0      87.0   298.299595  scattered clouds   \n",
       "4  2012-10-01 16:00:00    1009.0      87.0   298.393961  scattered clouds   \n",
       "\n",
       "   wind direction  wind speed  \n",
       "0             NaN         NaN  \n",
       "1             0.0         3.0  \n",
       "2             0.0         3.0  \n",
       "3             0.0         3.0  \n",
       "4             0.0         3.0  "
      ]
     },
     "execution_count": 88,
     "metadata": {},
     "output_type": "execute_result"
    }
   ],
   "source": [
    "Jacksonville.columns = ['datetime', 'pressure', 'humidity', 'temperature', 'weather', 'wind direction', 'wind speed']\n",
    "Jacksonville.head()"
   ]
  },
  {
   "cell_type": "code",
   "execution_count": 89,
   "id": "14df74e9",
   "metadata": {},
   "outputs": [],
   "source": [
    "for i in Jacksonville[Jacksonville['weather'] != 'sky is clear']['weather'].unique():\n",
    "     Jacksonville[Jacksonville['weather'] != 'sky is clear'] = Jacksonville[Jacksonville['weather'] != 'sky is clear'].replace({'weather': i}, value = 'sky is not clear')"
   ]
  },
  {
   "cell_type": "code",
   "execution_count": 91,
   "id": "36c650d2",
   "metadata": {},
   "outputs": [
    {
     "data": {
      "text/plain": [
       "sky is not clear    31893\n",
       "sky is clear        13360\n",
       "Name: weather, dtype: int64"
      ]
     },
     "execution_count": 91,
     "metadata": {},
     "output_type": "execute_result"
    }
   ],
   "source": [
    "Jacksonville['weather'].value_counts()"
   ]
  },
  {
   "cell_type": "code",
   "execution_count": 169,
   "id": "749b7ef2",
   "metadata": {},
   "outputs": [],
   "source": [
    "compression_opts = dict(method='zip', archive_name='Jacksonville.csv')  \n",
    "Jacksonville.to_csv('Jacksonville.zip', index = False, compression = compression_opts)"
   ]
  },
  {
   "cell_type": "markdown",
   "id": "ab3d4995",
   "metadata": {},
   "source": [
    "### Charlotte"
   ]
  },
  {
   "cell_type": "code",
   "execution_count": 92,
   "id": "1e8fd32c",
   "metadata": {},
   "outputs": [],
   "source": [
    "Charlotte = (pressure[['datetime', 'Charlotte']].merge(humidity[['datetime', 'Charlotte']], on = 'datetime')\n",
    "           .merge(temperature[['datetime', 'Charlotte']], on = 'datetime').merge(weather[['datetime', 'Charlotte']], on = 'datetime').merge(wind_dir[['datetime', 'Chicago']], on = 'datetime')\n",
    "           .merge(wind_speed[['datetime', 'Charlotte']], on = 'datetime'))"
   ]
  },
  {
   "cell_type": "code",
   "execution_count": 93,
   "id": "6c875aef",
   "metadata": {},
   "outputs": [
    {
     "data": {
      "text/html": [
       "<div>\n",
       "<style scoped>\n",
       "    .dataframe tbody tr th:only-of-type {\n",
       "        vertical-align: middle;\n",
       "    }\n",
       "\n",
       "    .dataframe tbody tr th {\n",
       "        vertical-align: top;\n",
       "    }\n",
       "\n",
       "    .dataframe thead th {\n",
       "        text-align: right;\n",
       "    }\n",
       "</style>\n",
       "<table border=\"1\" class=\"dataframe\">\n",
       "  <thead>\n",
       "    <tr style=\"text-align: right;\">\n",
       "      <th></th>\n",
       "      <th>datetime</th>\n",
       "      <th>pressure</th>\n",
       "      <th>humidity</th>\n",
       "      <th>temperature</th>\n",
       "      <th>weather</th>\n",
       "      <th>wind direction</th>\n",
       "      <th>wind speed</th>\n",
       "    </tr>\n",
       "  </thead>\n",
       "  <tbody>\n",
       "    <tr>\n",
       "      <th>0</th>\n",
       "      <td>2012-10-01 12:00:00</td>\n",
       "      <td>NaN</td>\n",
       "      <td>NaN</td>\n",
       "      <td>NaN</td>\n",
       "      <td>NaN</td>\n",
       "      <td>NaN</td>\n",
       "      <td>NaN</td>\n",
       "    </tr>\n",
       "    <tr>\n",
       "      <th>1</th>\n",
       "      <td>2012-10-01 13:00:00</td>\n",
       "      <td>1012.0</td>\n",
       "      <td>87.0</td>\n",
       "      <td>288.650000</td>\n",
       "      <td>mist</td>\n",
       "      <td>0.0</td>\n",
       "      <td>4.0</td>\n",
       "    </tr>\n",
       "    <tr>\n",
       "      <th>2</th>\n",
       "      <td>2012-10-01 14:00:00</td>\n",
       "      <td>1012.0</td>\n",
       "      <td>87.0</td>\n",
       "      <td>288.650172</td>\n",
       "      <td>overcast clouds</td>\n",
       "      <td>0.0</td>\n",
       "      <td>4.0</td>\n",
       "    </tr>\n",
       "    <tr>\n",
       "      <th>3</th>\n",
       "      <td>2012-10-01 15:00:00</td>\n",
       "      <td>1012.0</td>\n",
       "      <td>87.0</td>\n",
       "      <td>288.650582</td>\n",
       "      <td>overcast clouds</td>\n",
       "      <td>0.0</td>\n",
       "      <td>4.0</td>\n",
       "    </tr>\n",
       "    <tr>\n",
       "      <th>4</th>\n",
       "      <td>2012-10-01 16:00:00</td>\n",
       "      <td>1012.0</td>\n",
       "      <td>87.0</td>\n",
       "      <td>288.650991</td>\n",
       "      <td>overcast clouds</td>\n",
       "      <td>0.0</td>\n",
       "      <td>4.0</td>\n",
       "    </tr>\n",
       "  </tbody>\n",
       "</table>\n",
       "</div>"
      ],
      "text/plain": [
       "              datetime  pressure  humidity  temperature          weather  \\\n",
       "0  2012-10-01 12:00:00       NaN       NaN          NaN              NaN   \n",
       "1  2012-10-01 13:00:00    1012.0      87.0   288.650000             mist   \n",
       "2  2012-10-01 14:00:00    1012.0      87.0   288.650172  overcast clouds   \n",
       "3  2012-10-01 15:00:00    1012.0      87.0   288.650582  overcast clouds   \n",
       "4  2012-10-01 16:00:00    1012.0      87.0   288.650991  overcast clouds   \n",
       "\n",
       "   wind direction  wind speed  \n",
       "0             NaN         NaN  \n",
       "1             0.0         4.0  \n",
       "2             0.0         4.0  \n",
       "3             0.0         4.0  \n",
       "4             0.0         4.0  "
      ]
     },
     "execution_count": 93,
     "metadata": {},
     "output_type": "execute_result"
    }
   ],
   "source": [
    "Charlotte.columns = ['datetime', 'pressure', 'humidity', 'temperature', 'weather', 'wind direction', 'wind speed']\n",
    "Charlotte.head()"
   ]
  },
  {
   "cell_type": "code",
   "execution_count": 94,
   "id": "3adad64d",
   "metadata": {},
   "outputs": [],
   "source": [
    "for i in Charlotte[Charlotte['weather'] != 'sky is clear']['weather'].unique():\n",
    "     Charlotte[Charlotte['weather'] != 'sky is clear'] = Charlotte[Charlotte['weather'] != 'sky is clear'].replace({'weather': i}, value = 'sky is not clear')"
   ]
  },
  {
   "cell_type": "code",
   "execution_count": 95,
   "id": "d423f819",
   "metadata": {},
   "outputs": [
    {
     "data": {
      "text/plain": [
       "sky is not clear    29030\n",
       "sky is clear        16223\n",
       "Name: weather, dtype: int64"
      ]
     },
     "execution_count": 95,
     "metadata": {},
     "output_type": "execute_result"
    }
   ],
   "source": [
    "Charlotte['weather'].value_counts()"
   ]
  },
  {
   "cell_type": "code",
   "execution_count": 168,
   "id": "fa78a8fe",
   "metadata": {},
   "outputs": [],
   "source": [
    "compression_opts = dict(method='zip', archive_name='Charlotte.csv')  \n",
    "Charlotte.to_csv('Charlotte.zip', index = False, compression = compression_opts)"
   ]
  },
  {
   "cell_type": "markdown",
   "id": "ddf34c4c",
   "metadata": {},
   "source": [
    "### Miami"
   ]
  },
  {
   "cell_type": "code",
   "execution_count": 96,
   "id": "143e032f",
   "metadata": {},
   "outputs": [],
   "source": [
    "Miami = (pressure[['datetime', 'Miami']].merge(humidity[['datetime', 'Miami']], on = 'datetime')\n",
    "           .merge(temperature[['datetime', 'Miami']], on = 'datetime').merge(weather[['datetime', 'Miami']], on = 'datetime').merge(wind_dir[['datetime', 'Chicago']], on = 'datetime')\n",
    "           .merge(wind_speed[['datetime', 'Miami']], on = 'datetime'))"
   ]
  },
  {
   "cell_type": "code",
   "execution_count": 97,
   "id": "20544a8f",
   "metadata": {},
   "outputs": [
    {
     "data": {
      "text/html": [
       "<div>\n",
       "<style scoped>\n",
       "    .dataframe tbody tr th:only-of-type {\n",
       "        vertical-align: middle;\n",
       "    }\n",
       "\n",
       "    .dataframe tbody tr th {\n",
       "        vertical-align: top;\n",
       "    }\n",
       "\n",
       "    .dataframe thead th {\n",
       "        text-align: right;\n",
       "    }\n",
       "</style>\n",
       "<table border=\"1\" class=\"dataframe\">\n",
       "  <thead>\n",
       "    <tr style=\"text-align: right;\">\n",
       "      <th></th>\n",
       "      <th>datetime</th>\n",
       "      <th>pressure</th>\n",
       "      <th>humidity</th>\n",
       "      <th>temperature</th>\n",
       "      <th>weather</th>\n",
       "      <th>wind direction</th>\n",
       "      <th>wind speed</th>\n",
       "    </tr>\n",
       "  </thead>\n",
       "  <tbody>\n",
       "    <tr>\n",
       "      <th>0</th>\n",
       "      <td>2012-10-01 12:00:00</td>\n",
       "      <td>NaN</td>\n",
       "      <td>NaN</td>\n",
       "      <td>NaN</td>\n",
       "      <td>NaN</td>\n",
       "      <td>NaN</td>\n",
       "      <td>NaN</td>\n",
       "    </tr>\n",
       "    <tr>\n",
       "      <th>1</th>\n",
       "      <td>2012-10-01 13:00:00</td>\n",
       "      <td>1011.0</td>\n",
       "      <td>83.0</td>\n",
       "      <td>299.720000</td>\n",
       "      <td>light intensity drizzle</td>\n",
       "      <td>0.0</td>\n",
       "      <td>3.0</td>\n",
       "    </tr>\n",
       "    <tr>\n",
       "      <th>2</th>\n",
       "      <td>2012-10-01 14:00:00</td>\n",
       "      <td>1011.0</td>\n",
       "      <td>82.0</td>\n",
       "      <td>299.732518</td>\n",
       "      <td>broken clouds</td>\n",
       "      <td>0.0</td>\n",
       "      <td>3.0</td>\n",
       "    </tr>\n",
       "    <tr>\n",
       "      <th>3</th>\n",
       "      <td>2012-10-01 15:00:00</td>\n",
       "      <td>1011.0</td>\n",
       "      <td>82.0</td>\n",
       "      <td>299.766579</td>\n",
       "      <td>broken clouds</td>\n",
       "      <td>0.0</td>\n",
       "      <td>3.0</td>\n",
       "    </tr>\n",
       "    <tr>\n",
       "      <th>4</th>\n",
       "      <td>2012-10-01 16:00:00</td>\n",
       "      <td>1011.0</td>\n",
       "      <td>82.0</td>\n",
       "      <td>299.800641</td>\n",
       "      <td>broken clouds</td>\n",
       "      <td>0.0</td>\n",
       "      <td>3.0</td>\n",
       "    </tr>\n",
       "  </tbody>\n",
       "</table>\n",
       "</div>"
      ],
      "text/plain": [
       "              datetime  pressure  humidity  temperature  \\\n",
       "0  2012-10-01 12:00:00       NaN       NaN          NaN   \n",
       "1  2012-10-01 13:00:00    1011.0      83.0   299.720000   \n",
       "2  2012-10-01 14:00:00    1011.0      82.0   299.732518   \n",
       "3  2012-10-01 15:00:00    1011.0      82.0   299.766579   \n",
       "4  2012-10-01 16:00:00    1011.0      82.0   299.800641   \n",
       "\n",
       "                   weather  wind direction  wind speed  \n",
       "0                      NaN             NaN         NaN  \n",
       "1  light intensity drizzle             0.0         3.0  \n",
       "2            broken clouds             0.0         3.0  \n",
       "3            broken clouds             0.0         3.0  \n",
       "4            broken clouds             0.0         3.0  "
      ]
     },
     "execution_count": 97,
     "metadata": {},
     "output_type": "execute_result"
    }
   ],
   "source": [
    "Miami.columns = ['datetime', 'pressure', 'humidity', 'temperature', 'weather', 'wind direction', 'wind speed']\n",
    "Miami.head()"
   ]
  },
  {
   "cell_type": "code",
   "execution_count": 98,
   "id": "17f55680",
   "metadata": {},
   "outputs": [],
   "source": [
    "for i in Miami[Miami['weather'] != 'sky is clear']['weather'].unique():\n",
    "     Miami[Miami['weather'] != 'sky is clear'] = Miami[Miami['weather'] != 'sky is clear'].replace({'weather': i}, value = 'sky is not clear')"
   ]
  },
  {
   "cell_type": "code",
   "execution_count": 99,
   "id": "66f79d09",
   "metadata": {},
   "outputs": [
    {
     "data": {
      "text/plain": [
       "sky is not clear    38448\n",
       "sky is clear         6805\n",
       "Name: weather, dtype: int64"
      ]
     },
     "execution_count": 99,
     "metadata": {},
     "output_type": "execute_result"
    }
   ],
   "source": [
    "Miami['weather'].value_counts()"
   ]
  },
  {
   "cell_type": "code",
   "execution_count": 167,
   "id": "3a2a5d59",
   "metadata": {},
   "outputs": [],
   "source": [
    "compression_opts = dict(method='zip', archive_name='Miami.csv')  \n",
    "Miami.to_csv('Miami.zip', index = False, compression = compression_opts)"
   ]
  },
  {
   "cell_type": "markdown",
   "id": "074d6507",
   "metadata": {},
   "source": [
    "### Pittsburgh"
   ]
  },
  {
   "cell_type": "code",
   "execution_count": 100,
   "id": "297d56f2",
   "metadata": {},
   "outputs": [],
   "source": [
    "Pittsburgh = (pressure[['datetime', 'Pittsburgh']].merge(humidity[['datetime', 'Pittsburgh']], on = 'datetime')\n",
    "           .merge(temperature[['datetime', 'Pittsburgh']], on = 'datetime').merge(weather[['datetime', 'Pittsburgh']], on = 'datetime').merge(wind_dir[['datetime', 'Chicago']], on = 'datetime')\n",
    "           .merge(wind_speed[['datetime', 'Pittsburgh']], on = 'datetime'))"
   ]
  },
  {
   "cell_type": "code",
   "execution_count": 101,
   "id": "0e9a9172",
   "metadata": {},
   "outputs": [
    {
     "data": {
      "text/html": [
       "<div>\n",
       "<style scoped>\n",
       "    .dataframe tbody tr th:only-of-type {\n",
       "        vertical-align: middle;\n",
       "    }\n",
       "\n",
       "    .dataframe tbody tr th {\n",
       "        vertical-align: top;\n",
       "    }\n",
       "\n",
       "    .dataframe thead th {\n",
       "        text-align: right;\n",
       "    }\n",
       "</style>\n",
       "<table border=\"1\" class=\"dataframe\">\n",
       "  <thead>\n",
       "    <tr style=\"text-align: right;\">\n",
       "      <th></th>\n",
       "      <th>datetime</th>\n",
       "      <th>pressure</th>\n",
       "      <th>humidity</th>\n",
       "      <th>temperature</th>\n",
       "      <th>weather</th>\n",
       "      <th>wind direction</th>\n",
       "      <th>wind speed</th>\n",
       "    </tr>\n",
       "  </thead>\n",
       "  <tbody>\n",
       "    <tr>\n",
       "      <th>0</th>\n",
       "      <td>2012-10-01 12:00:00</td>\n",
       "      <td>NaN</td>\n",
       "      <td>NaN</td>\n",
       "      <td>NaN</td>\n",
       "      <td>NaN</td>\n",
       "      <td>NaN</td>\n",
       "      <td>NaN</td>\n",
       "    </tr>\n",
       "    <tr>\n",
       "      <th>1</th>\n",
       "      <td>2012-10-01 13:00:00</td>\n",
       "      <td>1015.0</td>\n",
       "      <td>93.0</td>\n",
       "      <td>281.000000</td>\n",
       "      <td>mist</td>\n",
       "      <td>0.0</td>\n",
       "      <td>0.0</td>\n",
       "    </tr>\n",
       "    <tr>\n",
       "      <th>2</th>\n",
       "      <td>2012-10-01 14:00:00</td>\n",
       "      <td>1015.0</td>\n",
       "      <td>93.0</td>\n",
       "      <td>281.024767</td>\n",
       "      <td>scattered clouds</td>\n",
       "      <td>0.0</td>\n",
       "      <td>0.0</td>\n",
       "    </tr>\n",
       "    <tr>\n",
       "      <th>3</th>\n",
       "      <td>2012-10-01 15:00:00</td>\n",
       "      <td>1015.0</td>\n",
       "      <td>93.0</td>\n",
       "      <td>281.088319</td>\n",
       "      <td>scattered clouds</td>\n",
       "      <td>0.0</td>\n",
       "      <td>0.0</td>\n",
       "    </tr>\n",
       "    <tr>\n",
       "      <th>4</th>\n",
       "      <td>2012-10-01 16:00:00</td>\n",
       "      <td>1015.0</td>\n",
       "      <td>93.0</td>\n",
       "      <td>281.151870</td>\n",
       "      <td>scattered clouds</td>\n",
       "      <td>0.0</td>\n",
       "      <td>0.0</td>\n",
       "    </tr>\n",
       "  </tbody>\n",
       "</table>\n",
       "</div>"
      ],
      "text/plain": [
       "              datetime  pressure  humidity  temperature           weather  \\\n",
       "0  2012-10-01 12:00:00       NaN       NaN          NaN               NaN   \n",
       "1  2012-10-01 13:00:00    1015.0      93.0   281.000000              mist   \n",
       "2  2012-10-01 14:00:00    1015.0      93.0   281.024767  scattered clouds   \n",
       "3  2012-10-01 15:00:00    1015.0      93.0   281.088319  scattered clouds   \n",
       "4  2012-10-01 16:00:00    1015.0      93.0   281.151870  scattered clouds   \n",
       "\n",
       "   wind direction  wind speed  \n",
       "0             NaN         NaN  \n",
       "1             0.0         0.0  \n",
       "2             0.0         0.0  \n",
       "3             0.0         0.0  \n",
       "4             0.0         0.0  "
      ]
     },
     "execution_count": 101,
     "metadata": {},
     "output_type": "execute_result"
    }
   ],
   "source": [
    "Pittsburgh.columns = ['datetime', 'pressure', 'humidity', 'temperature', 'weather', 'wind direction', 'wind speed']\n",
    "Pittsburgh.head()"
   ]
  },
  {
   "cell_type": "code",
   "execution_count": 103,
   "id": "0aae61fa",
   "metadata": {},
   "outputs": [],
   "source": [
    "for i in Pittsburgh[Pittsburgh['weather'] != 'sky is clear']['weather'].unique():\n",
    "     Pittsburgh[Pittsburgh['weather'] != 'sky is clear'] = Pittsburgh[Pittsburgh['weather'] != 'sky is clear'].replace({'weather': i}, value = 'sky is not clear')"
   ]
  },
  {
   "cell_type": "code",
   "execution_count": 104,
   "id": "6821dba4",
   "metadata": {},
   "outputs": [
    {
     "data": {
      "text/plain": [
       "sky is not clear    30603\n",
       "sky is clear        14650\n",
       "Name: weather, dtype: int64"
      ]
     },
     "execution_count": 104,
     "metadata": {},
     "output_type": "execute_result"
    }
   ],
   "source": [
    "Pittsburgh['weather'].value_counts()"
   ]
  },
  {
   "cell_type": "code",
   "execution_count": 166,
   "id": "e8afd277",
   "metadata": {},
   "outputs": [],
   "source": [
    "compression_opts = dict(method='zip', archive_name='Pittsburgh.csv')  \n",
    "Pittsburgh.to_csv('Pittsburgh.zip', index = False, compression = compression_opts)"
   ]
  },
  {
   "cell_type": "markdown",
   "id": "06fbb91c",
   "metadata": {},
   "source": [
    "### Toronto"
   ]
  },
  {
   "cell_type": "code",
   "execution_count": 105,
   "id": "8826b288",
   "metadata": {},
   "outputs": [],
   "source": [
    "Toronto = (pressure[['datetime', 'Toronto']].merge(humidity[['datetime', 'Toronto']], on = 'datetime')\n",
    "           .merge(temperature[['datetime', 'Toronto']], on = 'datetime').merge(weather[['datetime', 'Toronto']], on = 'datetime').merge(wind_dir[['datetime', 'Chicago']], on = 'datetime')\n",
    "           .merge(wind_speed[['datetime', 'Toronto']], on = 'datetime'))"
   ]
  },
  {
   "cell_type": "code",
   "execution_count": 106,
   "id": "92069c27",
   "metadata": {},
   "outputs": [
    {
     "data": {
      "text/html": [
       "<div>\n",
       "<style scoped>\n",
       "    .dataframe tbody tr th:only-of-type {\n",
       "        vertical-align: middle;\n",
       "    }\n",
       "\n",
       "    .dataframe tbody tr th {\n",
       "        vertical-align: top;\n",
       "    }\n",
       "\n",
       "    .dataframe thead th {\n",
       "        text-align: right;\n",
       "    }\n",
       "</style>\n",
       "<table border=\"1\" class=\"dataframe\">\n",
       "  <thead>\n",
       "    <tr style=\"text-align: right;\">\n",
       "      <th></th>\n",
       "      <th>datetime</th>\n",
       "      <th>pressure</th>\n",
       "      <th>humidity</th>\n",
       "      <th>temperature</th>\n",
       "      <th>weather</th>\n",
       "      <th>wind direction</th>\n",
       "      <th>wind speed</th>\n",
       "    </tr>\n",
       "  </thead>\n",
       "  <tbody>\n",
       "    <tr>\n",
       "      <th>0</th>\n",
       "      <td>2012-10-01 12:00:00</td>\n",
       "      <td>NaN</td>\n",
       "      <td>NaN</td>\n",
       "      <td>NaN</td>\n",
       "      <td>NaN</td>\n",
       "      <td>NaN</td>\n",
       "      <td>NaN</td>\n",
       "    </tr>\n",
       "    <tr>\n",
       "      <th>1</th>\n",
       "      <td>2012-10-01 13:00:00</td>\n",
       "      <td>1012.0</td>\n",
       "      <td>82.0</td>\n",
       "      <td>286.260000</td>\n",
       "      <td>sky is clear</td>\n",
       "      <td>0.0</td>\n",
       "      <td>3.0</td>\n",
       "    </tr>\n",
       "    <tr>\n",
       "      <th>2</th>\n",
       "      <td>2012-10-01 14:00:00</td>\n",
       "      <td>1011.0</td>\n",
       "      <td>81.0</td>\n",
       "      <td>286.262541</td>\n",
       "      <td>sky is clear</td>\n",
       "      <td>0.0</td>\n",
       "      <td>3.0</td>\n",
       "    </tr>\n",
       "    <tr>\n",
       "      <th>3</th>\n",
       "      <td>2012-10-01 15:00:00</td>\n",
       "      <td>1011.0</td>\n",
       "      <td>79.0</td>\n",
       "      <td>286.269518</td>\n",
       "      <td>sky is clear</td>\n",
       "      <td>0.0</td>\n",
       "      <td>3.0</td>\n",
       "    </tr>\n",
       "    <tr>\n",
       "      <th>4</th>\n",
       "      <td>2012-10-01 16:00:00</td>\n",
       "      <td>1010.0</td>\n",
       "      <td>77.0</td>\n",
       "      <td>286.276496</td>\n",
       "      <td>sky is clear</td>\n",
       "      <td>0.0</td>\n",
       "      <td>3.0</td>\n",
       "    </tr>\n",
       "  </tbody>\n",
       "</table>\n",
       "</div>"
      ],
      "text/plain": [
       "              datetime  pressure  humidity  temperature       weather  \\\n",
       "0  2012-10-01 12:00:00       NaN       NaN          NaN           NaN   \n",
       "1  2012-10-01 13:00:00    1012.0      82.0   286.260000  sky is clear   \n",
       "2  2012-10-01 14:00:00    1011.0      81.0   286.262541  sky is clear   \n",
       "3  2012-10-01 15:00:00    1011.0      79.0   286.269518  sky is clear   \n",
       "4  2012-10-01 16:00:00    1010.0      77.0   286.276496  sky is clear   \n",
       "\n",
       "   wind direction  wind speed  \n",
       "0             NaN         NaN  \n",
       "1             0.0         3.0  \n",
       "2             0.0         3.0  \n",
       "3             0.0         3.0  \n",
       "4             0.0         3.0  "
      ]
     },
     "execution_count": 106,
     "metadata": {},
     "output_type": "execute_result"
    }
   ],
   "source": [
    "Toronto.columns = ['datetime', 'pressure', 'humidity', 'temperature', 'weather', 'wind direction', 'wind speed']\n",
    "Toronto.head()"
   ]
  },
  {
   "cell_type": "code",
   "execution_count": 107,
   "id": "b617249f",
   "metadata": {},
   "outputs": [],
   "source": [
    "for i in Toronto[Toronto['weather'] != 'sky is clear']['weather'].unique():\n",
    "     Toronto[Toronto['weather'] != 'sky is clear'] = Toronto[Toronto['weather'] != 'sky is clear'].replace({'weather': i}, value = 'sky is not clear')"
   ]
  },
  {
   "cell_type": "code",
   "execution_count": 108,
   "id": "5f52e653",
   "metadata": {},
   "outputs": [
    {
     "data": {
      "text/plain": [
       "sky is not clear    31339\n",
       "sky is clear        13914\n",
       "Name: weather, dtype: int64"
      ]
     },
     "execution_count": 108,
     "metadata": {},
     "output_type": "execute_result"
    }
   ],
   "source": [
    "Toronto['weather'].value_counts()"
   ]
  },
  {
   "cell_type": "code",
   "execution_count": 165,
   "id": "837221e7",
   "metadata": {},
   "outputs": [],
   "source": [
    "compression_opts = dict(method='zip', archive_name='Toronto.csv')  \n",
    "Toronto.to_csv('Toronto.zip', index = False, compression = compression_opts)"
   ]
  },
  {
   "cell_type": "markdown",
   "id": "20b1b291",
   "metadata": {},
   "source": [
    "### Philadelphia"
   ]
  },
  {
   "cell_type": "code",
   "execution_count": 109,
   "id": "ecb6cbf0",
   "metadata": {},
   "outputs": [],
   "source": [
    "Philadelphia = (pressure[['datetime', 'Philadelphia']].merge(humidity[['datetime', 'Philadelphia']], on = 'datetime')\n",
    "           .merge(temperature[['datetime', 'Philadelphia']], on = 'datetime').merge(weather[['datetime', 'Philadelphia']], on = 'datetime').merge(wind_dir[['datetime', 'Chicago']], on = 'datetime')\n",
    "           .merge(wind_speed[['datetime', 'Philadelphia']], on = 'datetime'))"
   ]
  },
  {
   "cell_type": "code",
   "execution_count": 110,
   "id": "538aa96c",
   "metadata": {},
   "outputs": [
    {
     "data": {
      "text/html": [
       "<div>\n",
       "<style scoped>\n",
       "    .dataframe tbody tr th:only-of-type {\n",
       "        vertical-align: middle;\n",
       "    }\n",
       "\n",
       "    .dataframe tbody tr th {\n",
       "        vertical-align: top;\n",
       "    }\n",
       "\n",
       "    .dataframe thead th {\n",
       "        text-align: right;\n",
       "    }\n",
       "</style>\n",
       "<table border=\"1\" class=\"dataframe\">\n",
       "  <thead>\n",
       "    <tr style=\"text-align: right;\">\n",
       "      <th></th>\n",
       "      <th>datetime</th>\n",
       "      <th>pressure</th>\n",
       "      <th>humidity</th>\n",
       "      <th>temperature</th>\n",
       "      <th>weather</th>\n",
       "      <th>wind direction</th>\n",
       "      <th>wind speed</th>\n",
       "    </tr>\n",
       "  </thead>\n",
       "  <tbody>\n",
       "    <tr>\n",
       "      <th>0</th>\n",
       "      <td>2012-10-01 12:00:00</td>\n",
       "      <td>NaN</td>\n",
       "      <td>NaN</td>\n",
       "      <td>NaN</td>\n",
       "      <td>NaN</td>\n",
       "      <td>NaN</td>\n",
       "      <td>NaN</td>\n",
       "    </tr>\n",
       "    <tr>\n",
       "      <th>1</th>\n",
       "      <td>2012-10-01 13:00:00</td>\n",
       "      <td>1014.0</td>\n",
       "      <td>71.0</td>\n",
       "      <td>285.630000</td>\n",
       "      <td>broken clouds</td>\n",
       "      <td>0.0</td>\n",
       "      <td>4.0</td>\n",
       "    </tr>\n",
       "    <tr>\n",
       "      <th>2</th>\n",
       "      <td>2012-10-01 14:00:00</td>\n",
       "      <td>1014.0</td>\n",
       "      <td>70.0</td>\n",
       "      <td>285.663208</td>\n",
       "      <td>broken clouds</td>\n",
       "      <td>0.0</td>\n",
       "      <td>4.0</td>\n",
       "    </tr>\n",
       "    <tr>\n",
       "      <th>3</th>\n",
       "      <td>2012-10-01 15:00:00</td>\n",
       "      <td>1014.0</td>\n",
       "      <td>70.0</td>\n",
       "      <td>285.756824</td>\n",
       "      <td>broken clouds</td>\n",
       "      <td>0.0</td>\n",
       "      <td>3.0</td>\n",
       "    </tr>\n",
       "    <tr>\n",
       "      <th>4</th>\n",
       "      <td>2012-10-01 16:00:00</td>\n",
       "      <td>1014.0</td>\n",
       "      <td>69.0</td>\n",
       "      <td>285.850440</td>\n",
       "      <td>broken clouds</td>\n",
       "      <td>0.0</td>\n",
       "      <td>3.0</td>\n",
       "    </tr>\n",
       "  </tbody>\n",
       "</table>\n",
       "</div>"
      ],
      "text/plain": [
       "              datetime  pressure  humidity  temperature        weather  \\\n",
       "0  2012-10-01 12:00:00       NaN       NaN          NaN            NaN   \n",
       "1  2012-10-01 13:00:00    1014.0      71.0   285.630000  broken clouds   \n",
       "2  2012-10-01 14:00:00    1014.0      70.0   285.663208  broken clouds   \n",
       "3  2012-10-01 15:00:00    1014.0      70.0   285.756824  broken clouds   \n",
       "4  2012-10-01 16:00:00    1014.0      69.0   285.850440  broken clouds   \n",
       "\n",
       "   wind direction  wind speed  \n",
       "0             NaN         NaN  \n",
       "1             0.0         4.0  \n",
       "2             0.0         4.0  \n",
       "3             0.0         3.0  \n",
       "4             0.0         3.0  "
      ]
     },
     "execution_count": 110,
     "metadata": {},
     "output_type": "execute_result"
    }
   ],
   "source": [
    "Philadelphia.columns = ['datetime', 'pressure', 'humidity', 'temperature', 'weather', 'wind direction', 'wind speed']\n",
    "Philadelphia.head()"
   ]
  },
  {
   "cell_type": "code",
   "execution_count": 111,
   "id": "e0f14967",
   "metadata": {},
   "outputs": [],
   "source": [
    "for i in Philadelphia[Philadelphia['weather'] != 'sky is clear']['weather'].unique():\n",
    "     Philadelphia[Philadelphia['weather'] != 'sky is clear'] = Philadelphia[Philadelphia['weather'] != 'sky is clear'].replace({'weather': i}, value = 'sky is not clear')"
   ]
  },
  {
   "cell_type": "code",
   "execution_count": 112,
   "id": "56423c5b",
   "metadata": {},
   "outputs": [
    {
     "data": {
      "text/plain": [
       "sky is not clear    30334\n",
       "sky is clear        14919\n",
       "Name: weather, dtype: int64"
      ]
     },
     "execution_count": 112,
     "metadata": {},
     "output_type": "execute_result"
    }
   ],
   "source": [
    "Philadelphia['weather'].value_counts()"
   ]
  },
  {
   "cell_type": "code",
   "execution_count": 164,
   "id": "b120be05",
   "metadata": {},
   "outputs": [],
   "source": [
    "compression_opts = dict(method='zip', archive_name='Philadelphia.csv')  \n",
    "Philadelphia.to_csv('Philadelphia.zip', index = False, compression = compression_opts)"
   ]
  },
  {
   "cell_type": "markdown",
   "id": "702c99a8",
   "metadata": {},
   "source": [
    "### New York City"
   ]
  },
  {
   "cell_type": "code",
   "execution_count": 113,
   "id": "4653a9fa",
   "metadata": {},
   "outputs": [],
   "source": [
    "NYC = (pressure[['datetime', 'New York']].merge(humidity[['datetime', 'New York']], on = 'datetime')\n",
    "           .merge(temperature[['datetime', 'New York']], on = 'datetime').merge(weather[['datetime', 'New York']], on = 'datetime').merge(wind_dir[['datetime', 'Chicago']], on = 'datetime')\n",
    "           .merge(wind_speed[['datetime', 'New York']], on = 'datetime'))"
   ]
  },
  {
   "cell_type": "code",
   "execution_count": 114,
   "id": "a80759f8",
   "metadata": {},
   "outputs": [
    {
     "data": {
      "text/html": [
       "<div>\n",
       "<style scoped>\n",
       "    .dataframe tbody tr th:only-of-type {\n",
       "        vertical-align: middle;\n",
       "    }\n",
       "\n",
       "    .dataframe tbody tr th {\n",
       "        vertical-align: top;\n",
       "    }\n",
       "\n",
       "    .dataframe thead th {\n",
       "        text-align: right;\n",
       "    }\n",
       "</style>\n",
       "<table border=\"1\" class=\"dataframe\">\n",
       "  <thead>\n",
       "    <tr style=\"text-align: right;\">\n",
       "      <th></th>\n",
       "      <th>datetime</th>\n",
       "      <th>pressure</th>\n",
       "      <th>humidity</th>\n",
       "      <th>temperature</th>\n",
       "      <th>weather</th>\n",
       "      <th>wind direction</th>\n",
       "      <th>wind speed</th>\n",
       "    </tr>\n",
       "  </thead>\n",
       "  <tbody>\n",
       "    <tr>\n",
       "      <th>0</th>\n",
       "      <td>2012-10-01 12:00:00</td>\n",
       "      <td>NaN</td>\n",
       "      <td>NaN</td>\n",
       "      <td>NaN</td>\n",
       "      <td>NaN</td>\n",
       "      <td>NaN</td>\n",
       "      <td>NaN</td>\n",
       "    </tr>\n",
       "    <tr>\n",
       "      <th>1</th>\n",
       "      <td>2012-10-01 13:00:00</td>\n",
       "      <td>1012.0</td>\n",
       "      <td>58.0</td>\n",
       "      <td>288.220000</td>\n",
       "      <td>few clouds</td>\n",
       "      <td>0.0</td>\n",
       "      <td>7.0</td>\n",
       "    </tr>\n",
       "    <tr>\n",
       "      <th>2</th>\n",
       "      <td>2012-10-01 14:00:00</td>\n",
       "      <td>1012.0</td>\n",
       "      <td>57.0</td>\n",
       "      <td>288.247676</td>\n",
       "      <td>few clouds</td>\n",
       "      <td>0.0</td>\n",
       "      <td>7.0</td>\n",
       "    </tr>\n",
       "    <tr>\n",
       "      <th>3</th>\n",
       "      <td>2012-10-01 15:00:00</td>\n",
       "      <td>1012.0</td>\n",
       "      <td>57.0</td>\n",
       "      <td>288.326940</td>\n",
       "      <td>few clouds</td>\n",
       "      <td>0.0</td>\n",
       "      <td>7.0</td>\n",
       "    </tr>\n",
       "    <tr>\n",
       "      <th>4</th>\n",
       "      <td>2012-10-01 16:00:00</td>\n",
       "      <td>1012.0</td>\n",
       "      <td>57.0</td>\n",
       "      <td>288.406203</td>\n",
       "      <td>few clouds</td>\n",
       "      <td>0.0</td>\n",
       "      <td>7.0</td>\n",
       "    </tr>\n",
       "  </tbody>\n",
       "</table>\n",
       "</div>"
      ],
      "text/plain": [
       "              datetime  pressure  humidity  temperature     weather  \\\n",
       "0  2012-10-01 12:00:00       NaN       NaN          NaN         NaN   \n",
       "1  2012-10-01 13:00:00    1012.0      58.0   288.220000  few clouds   \n",
       "2  2012-10-01 14:00:00    1012.0      57.0   288.247676  few clouds   \n",
       "3  2012-10-01 15:00:00    1012.0      57.0   288.326940  few clouds   \n",
       "4  2012-10-01 16:00:00    1012.0      57.0   288.406203  few clouds   \n",
       "\n",
       "   wind direction  wind speed  \n",
       "0             NaN         NaN  \n",
       "1             0.0         7.0  \n",
       "2             0.0         7.0  \n",
       "3             0.0         7.0  \n",
       "4             0.0         7.0  "
      ]
     },
     "execution_count": 114,
     "metadata": {},
     "output_type": "execute_result"
    }
   ],
   "source": [
    "NYC.columns = ['datetime', 'pressure', 'humidity', 'temperature', 'weather', 'wind direction', 'wind speed']\n",
    "NYC.head()"
   ]
  },
  {
   "cell_type": "code",
   "execution_count": 115,
   "id": "d7e33993",
   "metadata": {},
   "outputs": [],
   "source": [
    "for i in NYC[NYC['weather'] != 'sky is clear']['weather'].unique():\n",
    "     NYC[NYC['weather'] != 'sky is clear'] = NYC[NYC['weather'] != 'sky is clear'].replace({'weather': i}, value = 'sky is not clear')"
   ]
  },
  {
   "cell_type": "code",
   "execution_count": 116,
   "id": "ed863549",
   "metadata": {},
   "outputs": [
    {
     "data": {
      "text/plain": [
       "sky is not clear    33652\n",
       "sky is clear        11601\n",
       "Name: weather, dtype: int64"
      ]
     },
     "execution_count": 116,
     "metadata": {},
     "output_type": "execute_result"
    }
   ],
   "source": [
    "NYC['weather'].value_counts()"
   ]
  },
  {
   "cell_type": "code",
   "execution_count": 163,
   "id": "a1c233e1",
   "metadata": {},
   "outputs": [],
   "source": [
    "compression_opts = dict(method='zip', archive_name='NYC.csv')  \n",
    "NYC.to_csv('NYC.zip', index = False, compression = compression_opts)"
   ]
  },
  {
   "cell_type": "markdown",
   "id": "a813b297",
   "metadata": {},
   "source": [
    "### Montreal"
   ]
  },
  {
   "cell_type": "code",
   "execution_count": 117,
   "id": "ccee04f2",
   "metadata": {},
   "outputs": [],
   "source": [
    "Montreal = (pressure[['datetime', 'Montreal']].merge(humidity[['datetime', 'Montreal']], on = 'datetime')\n",
    "           .merge(temperature[['datetime', 'Montreal']], on = 'datetime').merge(weather[['datetime', 'Montreal']], on = 'datetime').merge(wind_dir[['datetime', 'Chicago']], on = 'datetime')\n",
    "           .merge(wind_speed[['datetime', 'Montreal']], on = 'datetime'))"
   ]
  },
  {
   "cell_type": "code",
   "execution_count": 118,
   "id": "67c196bf",
   "metadata": {},
   "outputs": [
    {
     "data": {
      "text/html": [
       "<div>\n",
       "<style scoped>\n",
       "    .dataframe tbody tr th:only-of-type {\n",
       "        vertical-align: middle;\n",
       "    }\n",
       "\n",
       "    .dataframe tbody tr th {\n",
       "        vertical-align: top;\n",
       "    }\n",
       "\n",
       "    .dataframe thead th {\n",
       "        text-align: right;\n",
       "    }\n",
       "</style>\n",
       "<table border=\"1\" class=\"dataframe\">\n",
       "  <thead>\n",
       "    <tr style=\"text-align: right;\">\n",
       "      <th></th>\n",
       "      <th>datetime</th>\n",
       "      <th>pressure</th>\n",
       "      <th>humidity</th>\n",
       "      <th>temperature</th>\n",
       "      <th>weather</th>\n",
       "      <th>wind direction</th>\n",
       "      <th>wind speed</th>\n",
       "    </tr>\n",
       "  </thead>\n",
       "  <tbody>\n",
       "    <tr>\n",
       "      <th>0</th>\n",
       "      <td>2012-10-01 12:00:00</td>\n",
       "      <td>NaN</td>\n",
       "      <td>NaN</td>\n",
       "      <td>NaN</td>\n",
       "      <td>NaN</td>\n",
       "      <td>NaN</td>\n",
       "      <td>NaN</td>\n",
       "    </tr>\n",
       "    <tr>\n",
       "      <th>1</th>\n",
       "      <td>2012-10-01 13:00:00</td>\n",
       "      <td>1001.0</td>\n",
       "      <td>93.0</td>\n",
       "      <td>285.830000</td>\n",
       "      <td>overcast clouds</td>\n",
       "      <td>0.0</td>\n",
       "      <td>4.0</td>\n",
       "    </tr>\n",
       "    <tr>\n",
       "      <th>2</th>\n",
       "      <td>2012-10-01 14:00:00</td>\n",
       "      <td>986.0</td>\n",
       "      <td>91.0</td>\n",
       "      <td>285.834650</td>\n",
       "      <td>sky is clear</td>\n",
       "      <td>0.0</td>\n",
       "      <td>4.0</td>\n",
       "    </tr>\n",
       "    <tr>\n",
       "      <th>3</th>\n",
       "      <td>2012-10-01 15:00:00</td>\n",
       "      <td>945.0</td>\n",
       "      <td>87.0</td>\n",
       "      <td>285.847790</td>\n",
       "      <td>sky is clear</td>\n",
       "      <td>0.0</td>\n",
       "      <td>4.0</td>\n",
       "    </tr>\n",
       "    <tr>\n",
       "      <th>4</th>\n",
       "      <td>2012-10-01 16:00:00</td>\n",
       "      <td>904.0</td>\n",
       "      <td>84.0</td>\n",
       "      <td>285.860929</td>\n",
       "      <td>sky is clear</td>\n",
       "      <td>0.0</td>\n",
       "      <td>4.0</td>\n",
       "    </tr>\n",
       "  </tbody>\n",
       "</table>\n",
       "</div>"
      ],
      "text/plain": [
       "              datetime  pressure  humidity  temperature          weather  \\\n",
       "0  2012-10-01 12:00:00       NaN       NaN          NaN              NaN   \n",
       "1  2012-10-01 13:00:00    1001.0      93.0   285.830000  overcast clouds   \n",
       "2  2012-10-01 14:00:00     986.0      91.0   285.834650     sky is clear   \n",
       "3  2012-10-01 15:00:00     945.0      87.0   285.847790     sky is clear   \n",
       "4  2012-10-01 16:00:00     904.0      84.0   285.860929     sky is clear   \n",
       "\n",
       "   wind direction  wind speed  \n",
       "0             NaN         NaN  \n",
       "1             0.0         4.0  \n",
       "2             0.0         4.0  \n",
       "3             0.0         4.0  \n",
       "4             0.0         4.0  "
      ]
     },
     "execution_count": 118,
     "metadata": {},
     "output_type": "execute_result"
    }
   ],
   "source": [
    "Montreal.columns = ['datetime', 'pressure', 'humidity', 'temperature', 'weather', 'wind direction', 'wind speed']\n",
    "Montreal.head()"
   ]
  },
  {
   "cell_type": "code",
   "execution_count": 119,
   "id": "dcee25ca",
   "metadata": {},
   "outputs": [],
   "source": [
    "for i in Montreal[Montreal['weather'] != 'sky is clear']['weather'].unique():\n",
    "     Montreal[Montreal['weather'] != 'sky is clear'] = Montreal[Montreal['weather'] != 'sky is clear'].replace({'weather': i}, value = 'sky is not clear')"
   ]
  },
  {
   "cell_type": "code",
   "execution_count": 120,
   "id": "6abfcc05",
   "metadata": {},
   "outputs": [
    {
     "data": {
      "text/plain": [
       "sky is not clear    37954\n",
       "sky is clear         7299\n",
       "Name: weather, dtype: int64"
      ]
     },
     "execution_count": 120,
     "metadata": {},
     "output_type": "execute_result"
    }
   ],
   "source": [
    "Montreal['weather'].value_counts()"
   ]
  },
  {
   "cell_type": "code",
   "execution_count": 162,
   "id": "f44e69d6",
   "metadata": {},
   "outputs": [],
   "source": [
    "compression_opts = dict(method='zip', archive_name='Montreal.csv')  \n",
    "Montreal.to_csv('Montreal.zip', index = False, compression = compression_opts)"
   ]
  },
  {
   "cell_type": "markdown",
   "id": "24d43429",
   "metadata": {},
   "source": [
    "### Boston"
   ]
  },
  {
   "cell_type": "code",
   "execution_count": 121,
   "id": "0003d8cb",
   "metadata": {},
   "outputs": [],
   "source": [
    "Boston = (pressure[['datetime', 'Boston']].merge(humidity[['datetime', 'Boston']], on = 'datetime')\n",
    "           .merge(temperature[['datetime', 'Boston']], on = 'datetime').merge(weather[['datetime', 'Boston']], on = 'datetime').merge(wind_dir[['datetime', 'Chicago']], on = 'datetime')\n",
    "           .merge(wind_speed[['datetime', 'Boston']], on = 'datetime'))"
   ]
  },
  {
   "cell_type": "code",
   "execution_count": 122,
   "id": "4d665d41",
   "metadata": {},
   "outputs": [
    {
     "data": {
      "text/html": [
       "<div>\n",
       "<style scoped>\n",
       "    .dataframe tbody tr th:only-of-type {\n",
       "        vertical-align: middle;\n",
       "    }\n",
       "\n",
       "    .dataframe tbody tr th {\n",
       "        vertical-align: top;\n",
       "    }\n",
       "\n",
       "    .dataframe thead th {\n",
       "        text-align: right;\n",
       "    }\n",
       "</style>\n",
       "<table border=\"1\" class=\"dataframe\">\n",
       "  <thead>\n",
       "    <tr style=\"text-align: right;\">\n",
       "      <th></th>\n",
       "      <th>datetime</th>\n",
       "      <th>pressure</th>\n",
       "      <th>humidity</th>\n",
       "      <th>temperature</th>\n",
       "      <th>weather</th>\n",
       "      <th>wind direction</th>\n",
       "      <th>wind speed</th>\n",
       "    </tr>\n",
       "  </thead>\n",
       "  <tbody>\n",
       "    <tr>\n",
       "      <th>0</th>\n",
       "      <td>2012-10-01 12:00:00</td>\n",
       "      <td>NaN</td>\n",
       "      <td>NaN</td>\n",
       "      <td>NaN</td>\n",
       "      <td>NaN</td>\n",
       "      <td>NaN</td>\n",
       "      <td>NaN</td>\n",
       "    </tr>\n",
       "    <tr>\n",
       "      <th>1</th>\n",
       "      <td>2012-10-01 13:00:00</td>\n",
       "      <td>1014.0</td>\n",
       "      <td>68.0</td>\n",
       "      <td>287.170000</td>\n",
       "      <td>sky is clear</td>\n",
       "      <td>0.0</td>\n",
       "      <td>3.0</td>\n",
       "    </tr>\n",
       "    <tr>\n",
       "      <th>2</th>\n",
       "      <td>2012-10-01 14:00:00</td>\n",
       "      <td>1014.0</td>\n",
       "      <td>68.0</td>\n",
       "      <td>287.186092</td>\n",
       "      <td>few clouds</td>\n",
       "      <td>0.0</td>\n",
       "      <td>3.0</td>\n",
       "    </tr>\n",
       "    <tr>\n",
       "      <th>3</th>\n",
       "      <td>2012-10-01 15:00:00</td>\n",
       "      <td>1014.0</td>\n",
       "      <td>68.0</td>\n",
       "      <td>287.231672</td>\n",
       "      <td>few clouds</td>\n",
       "      <td>0.0</td>\n",
       "      <td>3.0</td>\n",
       "    </tr>\n",
       "    <tr>\n",
       "      <th>4</th>\n",
       "      <td>2012-10-01 16:00:00</td>\n",
       "      <td>1014.0</td>\n",
       "      <td>68.0</td>\n",
       "      <td>287.277251</td>\n",
       "      <td>few clouds</td>\n",
       "      <td>0.0</td>\n",
       "      <td>3.0</td>\n",
       "    </tr>\n",
       "  </tbody>\n",
       "</table>\n",
       "</div>"
      ],
      "text/plain": [
       "              datetime  pressure  humidity  temperature       weather  \\\n",
       "0  2012-10-01 12:00:00       NaN       NaN          NaN           NaN   \n",
       "1  2012-10-01 13:00:00    1014.0      68.0   287.170000  sky is clear   \n",
       "2  2012-10-01 14:00:00    1014.0      68.0   287.186092    few clouds   \n",
       "3  2012-10-01 15:00:00    1014.0      68.0   287.231672    few clouds   \n",
       "4  2012-10-01 16:00:00    1014.0      68.0   287.277251    few clouds   \n",
       "\n",
       "   wind direction  wind speed  \n",
       "0             NaN         NaN  \n",
       "1             0.0         3.0  \n",
       "2             0.0         3.0  \n",
       "3             0.0         3.0  \n",
       "4             0.0         3.0  "
      ]
     },
     "execution_count": 122,
     "metadata": {},
     "output_type": "execute_result"
    }
   ],
   "source": [
    "Boston.columns = ['datetime', 'pressure', 'humidity', 'temperature', 'weather', 'wind direction', 'wind speed']\n",
    "Boston.head()"
   ]
  },
  {
   "cell_type": "code",
   "execution_count": 123,
   "id": "2861662f",
   "metadata": {},
   "outputs": [],
   "source": [
    "for i in Boston[Boston['weather'] != 'sky is clear']['weather'].unique():\n",
    "     Boston[Boston['weather'] != 'sky is clear'] = Boston[Boston['weather'] != 'sky is clear'].replace({'weather': i}, value = 'sky is not clear')"
   ]
  },
  {
   "cell_type": "code",
   "execution_count": 124,
   "id": "646a9772",
   "metadata": {},
   "outputs": [
    {
     "data": {
      "text/plain": [
       "sky is not clear    27809\n",
       "sky is clear        17444\n",
       "Name: weather, dtype: int64"
      ]
     },
     "execution_count": 124,
     "metadata": {},
     "output_type": "execute_result"
    }
   ],
   "source": [
    "Boston['weather'].value_counts()"
   ]
  },
  {
   "cell_type": "code",
   "execution_count": 161,
   "id": "72b41e02",
   "metadata": {},
   "outputs": [],
   "source": [
    "compression_opts = dict(method='zip', archive_name='Boston.csv')  \n",
    "Boston.to_csv('Boston.zip', index = False, compression = compression_opts)"
   ]
  },
  {
   "cell_type": "markdown",
   "id": "63e45967",
   "metadata": {},
   "source": [
    "### Beersheba"
   ]
  },
  {
   "cell_type": "code",
   "execution_count": 125,
   "id": "0e5acedb",
   "metadata": {},
   "outputs": [],
   "source": [
    "Beersheba = (pressure[['datetime', 'Beersheba']].merge(humidity[['datetime', 'Beersheba']], on = 'datetime')\n",
    "           .merge(temperature[['datetime', 'Beersheba']], on = 'datetime').merge(weather[['datetime', 'Beersheba']], on = 'datetime').merge(wind_dir[['datetime', 'Chicago']], on = 'datetime')\n",
    "           .merge(wind_speed[['datetime', 'Beersheba']], on = 'datetime'))"
   ]
  },
  {
   "cell_type": "code",
   "execution_count": 126,
   "id": "a3d98de2",
   "metadata": {},
   "outputs": [
    {
     "data": {
      "text/html": [
       "<div>\n",
       "<style scoped>\n",
       "    .dataframe tbody tr th:only-of-type {\n",
       "        vertical-align: middle;\n",
       "    }\n",
       "\n",
       "    .dataframe tbody tr th {\n",
       "        vertical-align: top;\n",
       "    }\n",
       "\n",
       "    .dataframe thead th {\n",
       "        text-align: right;\n",
       "    }\n",
       "</style>\n",
       "<table border=\"1\" class=\"dataframe\">\n",
       "  <thead>\n",
       "    <tr style=\"text-align: right;\">\n",
       "      <th></th>\n",
       "      <th>datetime</th>\n",
       "      <th>pressure</th>\n",
       "      <th>humidity</th>\n",
       "      <th>temperature</th>\n",
       "      <th>weather</th>\n",
       "      <th>wind direction</th>\n",
       "      <th>wind speed</th>\n",
       "    </tr>\n",
       "  </thead>\n",
       "  <tbody>\n",
       "    <tr>\n",
       "      <th>0</th>\n",
       "      <td>2012-10-01 12:00:00</td>\n",
       "      <td>NaN</td>\n",
       "      <td>NaN</td>\n",
       "      <td>NaN</td>\n",
       "      <td>NaN</td>\n",
       "      <td>NaN</td>\n",
       "      <td>NaN</td>\n",
       "    </tr>\n",
       "    <tr>\n",
       "      <th>1</th>\n",
       "      <td>2012-10-01 13:00:00</td>\n",
       "      <td>984.0</td>\n",
       "      <td>50.0</td>\n",
       "      <td>307.590000</td>\n",
       "      <td>sky is clear</td>\n",
       "      <td>0.0</td>\n",
       "      <td>1.0</td>\n",
       "    </tr>\n",
       "    <tr>\n",
       "      <th>2</th>\n",
       "      <td>2012-10-01 14:00:00</td>\n",
       "      <td>984.0</td>\n",
       "      <td>51.0</td>\n",
       "      <td>307.590000</td>\n",
       "      <td>sky is clear</td>\n",
       "      <td>0.0</td>\n",
       "      <td>3.0</td>\n",
       "    </tr>\n",
       "    <tr>\n",
       "      <th>3</th>\n",
       "      <td>2012-10-01 15:00:00</td>\n",
       "      <td>984.0</td>\n",
       "      <td>51.0</td>\n",
       "      <td>307.391513</td>\n",
       "      <td>overcast clouds</td>\n",
       "      <td>0.0</td>\n",
       "      <td>3.0</td>\n",
       "    </tr>\n",
       "    <tr>\n",
       "      <th>4</th>\n",
       "      <td>2012-10-01 16:00:00</td>\n",
       "      <td>984.0</td>\n",
       "      <td>52.0</td>\n",
       "      <td>307.145200</td>\n",
       "      <td>overcast clouds</td>\n",
       "      <td>0.0</td>\n",
       "      <td>3.0</td>\n",
       "    </tr>\n",
       "  </tbody>\n",
       "</table>\n",
       "</div>"
      ],
      "text/plain": [
       "              datetime  pressure  humidity  temperature          weather  \\\n",
       "0  2012-10-01 12:00:00       NaN       NaN          NaN              NaN   \n",
       "1  2012-10-01 13:00:00     984.0      50.0   307.590000     sky is clear   \n",
       "2  2012-10-01 14:00:00     984.0      51.0   307.590000     sky is clear   \n",
       "3  2012-10-01 15:00:00     984.0      51.0   307.391513  overcast clouds   \n",
       "4  2012-10-01 16:00:00     984.0      52.0   307.145200  overcast clouds   \n",
       "\n",
       "   wind direction  wind speed  \n",
       "0             NaN         NaN  \n",
       "1             0.0         1.0  \n",
       "2             0.0         3.0  \n",
       "3             0.0         3.0  \n",
       "4             0.0         3.0  "
      ]
     },
     "execution_count": 126,
     "metadata": {},
     "output_type": "execute_result"
    }
   ],
   "source": [
    "Beersheba.columns = ['datetime', 'pressure', 'humidity', 'temperature', 'weather', 'wind direction', 'wind speed']\n",
    "Beersheba.head()"
   ]
  },
  {
   "cell_type": "code",
   "execution_count": 127,
   "id": "9e638404",
   "metadata": {},
   "outputs": [],
   "source": [
    "for i in Beersheba[Beersheba['weather'] != 'sky is clear']['weather'].unique():\n",
    "     Beersheba[Beersheba['weather'] != 'sky is clear'] = Beersheba[Beersheba['weather'] != 'sky is clear'].replace({'weather': i}, value = 'sky is not clear')"
   ]
  },
  {
   "cell_type": "code",
   "execution_count": 128,
   "id": "bf8cf81a",
   "metadata": {},
   "outputs": [
    {
     "data": {
      "text/plain": [
       "sky is clear        29442\n",
       "sky is not clear    15811\n",
       "Name: weather, dtype: int64"
      ]
     },
     "execution_count": 128,
     "metadata": {},
     "output_type": "execute_result"
    }
   ],
   "source": [
    "Beersheba['weather'].value_counts()"
   ]
  },
  {
   "cell_type": "code",
   "execution_count": 160,
   "id": "e3d66b0b",
   "metadata": {},
   "outputs": [],
   "source": [
    "compression_opts = dict(method='zip', archive_name='Beersheba.csv')  \n",
    "Beersheba.to_csv('Beersheba.zip', index = False, compression = compression_opts)"
   ]
  },
  {
   "cell_type": "markdown",
   "id": "c3da1d23",
   "metadata": {},
   "source": [
    "### Tel-Aviv"
   ]
  },
  {
   "cell_type": "code",
   "execution_count": 129,
   "id": "8c6a0302",
   "metadata": {},
   "outputs": [],
   "source": [
    "Tel_Aviv = (pressure[['datetime', 'Tel Aviv District']].merge(humidity[['datetime', 'Tel Aviv District']], on = 'datetime')\n",
    "           .merge(temperature[['datetime', 'Tel Aviv District']], on = 'datetime').merge(weather[['datetime', 'Tel Aviv District']], on = 'datetime').merge(wind_dir[['datetime', 'Chicago']], on = 'datetime')\n",
    "           .merge(wind_speed[['datetime', 'Tel Aviv District']], on = 'datetime'))"
   ]
  },
  {
   "cell_type": "code",
   "execution_count": 130,
   "id": "22997e3b",
   "metadata": {},
   "outputs": [
    {
     "data": {
      "text/html": [
       "<div>\n",
       "<style scoped>\n",
       "    .dataframe tbody tr th:only-of-type {\n",
       "        vertical-align: middle;\n",
       "    }\n",
       "\n",
       "    .dataframe tbody tr th {\n",
       "        vertical-align: top;\n",
       "    }\n",
       "\n",
       "    .dataframe thead th {\n",
       "        text-align: right;\n",
       "    }\n",
       "</style>\n",
       "<table border=\"1\" class=\"dataframe\">\n",
       "  <thead>\n",
       "    <tr style=\"text-align: right;\">\n",
       "      <th></th>\n",
       "      <th>datetime</th>\n",
       "      <th>pressure</th>\n",
       "      <th>humidity</th>\n",
       "      <th>temperature</th>\n",
       "      <th>weather</th>\n",
       "      <th>wind direction</th>\n",
       "      <th>wind speed</th>\n",
       "    </tr>\n",
       "  </thead>\n",
       "  <tbody>\n",
       "    <tr>\n",
       "      <th>0</th>\n",
       "      <td>2012-10-01 12:00:00</td>\n",
       "      <td>NaN</td>\n",
       "      <td>NaN</td>\n",
       "      <td>NaN</td>\n",
       "      <td>NaN</td>\n",
       "      <td>NaN</td>\n",
       "      <td>NaN</td>\n",
       "    </tr>\n",
       "    <tr>\n",
       "      <th>1</th>\n",
       "      <td>2012-10-01 13:00:00</td>\n",
       "      <td>1012.0</td>\n",
       "      <td>63.0</td>\n",
       "      <td>305.470000</td>\n",
       "      <td>sky is clear</td>\n",
       "      <td>0.0</td>\n",
       "      <td>0.0</td>\n",
       "    </tr>\n",
       "    <tr>\n",
       "      <th>2</th>\n",
       "      <td>2012-10-01 14:00:00</td>\n",
       "      <td>1012.0</td>\n",
       "      <td>62.0</td>\n",
       "      <td>304.310000</td>\n",
       "      <td>sky is clear</td>\n",
       "      <td>0.0</td>\n",
       "      <td>0.0</td>\n",
       "    </tr>\n",
       "    <tr>\n",
       "      <th>3</th>\n",
       "      <td>2012-10-01 15:00:00</td>\n",
       "      <td>1012.0</td>\n",
       "      <td>62.0</td>\n",
       "      <td>304.281841</td>\n",
       "      <td>sky is clear</td>\n",
       "      <td>0.0</td>\n",
       "      <td>0.0</td>\n",
       "    </tr>\n",
       "    <tr>\n",
       "      <th>4</th>\n",
       "      <td>2012-10-01 16:00:00</td>\n",
       "      <td>1012.0</td>\n",
       "      <td>62.0</td>\n",
       "      <td>304.238015</td>\n",
       "      <td>sky is clear</td>\n",
       "      <td>0.0</td>\n",
       "      <td>0.0</td>\n",
       "    </tr>\n",
       "  </tbody>\n",
       "</table>\n",
       "</div>"
      ],
      "text/plain": [
       "              datetime  pressure  humidity  temperature       weather  \\\n",
       "0  2012-10-01 12:00:00       NaN       NaN          NaN           NaN   \n",
       "1  2012-10-01 13:00:00    1012.0      63.0   305.470000  sky is clear   \n",
       "2  2012-10-01 14:00:00    1012.0      62.0   304.310000  sky is clear   \n",
       "3  2012-10-01 15:00:00    1012.0      62.0   304.281841  sky is clear   \n",
       "4  2012-10-01 16:00:00    1012.0      62.0   304.238015  sky is clear   \n",
       "\n",
       "   wind direction  wind speed  \n",
       "0             NaN         NaN  \n",
       "1             0.0         0.0  \n",
       "2             0.0         0.0  \n",
       "3             0.0         0.0  \n",
       "4             0.0         0.0  "
      ]
     },
     "execution_count": 130,
     "metadata": {},
     "output_type": "execute_result"
    }
   ],
   "source": [
    "Tel_Aviv.columns = ['datetime', 'pressure', 'humidity', 'temperature', 'weather', 'wind direction', 'wind speed']\n",
    "Tel_Aviv.head()"
   ]
  },
  {
   "cell_type": "code",
   "execution_count": 131,
   "id": "cec767b4",
   "metadata": {},
   "outputs": [],
   "source": [
    "for i in Tel_Aviv[Tel_Aviv['weather'] != 'sky is clear']['weather'].unique():\n",
    "     Tel_Aviv[Tel_Aviv['weather'] != 'sky is clear'] = Tel_Aviv[Tel_Aviv['weather'] != 'sky is clear'].replace({'weather': i}, value = 'sky is not clear')"
   ]
  },
  {
   "cell_type": "code",
   "execution_count": 132,
   "id": "c03e7cbb",
   "metadata": {},
   "outputs": [
    {
     "data": {
      "text/plain": [
       "sky is not clear    23514\n",
       "sky is clear        21739\n",
       "Name: weather, dtype: int64"
      ]
     },
     "execution_count": 132,
     "metadata": {},
     "output_type": "execute_result"
    }
   ],
   "source": [
    "Tel_Aviv['weather'].value_counts()"
   ]
  },
  {
   "cell_type": "code",
   "execution_count": 159,
   "id": "9fdf8239",
   "metadata": {},
   "outputs": [],
   "source": [
    "compression_opts = dict(method='zip', archive_name='Tel_Aviv.csv')  \n",
    "Tel_Aviv.to_csv('Tel_Aviv.zip', index = False, compression = compression_opts)"
   ]
  },
  {
   "cell_type": "markdown",
   "id": "52956510",
   "metadata": {},
   "source": [
    "### Eilat"
   ]
  },
  {
   "cell_type": "code",
   "execution_count": 133,
   "id": "119cc042",
   "metadata": {},
   "outputs": [],
   "source": [
    "Eilat = (pressure[['datetime', 'Eilat']].merge(humidity[['datetime', 'Eilat']], on = 'datetime')\n",
    "           .merge(temperature[['datetime', 'Eilat']], on = 'datetime').merge(weather[['datetime', 'Eilat']], on = 'datetime').merge(wind_dir[['datetime', 'Chicago']], on = 'datetime')\n",
    "           .merge(wind_speed[['datetime', 'Eilat']], on = 'datetime'))"
   ]
  },
  {
   "cell_type": "code",
   "execution_count": 135,
   "id": "10063ac9",
   "metadata": {},
   "outputs": [
    {
     "data": {
      "text/html": [
       "<div>\n",
       "<style scoped>\n",
       "    .dataframe tbody tr th:only-of-type {\n",
       "        vertical-align: middle;\n",
       "    }\n",
       "\n",
       "    .dataframe tbody tr th {\n",
       "        vertical-align: top;\n",
       "    }\n",
       "\n",
       "    .dataframe thead th {\n",
       "        text-align: right;\n",
       "    }\n",
       "</style>\n",
       "<table border=\"1\" class=\"dataframe\">\n",
       "  <thead>\n",
       "    <tr style=\"text-align: right;\">\n",
       "      <th></th>\n",
       "      <th>datetime</th>\n",
       "      <th>pressure</th>\n",
       "      <th>humidity</th>\n",
       "      <th>temperature</th>\n",
       "      <th>weather</th>\n",
       "      <th>wind direction</th>\n",
       "      <th>wind speed</th>\n",
       "    </tr>\n",
       "  </thead>\n",
       "  <tbody>\n",
       "    <tr>\n",
       "      <th>0</th>\n",
       "      <td>2012-10-01 12:00:00</td>\n",
       "      <td>1011.0</td>\n",
       "      <td>25.0</td>\n",
       "      <td>309.100000</td>\n",
       "      <td>haze</td>\n",
       "      <td>NaN</td>\n",
       "      <td>8.0</td>\n",
       "    </tr>\n",
       "    <tr>\n",
       "      <th>1</th>\n",
       "      <td>2012-10-01 13:00:00</td>\n",
       "      <td>1010.0</td>\n",
       "      <td>22.0</td>\n",
       "      <td>310.580000</td>\n",
       "      <td>haze</td>\n",
       "      <td>0.0</td>\n",
       "      <td>8.0</td>\n",
       "    </tr>\n",
       "    <tr>\n",
       "      <th>2</th>\n",
       "      <td>2012-10-01 14:00:00</td>\n",
       "      <td>1010.0</td>\n",
       "      <td>22.0</td>\n",
       "      <td>310.495769</td>\n",
       "      <td>broken clouds</td>\n",
       "      <td>0.0</td>\n",
       "      <td>8.0</td>\n",
       "    </tr>\n",
       "    <tr>\n",
       "      <th>3</th>\n",
       "      <td>2012-10-01 15:00:00</td>\n",
       "      <td>1010.0</td>\n",
       "      <td>22.0</td>\n",
       "      <td>310.411538</td>\n",
       "      <td>broken clouds</td>\n",
       "      <td>0.0</td>\n",
       "      <td>8.0</td>\n",
       "    </tr>\n",
       "    <tr>\n",
       "      <th>4</th>\n",
       "      <td>2012-10-01 16:00:00</td>\n",
       "      <td>1010.0</td>\n",
       "      <td>22.0</td>\n",
       "      <td>310.327308</td>\n",
       "      <td>broken clouds</td>\n",
       "      <td>0.0</td>\n",
       "      <td>8.0</td>\n",
       "    </tr>\n",
       "  </tbody>\n",
       "</table>\n",
       "</div>"
      ],
      "text/plain": [
       "              datetime  pressure  humidity  temperature        weather  \\\n",
       "0  2012-10-01 12:00:00    1011.0      25.0   309.100000           haze   \n",
       "1  2012-10-01 13:00:00    1010.0      22.0   310.580000           haze   \n",
       "2  2012-10-01 14:00:00    1010.0      22.0   310.495769  broken clouds   \n",
       "3  2012-10-01 15:00:00    1010.0      22.0   310.411538  broken clouds   \n",
       "4  2012-10-01 16:00:00    1010.0      22.0   310.327308  broken clouds   \n",
       "\n",
       "   wind direction  wind speed  \n",
       "0             NaN         8.0  \n",
       "1             0.0         8.0  \n",
       "2             0.0         8.0  \n",
       "3             0.0         8.0  \n",
       "4             0.0         8.0  "
      ]
     },
     "execution_count": 135,
     "metadata": {},
     "output_type": "execute_result"
    }
   ],
   "source": [
    "Eilat.columns = ['datetime', 'pressure', 'humidity', 'temperature', 'weather', 'wind direction', 'wind speed']\n",
    "Eilat.head()"
   ]
  },
  {
   "cell_type": "code",
   "execution_count": 136,
   "id": "3ce8f328",
   "metadata": {},
   "outputs": [],
   "source": [
    "for i in Eilat[Eilat['weather'] != 'sky is clear']['weather'].unique():\n",
    "     Eilat[Eilat['weather'] != 'sky is clear'] = Eilat[Eilat['weather'] != 'sky is clear'].replace({'weather': i}, value = 'sky is not clear')"
   ]
  },
  {
   "cell_type": "code",
   "execution_count": 137,
   "id": "1fcd29b3",
   "metadata": {},
   "outputs": [
    {
     "data": {
      "text/plain": [
       "sky is clear        37320\n",
       "sky is not clear     7933\n",
       "Name: weather, dtype: int64"
      ]
     },
     "execution_count": 137,
     "metadata": {},
     "output_type": "execute_result"
    }
   ],
   "source": [
    "Eilat['weather'].value_counts()"
   ]
  },
  {
   "cell_type": "code",
   "execution_count": 158,
   "id": "2ca4ee70",
   "metadata": {},
   "outputs": [],
   "source": [
    "compression_opts = dict(method='zip', archive_name='Eilat.csv')  \n",
    "Eilat.to_csv('Eilat.zip', index = False, compression = compression_opts)"
   ]
  },
  {
   "cell_type": "markdown",
   "id": "090fbe0d",
   "metadata": {},
   "source": [
    "### Haifa"
   ]
  },
  {
   "cell_type": "code",
   "execution_count": 138,
   "id": "b09dd394",
   "metadata": {},
   "outputs": [],
   "source": [
    "Haifa = (pressure[['datetime', 'Haifa']].merge(humidity[['datetime', 'Haifa']], on = 'datetime')\n",
    "           .merge(temperature[['datetime', 'Haifa']], on = 'datetime').merge(weather[['datetime', 'Haifa']], on = 'datetime').merge(wind_dir[['datetime', 'Chicago']], on = 'datetime')\n",
    "           .merge(wind_speed[['datetime', 'Haifa']], on = 'datetime'))"
   ]
  },
  {
   "cell_type": "code",
   "execution_count": 139,
   "id": "dd016b0c",
   "metadata": {},
   "outputs": [
    {
     "data": {
      "text/html": [
       "<div>\n",
       "<style scoped>\n",
       "    .dataframe tbody tr th:only-of-type {\n",
       "        vertical-align: middle;\n",
       "    }\n",
       "\n",
       "    .dataframe tbody tr th {\n",
       "        vertical-align: top;\n",
       "    }\n",
       "\n",
       "    .dataframe thead th {\n",
       "        text-align: right;\n",
       "    }\n",
       "</style>\n",
       "<table border=\"1\" class=\"dataframe\">\n",
       "  <thead>\n",
       "    <tr style=\"text-align: right;\">\n",
       "      <th></th>\n",
       "      <th>datetime</th>\n",
       "      <th>pressure</th>\n",
       "      <th>humidity</th>\n",
       "      <th>temperature</th>\n",
       "      <th>weather</th>\n",
       "      <th>wind direction</th>\n",
       "      <th>wind speed</th>\n",
       "    </tr>\n",
       "  </thead>\n",
       "  <tbody>\n",
       "    <tr>\n",
       "      <th>0</th>\n",
       "      <td>2012-10-01 12:00:00</td>\n",
       "      <td>NaN</td>\n",
       "      <td>NaN</td>\n",
       "      <td>NaN</td>\n",
       "      <td>NaN</td>\n",
       "      <td>NaN</td>\n",
       "      <td>NaN</td>\n",
       "    </tr>\n",
       "    <tr>\n",
       "      <th>1</th>\n",
       "      <td>2012-10-01 13:00:00</td>\n",
       "      <td>1013.0</td>\n",
       "      <td>51.0</td>\n",
       "      <td>304.4</td>\n",
       "      <td>sky is clear</td>\n",
       "      <td>0.0</td>\n",
       "      <td>2.0</td>\n",
       "    </tr>\n",
       "    <tr>\n",
       "      <th>2</th>\n",
       "      <td>2012-10-01 14:00:00</td>\n",
       "      <td>1013.0</td>\n",
       "      <td>51.0</td>\n",
       "      <td>304.4</td>\n",
       "      <td>overcast clouds</td>\n",
       "      <td>0.0</td>\n",
       "      <td>2.0</td>\n",
       "    </tr>\n",
       "    <tr>\n",
       "      <th>3</th>\n",
       "      <td>2012-10-01 15:00:00</td>\n",
       "      <td>1013.0</td>\n",
       "      <td>51.0</td>\n",
       "      <td>304.4</td>\n",
       "      <td>overcast clouds</td>\n",
       "      <td>0.0</td>\n",
       "      <td>2.0</td>\n",
       "    </tr>\n",
       "    <tr>\n",
       "      <th>4</th>\n",
       "      <td>2012-10-01 16:00:00</td>\n",
       "      <td>1013.0</td>\n",
       "      <td>51.0</td>\n",
       "      <td>304.4</td>\n",
       "      <td>overcast clouds</td>\n",
       "      <td>0.0</td>\n",
       "      <td>2.0</td>\n",
       "    </tr>\n",
       "  </tbody>\n",
       "</table>\n",
       "</div>"
      ],
      "text/plain": [
       "              datetime  pressure  humidity  temperature          weather  \\\n",
       "0  2012-10-01 12:00:00       NaN       NaN          NaN              NaN   \n",
       "1  2012-10-01 13:00:00    1013.0      51.0        304.4     sky is clear   \n",
       "2  2012-10-01 14:00:00    1013.0      51.0        304.4  overcast clouds   \n",
       "3  2012-10-01 15:00:00    1013.0      51.0        304.4  overcast clouds   \n",
       "4  2012-10-01 16:00:00    1013.0      51.0        304.4  overcast clouds   \n",
       "\n",
       "   wind direction  wind speed  \n",
       "0             NaN         NaN  \n",
       "1             0.0         2.0  \n",
       "2             0.0         2.0  \n",
       "3             0.0         2.0  \n",
       "4             0.0         2.0  "
      ]
     },
     "execution_count": 139,
     "metadata": {},
     "output_type": "execute_result"
    }
   ],
   "source": [
    "Haifa.columns = ['datetime', 'pressure', 'humidity', 'temperature', 'weather', 'wind direction', 'wind speed']\n",
    "Haifa.head()"
   ]
  },
  {
   "cell_type": "code",
   "execution_count": 141,
   "id": "0af1602f",
   "metadata": {},
   "outputs": [],
   "source": [
    "for i in Haifa[Haifa['weather'] != 'sky is clear']['weather'].unique():\n",
    "     Haifa[Haifa['weather'] != 'sky is clear'] = Haifa[Haifa['weather'] != 'sky is clear'].replace({'weather': i}, value = 'sky is not clear')"
   ]
  },
  {
   "cell_type": "code",
   "execution_count": 142,
   "id": "37259b38",
   "metadata": {},
   "outputs": [
    {
     "data": {
      "text/plain": [
       "sky is clear        25587\n",
       "sky is not clear    19666\n",
       "Name: weather, dtype: int64"
      ]
     },
     "execution_count": 142,
     "metadata": {},
     "output_type": "execute_result"
    }
   ],
   "source": [
    "Haifa['weather'].value_counts()"
   ]
  },
  {
   "cell_type": "code",
   "execution_count": 157,
   "id": "5d0a4a9f",
   "metadata": {},
   "outputs": [],
   "source": [
    "compression_opts = dict(method='zip', archive_name='Haifa.csv')  \n",
    "Haifa.to_csv('Haifa.zip', index = False, compression = compression_opts)"
   ]
  },
  {
   "cell_type": "markdown",
   "id": "b9536022",
   "metadata": {},
   "source": [
    "### Nahariyya"
   ]
  },
  {
   "cell_type": "code",
   "execution_count": 143,
   "id": "3610468e",
   "metadata": {},
   "outputs": [],
   "source": [
    "Nahariyya = (pressure[['datetime', 'Nahariyya']].merge(humidity[['datetime', 'Nahariyya']], on = 'datetime')\n",
    "           .merge(temperature[['datetime', 'Nahariyya']], on = 'datetime').merge(weather[['datetime', 'Nahariyya']], on = 'datetime').merge(wind_dir[['datetime', 'Chicago']], on = 'datetime')\n",
    "           .merge(wind_speed[['datetime', 'Nahariyya']], on = 'datetime'))"
   ]
  },
  {
   "cell_type": "code",
   "execution_count": 144,
   "id": "0bd6bef6",
   "metadata": {},
   "outputs": [
    {
     "data": {
      "text/html": [
       "<div>\n",
       "<style scoped>\n",
       "    .dataframe tbody tr th:only-of-type {\n",
       "        vertical-align: middle;\n",
       "    }\n",
       "\n",
       "    .dataframe tbody tr th {\n",
       "        vertical-align: top;\n",
       "    }\n",
       "\n",
       "    .dataframe thead th {\n",
       "        text-align: right;\n",
       "    }\n",
       "</style>\n",
       "<table border=\"1\" class=\"dataframe\">\n",
       "  <thead>\n",
       "    <tr style=\"text-align: right;\">\n",
       "      <th></th>\n",
       "      <th>datetime</th>\n",
       "      <th>pressure</th>\n",
       "      <th>humidity</th>\n",
       "      <th>temperature</th>\n",
       "      <th>weather</th>\n",
       "      <th>wind direction</th>\n",
       "      <th>wind speed</th>\n",
       "    </tr>\n",
       "  </thead>\n",
       "  <tbody>\n",
       "    <tr>\n",
       "      <th>0</th>\n",
       "      <td>2012-10-01 12:00:00</td>\n",
       "      <td>NaN</td>\n",
       "      <td>NaN</td>\n",
       "      <td>NaN</td>\n",
       "      <td>NaN</td>\n",
       "      <td>NaN</td>\n",
       "      <td>NaN</td>\n",
       "    </tr>\n",
       "    <tr>\n",
       "      <th>1</th>\n",
       "      <td>2012-10-01 13:00:00</td>\n",
       "      <td>1013.0</td>\n",
       "      <td>51.0</td>\n",
       "      <td>304.4</td>\n",
       "      <td>sky is clear</td>\n",
       "      <td>0.0</td>\n",
       "      <td>2.0</td>\n",
       "    </tr>\n",
       "    <tr>\n",
       "      <th>2</th>\n",
       "      <td>2012-10-01 14:00:00</td>\n",
       "      <td>1013.0</td>\n",
       "      <td>51.0</td>\n",
       "      <td>304.4</td>\n",
       "      <td>sky is clear</td>\n",
       "      <td>0.0</td>\n",
       "      <td>2.0</td>\n",
       "    </tr>\n",
       "    <tr>\n",
       "      <th>3</th>\n",
       "      <td>2012-10-01 15:00:00</td>\n",
       "      <td>1013.0</td>\n",
       "      <td>51.0</td>\n",
       "      <td>304.4</td>\n",
       "      <td>overcast clouds</td>\n",
       "      <td>0.0</td>\n",
       "      <td>2.0</td>\n",
       "    </tr>\n",
       "    <tr>\n",
       "      <th>4</th>\n",
       "      <td>2012-10-01 16:00:00</td>\n",
       "      <td>1013.0</td>\n",
       "      <td>51.0</td>\n",
       "      <td>304.4</td>\n",
       "      <td>overcast clouds</td>\n",
       "      <td>0.0</td>\n",
       "      <td>2.0</td>\n",
       "    </tr>\n",
       "  </tbody>\n",
       "</table>\n",
       "</div>"
      ],
      "text/plain": [
       "              datetime  pressure  humidity  temperature          weather  \\\n",
       "0  2012-10-01 12:00:00       NaN       NaN          NaN              NaN   \n",
       "1  2012-10-01 13:00:00    1013.0      51.0        304.4     sky is clear   \n",
       "2  2012-10-01 14:00:00    1013.0      51.0        304.4     sky is clear   \n",
       "3  2012-10-01 15:00:00    1013.0      51.0        304.4  overcast clouds   \n",
       "4  2012-10-01 16:00:00    1013.0      51.0        304.4  overcast clouds   \n",
       "\n",
       "   wind direction  wind speed  \n",
       "0             NaN         NaN  \n",
       "1             0.0         2.0  \n",
       "2             0.0         2.0  \n",
       "3             0.0         2.0  \n",
       "4             0.0         2.0  "
      ]
     },
     "execution_count": 144,
     "metadata": {},
     "output_type": "execute_result"
    }
   ],
   "source": [
    "Nahariyya.columns = ['datetime', 'pressure', 'humidity', 'temperature', 'weather', 'wind direction', 'wind speed']\n",
    "Nahariyya.head()"
   ]
  },
  {
   "cell_type": "code",
   "execution_count": 145,
   "id": "dc7b8d96",
   "metadata": {},
   "outputs": [],
   "source": [
    "for i in Nahariyya[Nahariyya['weather'] != 'sky is clear']['weather'].unique():\n",
    "     Nahariyya[Nahariyya['weather'] != 'sky is clear'] = Nahariyya[Nahariyya['weather'] != 'sky is clear'].replace({'weather': i}, value = 'sky is not clear')"
   ]
  },
  {
   "cell_type": "code",
   "execution_count": 146,
   "id": "5b13cd28",
   "metadata": {},
   "outputs": [
    {
     "data": {
      "text/plain": [
       "sky is clear        25516\n",
       "sky is not clear    19737\n",
       "Name: weather, dtype: int64"
      ]
     },
     "execution_count": 146,
     "metadata": {},
     "output_type": "execute_result"
    }
   ],
   "source": [
    "Nahariyya['weather'].value_counts()"
   ]
  },
  {
   "cell_type": "code",
   "execution_count": 156,
   "id": "248208aa",
   "metadata": {},
   "outputs": [],
   "source": [
    "compression_opts = dict(method='zip', archive_name='Nahariyya.csv')  \n",
    "Nahariyya.to_csv('Nahariyya.zip', index = False, compression = compression_opts)"
   ]
  },
  {
   "cell_type": "markdown",
   "id": "105e95a2",
   "metadata": {},
   "source": [
    "### Jerusalem"
   ]
  },
  {
   "cell_type": "code",
   "execution_count": 147,
   "id": "47aac679",
   "metadata": {},
   "outputs": [],
   "source": [
    "Jerusalem = (pressure[['datetime', 'Jerusalem']].merge(humidity[['datetime', 'Jerusalem']], on = 'datetime')\n",
    "           .merge(temperature[['datetime', 'Jerusalem']], on = 'datetime').merge(weather[['datetime', 'Jerusalem']], on = 'datetime').merge(wind_dir[['datetime', 'Chicago']], on = 'datetime')\n",
    "           .merge(wind_speed[['datetime', 'Jerusalem']], on = 'datetime'))"
   ]
  },
  {
   "cell_type": "code",
   "execution_count": 148,
   "id": "9414cbac",
   "metadata": {},
   "outputs": [
    {
     "data": {
      "text/html": [
       "<div>\n",
       "<style scoped>\n",
       "    .dataframe tbody tr th:only-of-type {\n",
       "        vertical-align: middle;\n",
       "    }\n",
       "\n",
       "    .dataframe tbody tr th {\n",
       "        vertical-align: top;\n",
       "    }\n",
       "\n",
       "    .dataframe thead th {\n",
       "        text-align: right;\n",
       "    }\n",
       "</style>\n",
       "<table border=\"1\" class=\"dataframe\">\n",
       "  <thead>\n",
       "    <tr style=\"text-align: right;\">\n",
       "      <th></th>\n",
       "      <th>datetime</th>\n",
       "      <th>pressure</th>\n",
       "      <th>humidity</th>\n",
       "      <th>temperature</th>\n",
       "      <th>weather</th>\n",
       "      <th>wind direction</th>\n",
       "      <th>wind speed</th>\n",
       "    </tr>\n",
       "  </thead>\n",
       "  <tbody>\n",
       "    <tr>\n",
       "      <th>0</th>\n",
       "      <td>2012-10-01 12:00:00</td>\n",
       "      <td>NaN</td>\n",
       "      <td>NaN</td>\n",
       "      <td>NaN</td>\n",
       "      <td>NaN</td>\n",
       "      <td>NaN</td>\n",
       "      <td>NaN</td>\n",
       "    </tr>\n",
       "    <tr>\n",
       "      <th>1</th>\n",
       "      <td>2012-10-01 13:00:00</td>\n",
       "      <td>990.0</td>\n",
       "      <td>50.0</td>\n",
       "      <td>303.5</td>\n",
       "      <td>sky is clear</td>\n",
       "      <td>0.0</td>\n",
       "      <td>2.0</td>\n",
       "    </tr>\n",
       "    <tr>\n",
       "      <th>2</th>\n",
       "      <td>2012-10-01 14:00:00</td>\n",
       "      <td>990.0</td>\n",
       "      <td>50.0</td>\n",
       "      <td>303.5</td>\n",
       "      <td>overcast clouds</td>\n",
       "      <td>0.0</td>\n",
       "      <td>2.0</td>\n",
       "    </tr>\n",
       "    <tr>\n",
       "      <th>3</th>\n",
       "      <td>2012-10-01 15:00:00</td>\n",
       "      <td>990.0</td>\n",
       "      <td>50.0</td>\n",
       "      <td>303.5</td>\n",
       "      <td>overcast clouds</td>\n",
       "      <td>0.0</td>\n",
       "      <td>2.0</td>\n",
       "    </tr>\n",
       "    <tr>\n",
       "      <th>4</th>\n",
       "      <td>2012-10-01 16:00:00</td>\n",
       "      <td>990.0</td>\n",
       "      <td>50.0</td>\n",
       "      <td>303.5</td>\n",
       "      <td>overcast clouds</td>\n",
       "      <td>0.0</td>\n",
       "      <td>2.0</td>\n",
       "    </tr>\n",
       "  </tbody>\n",
       "</table>\n",
       "</div>"
      ],
      "text/plain": [
       "              datetime  pressure  humidity  temperature          weather  \\\n",
       "0  2012-10-01 12:00:00       NaN       NaN          NaN              NaN   \n",
       "1  2012-10-01 13:00:00     990.0      50.0        303.5     sky is clear   \n",
       "2  2012-10-01 14:00:00     990.0      50.0        303.5  overcast clouds   \n",
       "3  2012-10-01 15:00:00     990.0      50.0        303.5  overcast clouds   \n",
       "4  2012-10-01 16:00:00     990.0      50.0        303.5  overcast clouds   \n",
       "\n",
       "   wind direction  wind speed  \n",
       "0             NaN         NaN  \n",
       "1             0.0         2.0  \n",
       "2             0.0         2.0  \n",
       "3             0.0         2.0  \n",
       "4             0.0         2.0  "
      ]
     },
     "execution_count": 148,
     "metadata": {},
     "output_type": "execute_result"
    }
   ],
   "source": [
    "Jerusalem.columns = ['datetime', 'pressure', 'humidity', 'temperature', 'weather', 'wind direction', 'wind speed']\n",
    "Jerusalem.head()"
   ]
  },
  {
   "cell_type": "code",
   "execution_count": 149,
   "id": "fb4df2b8",
   "metadata": {},
   "outputs": [],
   "source": [
    "for i in Jerusalem[Jerusalem['weather'] != 'sky is clear']['weather'].unique():\n",
    "     Jerusalem[Jerusalem['weather'] != 'sky is clear'] = Jerusalem[Jerusalem['weather'] != 'sky is clear'].replace({'weather': i}, value = 'sky is not clear')"
   ]
  },
  {
   "cell_type": "code",
   "execution_count": 150,
   "id": "3624e0a1",
   "metadata": {},
   "outputs": [
    {
     "data": {
      "text/plain": [
       "sky is clear        26934\n",
       "sky is not clear    18319\n",
       "Name: weather, dtype: int64"
      ]
     },
     "execution_count": 150,
     "metadata": {},
     "output_type": "execute_result"
    }
   ],
   "source": [
    "Jerusalem['weather'].value_counts()"
   ]
  },
  {
   "cell_type": "code",
   "execution_count": 155,
   "id": "acd21895",
   "metadata": {},
   "outputs": [],
   "source": [
    "compression_opts = dict(method='zip', archive_name='Jerusalem.csv')  \n",
    "Jerusalem.to_csv('Jerusalem.zip', index = False, compression = compression_opts)"
   ]
  },
  {
   "cell_type": "code",
   "execution_count": null,
   "id": "6e358c0c",
   "metadata": {},
   "outputs": [],
   "source": []
  }
 ],
 "metadata": {
  "kernelspec": {
   "display_name": "Python 3 (ipykernel)",
   "language": "python",
   "name": "python3"
  },
  "language_info": {
   "codemirror_mode": {
    "name": "ipython",
    "version": 3
   },
   "file_extension": ".py",
   "mimetype": "text/x-python",
   "name": "python",
   "nbconvert_exporter": "python",
   "pygments_lexer": "ipython3",
   "version": "3.9.7"
  }
 },
 "nbformat": 4,
 "nbformat_minor": 5
}
